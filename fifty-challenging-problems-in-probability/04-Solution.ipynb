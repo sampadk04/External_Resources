{
 "cells": [
  {
   "cell_type": "markdown",
   "metadata": {},
   "source": [
    "# Trials Until First Success"
   ]
  },
  {
   "cell_type": "markdown",
   "metadata": {},
   "source": [
    "- *On average, how many times must a die be thrown until one gets a 6?*"
   ]
  },
  {
   "cell_type": "markdown",
   "metadata": {},
   "source": [
    "_____\n",
    "\n",
    "- The probability of rolling a six on the first roll is equal to:\n",
    "\n",
    "$$\n",
    "P(\\text{First 6 on first roll}) = \\frac{1}{6}\n",
    "$$\n",
    "\n",
    "- To get a six on the second roll, we'd need to roll some other number (5 possibilities), then roll a six\n",
    "\n",
    "$$\n",
    "P(\\text{First 6 on second roll}) = \\frac{5}{6}\\frac{1}{6}\n",
    "$$"
   ]
  },
  {
   "cell_type": "markdown",
   "metadata": {},
   "source": [
    "- We can generalize this:\n",
    "\n",
    "$$\n",
    "P(\\text{First 6 on }n^{th}\\text{ roll}) = \\left (\\frac{5}{6} \\right )^{n}\\frac{1}{6}\n",
    "$$"
   ]
  },
  {
   "cell_type": "markdown",
   "metadata": {},
   "source": [
    "- Solving for the expected number of rolls until we get our first 6:\n",
    "\n",
    "$$\n",
    "E(\\text{First 6}) = 1\\cdot\\frac{1}{6} + 2\\cdot\\frac{5}{6}\\frac{1}{6} + 3\\left(\\frac{5}{6}\\right)^{2}\\frac{1}{6} + 4\\left(\\frac{5}{6}\\right)^{3}\\frac{1}{6}+... \\\\\n",
    "= \\frac{1}{6} \\cdot \\sum_{i=1}^{\\infty}i \\cdot \\left (\\frac{5}{6} \\right )^{i-1}\n",
    "$$"
   ]
  },
  {
   "cell_type": "markdown",
   "metadata": {},
   "source": [
    "- We can see that $i$ starts at 1 for this series, but if we set it to 0, the first term is zero so it doesn't matter if we include it..."
   ]
  },
  {
   "cell_type": "markdown",
   "metadata": {},
   "source": [
    "$$\n",
    "= \\frac{1}{6} \\cdot \\sum_{i=0}^{\\infty}i \\cdot \\left (\\frac{5}{6} \\right )^{i-1}\n",
    "$$"
   ]
  },
  {
   "cell_type": "markdown",
   "metadata": {},
   "source": [
    "- The solution for the series (up to $n$) is equal to:\n",
    "\n",
    "$$\n",
    " \\sum_{i=0}^{n}i \\cdot \\left (\\frac{5}{6} \\right )^{i-1} = 6 \\left (6 - \\left (\\frac{5}{6} \\right )^{n}\\cdot (n+6) \\right )\n",
    "$$"
   ]
  },
  {
   "cell_type": "markdown",
   "metadata": {},
   "source": [
    "- Therefore, as $n\\rightarrow \\infty$..."
   ]
  },
  {
   "cell_type": "markdown",
   "metadata": {},
   "source": [
    "$$\n",
    "\\frac{1}{6} \\cdot \\sum_{i=0}^{\\infty}i \\cdot \\left (\\frac{5}{6} \\right )^{i} = \\frac{1}{6} \\cdot 36 = 6\n",
    "$$"
   ]
  },
  {
   "cell_type": "markdown",
   "metadata": {},
   "source": [
    "- Therefore, **we'd expect it to take 6 rolls to get our first 6**"
   ]
  },
  {
   "cell_type": "markdown",
   "metadata": {},
   "source": [
    "______\n",
    "\n",
    "- Let's confirm this result by simulation"
   ]
  },
  {
   "cell_type": "code",
   "execution_count": 1,
   "metadata": {},
   "outputs": [],
   "source": [
    "import numpy as np"
   ]
  },
  {
   "cell_type": "code",
   "execution_count": 2,
   "metadata": {},
   "outputs": [],
   "source": [
    "def sim():\n",
    "    found = False\n",
    "    count = 0\n",
    "    while not found:\n",
    "        count += 1\n",
    "        roll = np.random.randint(1,7)\n",
    "        if roll == 6:\n",
    "            found = True\n",
    "    return count"
   ]
  },
  {
   "cell_type": "code",
   "execution_count": 3,
   "metadata": {
    "scrolled": true
   },
   "outputs": [
    {
     "name": "stdout",
     "output_type": "stream",
     "text": [
      "5.997\n"
     ]
    }
   ],
   "source": [
    "n_trials = 100000\n",
    "total = 0\n",
    "\n",
    "for trial in range(n_trials):\n",
    "    total += sim()\n",
    "    \n",
    "print(total/n_trials)"
   ]
  },
  {
   "cell_type": "markdown",
   "metadata": {},
   "source": [
    "- Eyyyyyyy"
   ]
  }
 ],
 "metadata": {
  "kernelspec": {
   "display_name": "Python 3",
   "language": "python",
   "name": "python3"
  },
  "language_info": {
   "codemirror_mode": {
    "name": "ipython",
    "version": 3
   },
   "file_extension": ".py",
   "mimetype": "text/x-python",
   "name": "python",
   "nbconvert_exporter": "python",
   "pygments_lexer": "ipython3",
   "version": "3.6.5"
  }
 },
 "nbformat": 4,
 "nbformat_minor": 2
}
