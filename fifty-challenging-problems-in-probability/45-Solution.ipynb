{
 "cells": [
  {
   "cell_type": "markdown",
   "metadata": {},
   "source": [
    "# Average Number of Matches\n",
    "\n",
    "- The following are two versions of the matching problem:\n",
    "\n",
    "**a**\n",
    "\n",
    "- From a shuffled deck, cards are laid out on a table one at a time\n",
    "- A second deck is laid out underneath the first so each card has a corresponding card in the first deck\n",
    "\n",
    "*What is the average number of matches?*"
   ]
  },
  {
   "cell_type": "markdown",
   "metadata": {},
   "source": [
    "**b**\n",
    "\n",
    "- A typist types letters and envelopes to $n$ different people\n",
    "- The letters are randomly put into envelopes\n",
    "\n",
    "*On average, how many letters are putinto their correct envelope?*"
   ]
  },
  {
   "cell_type": "markdown",
   "metadata": {},
   "source": [
    "____\n",
    "\n",
    "### a. \n",
    "\n",
    "- Before we get crackin on this problem, we recall an important concept:\n",
    "\n",
    "$$\n",
    "E\\left( \\sum X_{i} \\right) = \\sum E(X_{i})\n",
    "$$"
   ]
  },
  {
   "cell_type": "markdown",
   "metadata": {},
   "source": [
    "- *What does this mean?*\n",
    "    - First, we represent each match as a random variable (whose value is a 0 if the cards don't match, or a 1 if they do), which means the expected number of matches is equal to the expected sum of each random variable\n",
    "    - What is handy about this equation is that instead of calculating the expected sum, we can just take the expected value for each and sum them"
   ]
  },
  {
   "cell_type": "markdown",
   "metadata": {},
   "source": [
    "- If we laid all the cards face down (instead of face up), picked a random pair of cards, and flipped them over to see if they match, what would be the probability that the two cards do in fact match?\n",
    "    - Well since there are 52 cards in the deck, the probability is 1/52\n",
    "        - A second way to calculate this is that there are there are $52\\cdot52$ different ways the cards can be laid out, and $52$ ways a pair can occur so the probability is $52/52^{2} = 1/52$"
   ]
  },
  {
   "cell_type": "markdown",
   "metadata": {},
   "source": [
    "- This is true for all pairs, i.e. $E(X_{i})=1/52$ for pair $i$ where $1\\leq i \\leq 52$"
   ]
  },
  {
   "cell_type": "markdown",
   "metadata": {},
   "source": [
    "- This means that since there are 52 pairs of cards, and the probability of a match for each is 1/52, then:\n",
    "\n",
    "$$\n",
    "(\\text{Expected Number of Matches}) = \\sum E(X_{i}) = 52 \\cdot \\frac{1}{52} = 1\n",
    "$$"
   ]
  },
  {
   "cell_type": "markdown",
   "metadata": {},
   "source": [
    "- Therefore, the expected number of matches is 1"
   ]
  },
  {
   "cell_type": "markdown",
   "metadata": {},
   "source": [
    "____\n",
    "\n",
    "- Let's simulate this problem to tie out to our solution"
   ]
  },
  {
   "cell_type": "code",
   "execution_count": 1,
   "metadata": {},
   "outputs": [],
   "source": [
    "import numpy as np"
   ]
  },
  {
   "cell_type": "code",
   "execution_count": 4,
   "metadata": {},
   "outputs": [
    {
     "data": {
      "text/plain": [
       "1.00085"
      ]
     },
     "execution_count": 4,
     "metadata": {},
     "output_type": "execute_result"
    }
   ],
   "source": [
    "array_deck = np.arange(1, 53)\n",
    "\n",
    "N_trials = 100000\n",
    "list_results = []\n",
    "\n",
    "for trial in range(N_trials):\n",
    "    random_deck_1 = np.random.permutation(array_deck)\n",
    "    random_deck_2 = np.random.permutation(array_deck)\n",
    "    n_matches = np.sum(random_deck_1==random_deck_2)\n",
    "    list_results.append(n_matches)\n",
    "np.mean(list_results)"
   ]
  },
  {
   "cell_type": "markdown",
   "metadata": {},
   "source": [
    "- Eyyyyy"
   ]
  },
  {
   "cell_type": "markdown",
   "metadata": {},
   "source": [
    "____\n",
    "\n",
    "### b. "
   ]
  },
  {
   "cell_type": "markdown",
   "metadata": {},
   "source": [
    "- This is essentially the same problem\n",
    "    - The probability that the two match is $1/n$ so the expected number of matches is:\n",
    "    \n",
    "$$\n",
    "(\\text{Expected Number of Matches}) = \\sum E(X_{i}) = n \\cdot \\frac{1}{n} = 1\n",
    "$$"
   ]
  }
 ],
 "metadata": {
  "kernelspec": {
   "display_name": "Python 3",
   "language": "python",
   "name": "python3"
  },
  "language_info": {
   "codemirror_mode": {
    "name": "ipython",
    "version": 3
   },
   "file_extension": ".py",
   "mimetype": "text/x-python",
   "name": "python",
   "nbconvert_exporter": "python",
   "pygments_lexer": "ipython3",
   "version": "3.6.5"
  }
 },
 "nbformat": 4,
 "nbformat_minor": 2
}
