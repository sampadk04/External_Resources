{
 "cells": [
  {
   "cell_type": "markdown",
   "metadata": {},
   "source": [
    "# An Experiment in Personal Taste for Money\n",
    "\n",
    "**a.**\n",
    "\n",
    "- An urn contains 10 black balls and 10 white balls, identical except for color\n",
    "- You choose \"black\" or \"white\"\n",
    "- One ball is drawn at random, and if its color matches your choice, you get 10 dollars\n",
    "    - Otherwise you get nothing\n",
    "- *What's the maximum you are willing to pay to play the game?*\n",
    "    - **Note**: the game will be played just once\n",
    "\n",
    "**b.**\n",
    "\n",
    "- A friend of yours has available many black and white balls, and he puts black and white balls into the urn to suit himself\n",
    "- You choose \"black\" or \"white\"\n",
    "- A ball is drawn randomly from this urn\n",
    "- *What's the maximum you are willing to pay to play the game?*\n",
    "    - **Note**: the game will be played just once"
   ]
  },
  {
   "cell_type": "markdown",
   "metadata": {},
   "source": [
    "______\n",
    "\n",
    "# a. \n",
    "\n",
    "- The probability of picking the right color is 0.5\n",
    "    - That means our expected payoff is $0.5(0) + 0.5(10) = 5$\n",
    "        - So, if we pay anything more than 5 dollars to play, we expect to lose money\n",
    "        \n",
    "- So, paying 5 dollars is the maximum I'd be willing to pay"
   ]
  },
  {
   "cell_type": "markdown",
   "metadata": {},
   "source": [
    "_____\n",
    "\n",
    "# b.\n",
    "\n",
    "- Let's say that after my friend puts the balls in the urn, the proportion of black balls in the urn is $p_{b}$ and so the proportion of white balls is $p_{w} = 1 - p_{b}$\n",
    "    - Since we randomly choose between white and black, there's a 50/50 chance that we have the advantage\n",
    "    \n",
    "- If we choose black, our expected payoff is $5\\cdot p_{b}$\n",
    "    - If we choose white, our expected payoff is $10 \\cdot (1 - p_{b}) = 10 - 10\\cdot p_{b}$\n",
    "    \n",
    "- Therefore, our overall expected payoff is $0.5(10\\cdot p_{b}) + 0.5 (10 - 10\\cdot p_{b}) = 5$\n",
    "    - In other words, the game doesn't really change\n",
    "    \n",
    "- So, again, paying 5 dollars is the maximum I'd be willing to pay"
   ]
  }
 ],
 "metadata": {
  "kernelspec": {
   "display_name": "Python 3",
   "language": "python",
   "name": "python3"
  },
  "language_info": {
   "codemirror_mode": {
    "name": "ipython",
    "version": 3
   },
   "file_extension": ".py",
   "mimetype": "text/x-python",
   "name": "python",
   "nbconvert_exporter": "python",
   "pygments_lexer": "ipython3",
   "version": "3.6.4"
  }
 },
 "nbformat": 4,
 "nbformat_minor": 2
}
