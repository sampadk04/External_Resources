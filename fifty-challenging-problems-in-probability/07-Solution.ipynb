{
 "cells": [
  {
   "cell_type": "markdown",
   "metadata": {},
   "source": [
    "# Curing the Compulsive Gambler"
   ]
  },
  {
   "cell_type": "markdown",
   "metadata": {},
   "source": [
    "- Mr. Brown always bets a dollar on the number 13 at roulette against the advice of Kind Friend\n",
    "- To help cure Mr. Brown of playing roulette, Kind Friend always bets Brown $20 at even money that Brown will be behind at the end of 36 plays\n",
    "- *How is the cure working?*\n",
    "- (**Note**: Most American roulette wheels have 38 equally likely numbers. If the player's number comes up, he is paid 35 times his stake, plus he gets his original stake back. Otherwise, he loses his stake)"
   ]
  },
  {
   "cell_type": "markdown",
   "metadata": {},
   "source": [
    "_____\n",
    "\n",
    "- The probability of winning any given spin of the wheel is 1/36\n",
    "\n",
    "- If Mr. Brown wins **none** of the 36 spins, he's lost 36 dollars\n",
    "\n",
    "- If he wins **one** of the spins, he's lost 35 dollars on the spins he didn't win and won 35 on the one he did\n",
    "    - Therefore, he breaks even\n",
    "    \n",
    "- This means he has to win only one spin to not be behind (and win the 20 dollars)"
   ]
  },
  {
   "cell_type": "markdown",
   "metadata": {},
   "source": [
    "$$\n",
    "P(\\text{Not being behind}) = 1 - P(\\text{Being behind}) = 1 - \\left (\\frac{37}{38} \\right )^{36} \\approx 0.617\n",
    "$$"
   ]
  },
  {
   "cell_type": "markdown",
   "metadata": {},
   "source": [
    "- This means that the expected payoff from Kind Friend's bet is equal to:\n",
    "\n",
    "$$\n",
    "E(\\text{Profit from Kind Friend's Bet}) = (20)(0.617) + (-20)(1-0.617) = 4.68\n",
    "$$"
   ]
  },
  {
   "cell_type": "markdown",
   "metadata": {},
   "source": [
    "- Now, the expected payoff from the roulette spins is equal to:\n",
    "\n",
    "$$\n",
    "E(\\text{Payoff from 36 spins}) = 36\\cdot E(\\text{Payoff from 1 spin}) \\\\\n",
    "= 36 \\left ((35)\\frac{1}{38} + (-1)\\frac{37}{38} \\right ) = -1.89\n",
    "$$"
   ]
  },
  {
   "cell_type": "markdown",
   "metadata": {},
   "source": [
    "- This means that if we combine the two bets, Mr. Brown will walk away with 4.68 - 1.89 = 2.79 in profit"
   ]
  },
  {
   "cell_type": "markdown",
   "metadata": {},
   "source": [
    "______\n",
    "\n",
    "- Let's simulate this to confirm our result"
   ]
  },
  {
   "cell_type": "code",
   "execution_count": 1,
   "metadata": {},
   "outputs": [],
   "source": [
    "import numpy as np"
   ]
  },
  {
   "cell_type": "code",
   "execution_count": 2,
   "metadata": {},
   "outputs": [],
   "source": [
    "n_trials = 10000000\n",
    "\n",
    "array_wins = np.random.binomial(36, 1/38, size=n_trials)\n",
    "array_kind_friend = (array_wins > 0).astype(int)\n",
    "\n",
    "array_winnings_from_roulette = (-36 + array_wins) + (35*array_wins)\n",
    "array_winnings_from_kind_friend = 20*array_kind_friend - 20*(1-array_kind_friend)\n",
    "\n",
    "total_winnings = array_winnings_from_roulette + array_winnings_from_kind_friend"
   ]
  },
  {
   "cell_type": "code",
   "execution_count": 3,
   "metadata": {},
   "outputs": [
    {
     "data": {
      "text/plain": [
       "2.7907124"
      ]
     },
     "execution_count": 3,
     "metadata": {},
     "output_type": "execute_result"
    }
   ],
   "source": [
    "np.mean(total_winnings)"
   ]
  },
  {
   "cell_type": "markdown",
   "metadata": {},
   "source": [
    "- Eyyyyyy"
   ]
  }
 ],
 "metadata": {
  "kernelspec": {
   "display_name": "Python 3",
   "language": "python",
   "name": "python3"
  },
  "language_info": {
   "codemirror_mode": {
    "name": "ipython",
    "version": 3
   },
   "file_extension": ".py",
   "mimetype": "text/x-python",
   "name": "python",
   "nbconvert_exporter": "python",
   "pygments_lexer": "ipython3",
   "version": "3.6.5"
  }
 },
 "nbformat": 4,
 "nbformat_minor": 2
}
