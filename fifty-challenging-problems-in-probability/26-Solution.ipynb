{
 "cells": [
  {
   "cell_type": "markdown",
   "metadata": {},
   "source": [
    "# The Hurried Duelers\n",
    "\n",
    "- Duels in the town of Discretion are rarely fatal\n",
    "- There, each contestant comes at a random moment between 5am and 6am on the appointed day, and leaves exactly 5 minutes later, honor served, unless his opponent arrives within the time interval and then they fight\n",
    "- *What fraction of duels lead to violence?*"
   ]
  },
  {
   "cell_type": "markdown",
   "metadata": {},
   "source": [
    "_____\n",
    "- For simplicity, we'll consider 5am to be $t=0$ and 6am to be $t=60$\n",
    "- We can think of the times that they arrive as darts being thrown at a measuring tape with 0 at one end and 60 at the other\n",
    "\n",
    "- First, we consider the simple scenario that the first dart thrown lands at point $x$, where $5\\leq x\\leq55$\n",
    "    - Then, the probability that the second dart is within 5 of x is equal to $\\frac{10}{60} =1/6$"
   ]
  },
  {
   "cell_type": "markdown",
   "metadata": {},
   "source": [
    "- Now, if x is between 0 and 5, or between 55 and 60, then we need to modify the range "
   ]
  },
  {
   "cell_type": "markdown",
   "metadata": {},
   "source": [
    "$$\n",
    "P(\\text{Duel}) = \\left\\{\\begin{matrix}\\frac{x+5}{60} & x<5\\\\ \\frac{1}{6} & 5\\leq x\\leq55\\\\ \\frac{60-x}{60} & 55 < x\\end{matrix}\\right.\n",
    "$$"
   ]
  },
  {
   "cell_type": "markdown",
   "metadata": {},
   "source": [
    "- To calculate the overall probability, we need to integrate across 0 to 60 and divide by 60"
   ]
  },
  {
   "cell_type": "markdown",
   "metadata": {},
   "source": [
    "$$\n",
    "\\int_{0}^{5}\\frac{x+5}{60}dx + \\int_{5}^{55}\\frac{1}{6}dx + \\int_{55}^{60}\\frac{60-x}{60}dx\n",
    "$$"
   ]
  },
  {
   "cell_type": "markdown",
   "metadata": {},
   "source": [
    "$$\n",
    "= \\frac{75}{120} + \\frac{50}{6} + \\frac{75}{120} = \\frac{115}{12}\n",
    "$$"
   ]
  },
  {
   "cell_type": "markdown",
   "metadata": {},
   "source": [
    "$$\n",
    "\\implies P(\\text{Duel}) \\approx \\frac{115}{12}\\cdot\\frac{1}{60} = \\frac{23}{144} \\approx 0.1597222\n",
    "$$"
   ]
  },
  {
   "cell_type": "markdown",
   "metadata": {},
   "source": [
    "- Therefore, the fraction of duels that lead to violence is equal to $\\frac{23}{144}$"
   ]
  },
  {
   "cell_type": "markdown",
   "metadata": {},
   "source": [
    "_____\n",
    "\n",
    "- Let's simulate the arrival times to confirm our answer"
   ]
  },
  {
   "cell_type": "code",
   "execution_count": 12,
   "metadata": {},
   "outputs": [],
   "source": [
    "import numpy as np"
   ]
  },
  {
   "cell_type": "code",
   "execution_count": 25,
   "metadata": {},
   "outputs": [],
   "source": [
    "n_trials = 1000000\n",
    "array_arrival_times = 60*np.random.random(size=(n_trials, 2))\n",
    "array_diff = np.abs(np.diff(array_arrival_times))"
   ]
  },
  {
   "cell_type": "code",
   "execution_count": 28,
   "metadata": {},
   "outputs": [
    {
     "data": {
      "text/plain": [
       "0.15956"
      ]
     },
     "execution_count": 28,
     "metadata": {},
     "output_type": "execute_result"
    }
   ],
   "source": [
    "np.mean(array_diff<=5)"
   ]
  },
  {
   "cell_type": "markdown",
   "metadata": {},
   "source": [
    "- Eyyyy"
   ]
  }
 ],
 "metadata": {
  "kernelspec": {
   "display_name": "Python 3",
   "language": "python",
   "name": "python3"
  },
  "language_info": {
   "codemirror_mode": {
    "name": "ipython",
    "version": 3
   },
   "file_extension": ".py",
   "mimetype": "text/x-python",
   "name": "python",
   "nbconvert_exporter": "python",
   "pygments_lexer": "ipython3",
   "version": "3.6.4"
  }
 },
 "nbformat": 4,
 "nbformat_minor": 2
}
