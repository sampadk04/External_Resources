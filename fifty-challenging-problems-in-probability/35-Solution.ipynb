{
 "cells": [
  {
   "cell_type": "markdown",
   "metadata": {},
   "source": [
    "# The Cliff-Hanger\n",
    "\n",
    "- From where he stands, one step toward the cliff would send the drunken man over the edge\n",
    "- He takes random steps, either toward or away from the cliff\n",
    "- At any step his probability of taking a step away is 2/3\n",
    "- *What is his chance of escaping the cliff?*"
   ]
  },
  {
   "cell_type": "markdown",
   "metadata": {},
   "source": [
    "_____\n",
    "\n",
    "- This problem is trickier than it seems at first glance\n",
    "    - First, simulate the walks"
   ]
  },
  {
   "cell_type": "code",
   "execution_count": 1,
   "metadata": {},
   "outputs": [],
   "source": [
    "import matplotlib.pyplot as plt\n",
    "import numpy as np"
   ]
  },
  {
   "cell_type": "code",
   "execution_count": 2,
   "metadata": {},
   "outputs": [],
   "source": [
    "%matplotlib inline\n",
    "plt.rcParams['figure.figsize'] = 10, 10"
   ]
  },
  {
   "cell_type": "code",
   "execution_count": 3,
   "metadata": {},
   "outputs": [
    {
     "name": "stdout",
     "output_type": "stream",
     "text": [
      "max steps = 100; P(Walking off cliff) = 0.49841\n",
      "max steps = 200; P(Walking off cliff) = 0.49832\n",
      "max steps = 500; P(Walking off cliff) = 0.50189\n",
      "max steps = 1000; P(Walking off cliff) = 0.49869\n",
      "max steps = 2000; P(Walking off cliff) = 0.50385\n"
     ]
    }
   ],
   "source": [
    "N_trials = 100000\n",
    "\n",
    "for N_max_steps in [100, 200, 500, 1000, 2000]:\n",
    "    array_random_steps = np.random.choice([-1, 1, 1], \n",
    "                                          size=(N_max_steps, N_trials))\n",
    "    array_walks = np.cumsum(array_random_steps, axis=0)\n",
    "    avg = np.mean(np.min(array_walks, axis=0)<0)\n",
    "    print('max steps = {}; P(Walking off cliff) = {}'.format(N_max_steps, avg))"
   ]
  },
  {
   "cell_type": "markdown",
   "metadata": {},
   "source": [
    "- So, it looks like there's a 50/50 chance of him walking off the cliff\n",
    "    - This is not what I expected"
   ]
  },
  {
   "cell_type": "markdown",
   "metadata": {},
   "source": [
    "- Let's simplify this problem for a moment\n",
    "    - Let's **assume that there is a bed 3 steps away from the cliff**\n",
    "        - **If the drunk man reaches the bed, he passes out on it and is \"home free\" i.e. no longer in danger of walking off the cliff**\n",
    "        \n",
    "- If we treat this walk as a Markov chain, we get the following transition matrix"
   ]
  },
  {
   "cell_type": "code",
   "execution_count": 4,
   "metadata": {},
   "outputs": [],
   "source": [
    "import pandas as pd"
   ]
  },
  {
   "cell_type": "code",
   "execution_count": 6,
   "metadata": {},
   "outputs": [
    {
     "data": {
      "text/html": [
       "<div>\n",
       "<style scoped>\n",
       "    .dataframe tbody tr th:only-of-type {\n",
       "        vertical-align: middle;\n",
       "    }\n",
       "\n",
       "    .dataframe tbody tr th {\n",
       "        vertical-align: top;\n",
       "    }\n",
       "\n",
       "    .dataframe thead th {\n",
       "        text-align: right;\n",
       "    }\n",
       "</style>\n",
       "<table border=\"1\" class=\"dataframe\">\n",
       "  <thead>\n",
       "    <tr style=\"text-align: right;\">\n",
       "      <th></th>\n",
       "      <th>-1</th>\n",
       "      <th>0</th>\n",
       "      <th>1</th>\n",
       "      <th>2</th>\n",
       "      <th>3</th>\n",
       "    </tr>\n",
       "  </thead>\n",
       "  <tbody>\n",
       "    <tr>\n",
       "      <th>-1</th>\n",
       "      <td>1.000000</td>\n",
       "      <td>0.000000</td>\n",
       "      <td>0.000000</td>\n",
       "      <td>0.000000</td>\n",
       "      <td>0.000000</td>\n",
       "    </tr>\n",
       "    <tr>\n",
       "      <th>0</th>\n",
       "      <td>0.333333</td>\n",
       "      <td>0.000000</td>\n",
       "      <td>0.666667</td>\n",
       "      <td>0.000000</td>\n",
       "      <td>0.000000</td>\n",
       "    </tr>\n",
       "    <tr>\n",
       "      <th>1</th>\n",
       "      <td>0.000000</td>\n",
       "      <td>0.333333</td>\n",
       "      <td>0.000000</td>\n",
       "      <td>0.666667</td>\n",
       "      <td>0.000000</td>\n",
       "    </tr>\n",
       "    <tr>\n",
       "      <th>2</th>\n",
       "      <td>0.000000</td>\n",
       "      <td>0.000000</td>\n",
       "      <td>0.333333</td>\n",
       "      <td>0.000000</td>\n",
       "      <td>0.666667</td>\n",
       "    </tr>\n",
       "    <tr>\n",
       "      <th>3</th>\n",
       "      <td>0.000000</td>\n",
       "      <td>0.000000</td>\n",
       "      <td>0.000000</td>\n",
       "      <td>0.000000</td>\n",
       "      <td>1.000000</td>\n",
       "    </tr>\n",
       "  </tbody>\n",
       "</table>\n",
       "</div>"
      ],
      "text/plain": [
       "          -1         0         1         2         3\n",
       "-1  1.000000  0.000000  0.000000  0.000000  0.000000\n",
       " 0  0.333333  0.000000  0.666667  0.000000  0.000000\n",
       " 1  0.000000  0.333333  0.000000  0.666667  0.000000\n",
       " 2  0.000000  0.000000  0.333333  0.000000  0.666667\n",
       " 3  0.000000  0.000000  0.000000  0.000000  1.000000"
      ]
     },
     "execution_count": 6,
     "metadata": {},
     "output_type": "execute_result"
    }
   ],
   "source": [
    "df_transition_matrix = pd.DataFrame(np.array([[1, 0, 0, 0, 0],\n",
    "                                            [1/3, 0, 2/3, 0, 0],\n",
    "                                            [0, 1/3, 0, 2/3, 0],\n",
    "                                            [0, 0, 1/3, 0, 2/3],\n",
    "                                            [0, 0, 0, 0, 1]]),\n",
    "                                            index = [-1, 0, 1, 2, 3], \n",
    "                                            columns = [-1, 0, 1, 2, 3])\n",
    "df_transition_matrix"
   ]
  },
  {
   "cell_type": "markdown",
   "metadata": {},
   "source": [
    "- Now, if we take this matrix to a very high power (say 100,000), and look at the row for state 0, it'll tell us the state the drunk man will likely be in after 100,000 steps"
   ]
  },
  {
   "cell_type": "code",
   "execution_count": 10,
   "metadata": {},
   "outputs": [
    {
     "data": {
      "text/html": [
       "<div>\n",
       "<style scoped>\n",
       "    .dataframe tbody tr th:only-of-type {\n",
       "        vertical-align: middle;\n",
       "    }\n",
       "\n",
       "    .dataframe tbody tr th {\n",
       "        vertical-align: top;\n",
       "    }\n",
       "\n",
       "    .dataframe thead th {\n",
       "        text-align: right;\n",
       "    }\n",
       "</style>\n",
       "<table border=\"1\" class=\"dataframe\">\n",
       "  <thead>\n",
       "    <tr style=\"text-align: right;\">\n",
       "      <th></th>\n",
       "      <th>-1</th>\n",
       "      <th>0</th>\n",
       "      <th>1</th>\n",
       "      <th>2</th>\n",
       "      <th>3</th>\n",
       "    </tr>\n",
       "  </thead>\n",
       "  <tbody>\n",
       "    <tr>\n",
       "      <th>0</th>\n",
       "      <td>0.466667</td>\n",
       "      <td>0.0</td>\n",
       "      <td>0.0</td>\n",
       "      <td>0.0</td>\n",
       "      <td>0.533333</td>\n",
       "    </tr>\n",
       "  </tbody>\n",
       "</table>\n",
       "</div>"
      ],
      "text/plain": [
       "         -1    0    1    2         3\n",
       "0  0.466667  0.0  0.0  0.0  0.533333"
      ]
     },
     "execution_count": 10,
     "metadata": {},
     "output_type": "execute_result"
    }
   ],
   "source": [
    "pd.DataFrame(np.linalg.matrix_power(df_transition_matrix.values, \n",
    "                                    100000),\n",
    "            index = [-1, 0, 1, 2, 3],\n",
    "            columns = [-1, 0, 1, 2, 3]).loc[[0]]"
   ]
  },
  {
   "cell_type": "markdown",
   "metadata": {},
   "source": [
    "- So, according to our matrix power, there's a probability of 0.46667 that he walks off the cliff"
   ]
  },
  {
   "cell_type": "markdown",
   "metadata": {},
   "source": [
    "- Let's try the same exercise, except the bed will be 1000 steps away"
   ]
  },
  {
   "cell_type": "code",
   "execution_count": 28,
   "metadata": {},
   "outputs": [],
   "source": [
    "list_states = np.arange(-1, 1001)\n",
    "\n",
    "df_temp_1 = pd.DataFrame(np.identity(len(list_states))*1/3, \n",
    "                         index = list_states, \n",
    "                         columns = list_states).shift(-1, axis=1).fillna(0)\n",
    "\n",
    "df_temp_2 = pd.DataFrame(np.identity(len(list_states))*2/3, \n",
    "                         index = list_states, \n",
    "                         columns = list_states).shift(1, axis=1).fillna(0)\n",
    "\n",
    "df_transition_matrix = df_temp_1 + df_temp_2\n",
    "df_transition_matrix.loc[-1] = 0\n",
    "df_transition_matrix.loc[-1, -1] = 1\n",
    "df_transition_matrix.loc[1000] = 0\n",
    "df_transition_matrix.loc[1000, 1000] = 1"
   ]
  },
  {
   "cell_type": "code",
   "execution_count": 31,
   "metadata": {},
   "outputs": [],
   "source": [
    "df_results = pd.DataFrame(np.linalg.matrix_power(df_transition_matrix.values, 100000),\n",
    "                         index=list_states,\n",
    "                         columns=list_states)"
   ]
  },
  {
   "cell_type": "code",
   "execution_count": 33,
   "metadata": {},
   "outputs": [
    {
     "data": {
      "text/plain": [
       "-1       0.5\n",
       " 1000    0.5\n",
       "Name: 0, dtype: float64"
      ]
     },
     "execution_count": 33,
     "metadata": {},
     "output_type": "execute_result"
    }
   ],
   "source": [
    "df_results.loc[0, [-1, 1000]]"
   ]
  },
  {
   "cell_type": "markdown",
   "metadata": {},
   "source": [
    "- Accoring to this model, our results tie out to our 50/50 probability we derived earlier"
   ]
  },
  {
   "cell_type": "markdown",
   "metadata": {},
   "source": [
    "- *Why does this work?*\n",
    "    - Markov chains and this drunk man's walk both only depend on the previous state\n",
    "        - If the drunk man takes 100 steps and ends up back at the edge of the cliff, he has a 1/3 chance of walking off just like he did in the beginning\n",
    "            - This is called \"memorylessness\""
   ]
  },
  {
   "cell_type": "markdown",
   "metadata": {},
   "source": [
    "- So, starting at position $x=0$, we want to know the probability of **eventually** stepping to the left and arriving at $x=-1$\n",
    "    - Let's denote this probability $P_{0}$ i.e. the probability of going from 0->-1\n",
    "- We can divide $P_{0}$ into two parts\n",
    "    1. The probability that we step to the left **right away**\n",
    "        - This is just 1/3\n",
    "    2. The other probability is that we step to the right to $x=1$, then eventually make our way back to $x=0$ and then to the left from there\n",
    "        - So we go $x=0$ to $x=1$ which has probability 2/3, then we **eventually** step from $x=1$ to $x=0$ which we denote $P_{1}$ like above, and then finally we repeat $P_{0}$ to arrive at $x=0$\n",
    "        - This is equal to $2/3\\cdot P_{1}\\cdot P_{0}$\n",
    "\n",
    "- Putting it all together, we get $P_{0} = 1/3 + 2/3\\cdot P_{1}\\cdot P_{0}$\n",
    "    - But we notice that **the probability of eventually ending up one step to the left is the same no matter where we are**\n",
    "    - i.e. $P_{0} = P_{1}$\n",
    "        - Therefore $P_{0} = 1/3 + 2/3\\cdot P_{0}^{2} \\implies (2/3)P_{0}^{2} - P_{0} + 1/3 = 0$"
   ]
  },
  {
   "cell_type": "markdown",
   "metadata": {},
   "source": [
    "- This equation has roots 1 and 1/2\n",
    "    - 1 is not the correct root, but 1/2 confirms our result above"
   ]
  }
 ],
 "metadata": {
  "kernelspec": {
   "display_name": "Python 3",
   "language": "python",
   "name": "python3"
  },
  "language_info": {
   "codemirror_mode": {
    "name": "ipython",
    "version": 3
   },
   "file_extension": ".py",
   "mimetype": "text/x-python",
   "name": "python",
   "nbconvert_exporter": "python",
   "pygments_lexer": "ipython3",
   "version": "3.6.5"
  }
 },
 "nbformat": 4,
 "nbformat_minor": 2
}
