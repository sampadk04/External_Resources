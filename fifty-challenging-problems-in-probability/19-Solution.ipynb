{
 "cells": [
  {
   "cell_type": "markdown",
   "metadata": {},
   "source": [
    "# Isaac Newton Helps Samuel Pepys\n",
    "\n",
    "- Pepys wrote Newton to ask which of the following is most likely\n",
    "\n",
    "\n",
    "a. A person rolls at least **one** 6 when **six** dice are rolled\n",
    "\n",
    "b. A person rolls at least **two** 6s when **twelve** dice are rolled\n",
    "\n",
    "c. A person rolls at least **three** 6s when **eighteen** dice are rolled\n",
    "    \n",
    "- *What is the answer?*"
   ]
  },
  {
   "cell_type": "markdown",
   "metadata": {},
   "source": [
    "_____\n",
    "\n",
    "- Knowing the binomial distribution makes this easy\n",
    "\n",
    "- We set $p=\\frac{1}{6} \\implies 1-p = \\frac{5}{6}$\n",
    "\n",
    "### a.\n",
    "\n",
    "$$\n",
    "P(\\text{At least one 6 in six rolls}) = 1 - P(\\text{No 6s in six rolls})\n",
    "$$"
   ]
  },
  {
   "cell_type": "markdown",
   "metadata": {},
   "source": [
    "$$\n",
    "P(\\text{No 6s in six rolls}) = \\binom{6}{0}\\left (\\frac{1}{6} \\right )^{0}\\left (\\frac{5}{6} \\right )^{6} = \\frac{15625}{46656} \\approx 0.335\n",
    "$$"
   ]
  },
  {
   "cell_type": "markdown",
   "metadata": {},
   "source": [
    "$$\n",
    "\\implies P(\\text{At least one 6 in six rolls}) \\approx 0.665\n",
    "$$"
   ]
  },
  {
   "cell_type": "markdown",
   "metadata": {},
   "source": [
    "____\n",
    "\n",
    "### b. \n",
    "\n",
    "$$\n",
    "P(\\text{At least two 6s in twelve rolls}) = 1 - P(\\text{No 6s in twelve rolls})- P(\\text{One 6 in twelve rolls})\n",
    "$$"
   ]
  },
  {
   "cell_type": "markdown",
   "metadata": {},
   "source": [
    "$$\n",
    "P(\\text{No 6s in twelve rolls}) = \\left ( \\frac{5}{6} \\right )^{12} \\approx 0.1122\n",
    "$$"
   ]
  },
  {
   "cell_type": "markdown",
   "metadata": {},
   "source": [
    "$$\n",
    "P(\\text{One 6 in twelve rolls}) = \\binom{12}{1}\\left ( \\frac{1}{6} \\right ) \\left ( \\frac{5}{6}\\right )^{11} \\approx 0.269\n",
    "$$"
   ]
  },
  {
   "cell_type": "markdown",
   "metadata": {},
   "source": [
    "$$\n",
    "\\implies P(\\text{At least two 6s in twelve rolls}) \\approx 1 - 0.1122 - 0.269  = 0.6188\n",
    "$$"
   ]
  },
  {
   "cell_type": "markdown",
   "metadata": {},
   "source": [
    "____\n",
    "\n",
    "### c. \n",
    "\n",
    "$$\n",
    "P(\\text{At least three 6s in eighteen rolls}) = 1 - P(\\text{No 6s in eighteen rolls})- P(\\text{One 6 in eighteen rolls})- P(\\text{Two 6s in eighteen rolls})\n",
    "$$"
   ]
  },
  {
   "cell_type": "markdown",
   "metadata": {},
   "source": [
    "$$\n",
    "P(\\text{No 6s in eighteen rolls}) = \\left ( \\frac{5}{6} \\right )^{18} \\approx 0.0376\n",
    "$$"
   ]
  },
  {
   "cell_type": "markdown",
   "metadata": {},
   "source": [
    "$$\n",
    "P(\\text{One 6 in eighteen rolls}) = \\binom{18}{1}\\left ( \\frac{1}{6} \\right ) \\left ( \\frac{5}{6} \\right )^{17} \\approx 0.1352\n",
    "$$"
   ]
  },
  {
   "cell_type": "markdown",
   "metadata": {},
   "source": [
    "$$\n",
    "P(\\text{Two 6s in eighteen rolls}) = \\binom{18}{2}\\left ( \\frac{1}{6} \\right ) ^{2} \\left ( \\frac{5}{6} \\right )^{16} \\approx 0.2299\n",
    "$$"
   ]
  },
  {
   "cell_type": "markdown",
   "metadata": {},
   "source": [
    "$$\n",
    "\\implies P(\\text{At least three 6s in eighteen rolls}) \\approx 1 - 0.0376 - 0.1352 - 0.2299 = 0.5973\n",
    "$$"
   ]
  },
  {
   "cell_type": "markdown",
   "metadata": {},
   "source": [
    "____\n",
    "\n",
    "- Therefore a is most likely, followed by b, then c"
   ]
  }
 ],
 "metadata": {
  "kernelspec": {
   "display_name": "Python 3",
   "language": "python",
   "name": "python3"
  },
  "language_info": {
   "codemirror_mode": {
    "name": "ipython",
    "version": 3
   },
   "file_extension": ".py",
   "mimetype": "text/x-python",
   "name": "python",
   "nbconvert_exporter": "python",
   "pygments_lexer": "ipython3",
   "version": "3.6.5"
  }
 },
 "nbformat": 4,
 "nbformat_minor": 2
}
