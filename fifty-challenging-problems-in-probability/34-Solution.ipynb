{
 "cells": [
  {
   "cell_type": "markdown",
   "metadata": {},
   "source": [
    "# Birthday Holidays\n",
    "\n",
    "- Labor laws in Erewhon require factory owners to give every worker a holiday whenever **any one** of them has a birthday and to hire without discrimination on grounds of birthdays\n",
    "- Except for these holidays, they work a 365-day year\n",
    "- The owners want to maximize the expected total number of man-days worked worked per year in a factory\n",
    "- *How many workers do factories have in Erewhon?*"
   ]
  },
  {
   "cell_type": "markdown",
   "metadata": {},
   "source": [
    "_____\n",
    "\n",
    "- **Note**: $\\text{Man Days} = (\\text{# of men working})\\cdot(\\text{days the factory is open})$\n",
    "\n",
    "- If any single employee has a birthday, the whole factory is shut"
   ]
  },
  {
   "cell_type": "markdown",
   "metadata": {},
   "source": [
    "- So, if the factory **has one employee**, the factory will only be closed on the one employee's birthday so the number of man days is equal to $(1)\\cdot(364) = 364$"
   ]
  },
  {
   "cell_type": "markdown",
   "metadata": {},
   "source": [
    "- If the factory has 2 employees, there are 2 possible scenarios\n",
    "    - They have the same birthday\n",
    "        - Probability = (1/365); Man Days = $(2)\\cdot(364) = 728$\n",
    "    - That have different birthdays\n",
    "        - Probability = (364/365); Man Days = $(2)\\cdot(363) = 726$\n",
    "    - Therefore, the expected number of man days is equal to $(1/365)\\cdot(728) + (364/365)\\cdot(726) \\approx 726$\n",
    "    \n",
    "- We might start to think *\"since the number of workers cranks up the expected man days, why not just hire a ton of guys!?*\n",
    "    - The answer is that as we increase the number of workers, we increase the number of distinct birthdays and hence the number of days the factory must be closed"
   ]
  },
  {
   "cell_type": "markdown",
   "metadata": {},
   "source": [
    "- Let's think about the probability of the factory being open on any given day\n",
    "\n",
    "$$\n",
    "P(\\text{Factory is open}) = P(\\text{No one's birthday today}) = \\left (\\frac{364}{365} \\right )^{n}\n",
    "$$"
   ]
  },
  {
   "cell_type": "markdown",
   "metadata": {},
   "source": [
    "- Therefore, the expected number of man days worked in a year is equal to:\n",
    "\n",
    "$$\n",
    "\\text{Expected Man Days} = n\\cdot365\\cdot(364/365)^{n}\n",
    "$$"
   ]
  },
  {
   "cell_type": "markdown",
   "metadata": {},
   "source": [
    "- Let's plot this as a function of $n$"
   ]
  },
  {
   "cell_type": "code",
   "execution_count": 8,
   "metadata": {},
   "outputs": [],
   "source": [
    "import matplotlib.pyplot as plt\n",
    "import numpy as np"
   ]
  },
  {
   "cell_type": "code",
   "execution_count": 9,
   "metadata": {},
   "outputs": [],
   "source": [
    "%matplotlib inline\n",
    "plt.rcParams['figure.figsize'] = 10, 10"
   ]
  },
  {
   "cell_type": "code",
   "execution_count": 10,
   "metadata": {},
   "outputs": [],
   "source": [
    "array_n = np.arange(1, 1000)\n",
    "array_expected_man_days = array_n*365*((364/365)**array_n)"
   ]
  },
  {
   "cell_type": "code",
   "execution_count": 11,
   "metadata": {},
   "outputs": [
    {
     "data": {
      "text/plain": [
       "[<matplotlib.lines.Line2D at 0x1dca855cf98>]"
      ]
     },
     "execution_count": 11,
     "metadata": {},
     "output_type": "execute_result"
    },
    {
     "data": {
      "image/png": "[encoded data removed]",
      "text/plain": [
       "<Figure size 720x720 with 1 Axes>"
      ]
     },
     "metadata": {},
     "output_type": "display_data"
    }
   ],
   "source": [
    "plt.plot(array_n, array_expected_man_days)"
   ]
  },
  {
   "cell_type": "markdown",
   "metadata": {},
   "source": [
    "- It looks like somewhere between 300 and 400 this function is maximized"
   ]
  },
  {
   "cell_type": "markdown",
   "metadata": {},
   "source": [
    "$$\n",
    "\\frac{d}{dn}n\\cdot365\\cdot(364/365)^{n} = (364^{n})\\cdot(365^{1-n})\\cdot(1-n\\cdot\\log(365/364))\n",
    "$$"
   ]
  },
  {
   "cell_type": "markdown",
   "metadata": {},
   "source": [
    "$$\n",
    "\\implies 0 = (364^{n})\\cdot(365^{1-n})\\cdot(1-n\\cdot\\log(365/364))\n",
    "$$"
   ]
  },
  {
   "cell_type": "markdown",
   "metadata": {},
   "source": [
    "$$\n",
    "\\implies n = (-2\\log(2) + \\log(5) - \\log(7) - \\log(13) + \\log(73))^{-1} \\approx 364.49\n",
    "$$"
   ]
  },
  {
   "cell_type": "markdown",
   "metadata": {},
   "source": [
    "- So, it looks like **the ideal number of workers around 364**\n",
    "    - Let's derive the same number using a loop"
   ]
  },
  {
   "cell_type": "code",
   "execution_count": 27,
   "metadata": {},
   "outputs": [
    {
     "data": {
      "text/plain": [
       "(365, 48943.523805351324)"
      ]
     },
     "execution_count": 27,
     "metadata": {},
     "output_type": "execute_result"
    }
   ],
   "source": [
    "max_man_days = 0\n",
    "max_n = 0\n",
    "\n",
    "for n in range(1, 1000):\n",
    "    E = n*365*((364/365)**n)\n",
    "    if E > max_man_days:\n",
    "        max_man_days = E\n",
    "        max_n = n\n",
    "max_n, max_man_days"
   ]
  },
  {
   "cell_type": "markdown",
   "metadata": {},
   "source": [
    "- Ties out (pretty much)"
   ]
  },
  {
   "cell_type": "markdown",
   "metadata": {},
   "source": [
    "_____\n",
    "\n",
    "- Let's simulate a couple $n$ values and try to tie out our result"
   ]
  },
  {
   "cell_type": "code",
   "execution_count": 19,
   "metadata": {},
   "outputs": [],
   "source": [
    "import numpy as np\n",
    "import pandas as pd"
   ]
  },
  {
   "cell_type": "code",
   "execution_count": 22,
   "metadata": {},
   "outputs": [],
   "source": [
    "def sim(n, n_trials):\n",
    "    array_random = np.random.randint(365, size=(n, n_trials))\n",
    "    n_unique = pd.DataFrame(array_random).nunique()\n",
    "    return np.mean(n*(365 - n_unique))"
   ]
  },
  {
   "cell_type": "code",
   "execution_count": 29,
   "metadata": {},
   "outputs": [],
   "source": [
    "list_results = []\n",
    "\n",
    "for n in array_n[::20]:\n",
    "    list_results.append(sim(n, 10000))"
   ]
  },
  {
   "cell_type": "code",
   "execution_count": 30,
   "metadata": {},
   "outputs": [
    {
     "data": {
      "text/plain": [
       "<matplotlib.collections.PathCollection at 0x1dcaa238ef0>"
      ]
     },
     "execution_count": 30,
     "metadata": {},
     "output_type": "execute_result"
    },
    {
     "data": {
      "image/png": "[encoded data removed]",
      "text/plain": [
       "<Figure size 720x720 with 1 Axes>"
      ]
     },
     "metadata": {},
     "output_type": "display_data"
    }
   ],
   "source": [
    "plt.plot(array_n, array_expected_man_days)\n",
    "plt.scatter(array_n[::20], list_results)"
   ]
  },
  {
   "cell_type": "markdown",
   "metadata": {},
   "source": [
    "- Eyyy"
   ]
  }
 ],
 "metadata": {
  "kernelspec": {
   "display_name": "Python 3",
   "language": "python",
   "name": "python3"
  },
  "language_info": {
   "codemirror_mode": {
    "name": "ipython",
    "version": 3
   },
   "file_extension": ".py",
   "mimetype": "text/x-python",
   "name": "python",
   "nbconvert_exporter": "python",
   "pygments_lexer": "ipython3",
   "version": "3.6.5"
  }
 },
 "nbformat": 4,
 "nbformat_minor": 2
}
