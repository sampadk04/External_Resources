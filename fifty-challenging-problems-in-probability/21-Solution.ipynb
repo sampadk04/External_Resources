{
 "cells": [
  {
   "cell_type": "markdown",
   "metadata": {},
   "source": [
    "- Two urns contain red and black balls, all alike except for color\n",
    "- Urn A has 2 red balls and 1 black\n",
    "- Urn B has 101 reds and 100 blacks\n",
    "- An urn is chosen at random, and you win a prize if you correctly name the urn on the basis of evidence of two balls drawn from it\n",
    "- After the first ball is drawn and its color is reported, you can decide whether or not the ball shall be replaced before drawing the second\n",
    "- *How do you order the second drawing, and how do you decide the urn?*"
   ]
  },
  {
   "cell_type": "markdown",
   "metadata": {},
   "source": [
    "_____\n",
    "\n",
    "- First, let's calculate some probabilities for each urn individually\n",
    "\n",
    "### Urn A\n",
    "\n",
    "- If we **don't** replace the balls, we can get\n",
    "    1. 2 red balls\n",
    "        - Probability = $\\frac{2}{3}\\frac{1}{2} = \\frac{1}{3} \\approx 0.33$\n",
    "    2. 1 red ball and 1 black ball\n",
    "        - Probability = $1-\\frac{1}{3} = \\frac{2}{3} \\approx 0.66$"
   ]
  },
  {
   "cell_type": "markdown",
   "metadata": {},
   "source": [
    "- If we **do** replace the balls, we can get\n",
    "    1. 2 red balls\n",
    "        - Probability = $\\left (\\frac{2}{3} \\right )^{2} = \\frac{4}{9} \\approx 0.444$\n",
    "    2. 2 black balls\n",
    "        - Probability = $\\left (\\frac{1}{3} \\right )^{2} = \\frac{1}{9} \\approx 0.111$\n",
    "    3. 1 red and 1 black ball\n",
    "        - Probability = $1 - \\frac{4}{9} - \\frac{1}{9} = \\frac{4}{9} \\approx 0.444$"
   ]
  },
  {
   "cell_type": "markdown",
   "metadata": {},
   "source": [
    "____\n",
    "\n",
    "### Urn B\n",
    "\n",
    "- If we **don't** replace the balls, we can get\n",
    "    1. 2 red balls\n",
    "        - Probability = $\\frac{101}{201}\\frac{100}{200} = \\frac{101}{402} \\approx 0.251$\n",
    "    2. 2 black balls\n",
    "        - Probability = $\\frac{100}{201}\\frac{99}{200} = \\frac{33}{134} \\approx 0.245$\n",
    "    3. 1 red ball and 1 black ball\n",
    "        - Probability = $1-\\frac{101}{402}-\\frac{33}{134} = \\frac{101}{201}\\approx 0.502$"
   ]
  },
  {
   "cell_type": "markdown",
   "metadata": {},
   "source": [
    "- If we **do** replace the balls, we can get\n",
    "    1. 2 red balls\n",
    "        - Probability = $\\left ( \\frac{101}{201}\\right )^{2} = \\frac{10201}{40401} \\approx 0.252$\n",
    "    2. 2 black balls\n",
    "        - Probability = $\\left ( \\frac{100}{201}\\right )^{2} = \\frac{10000}{40401} \\approx 0.246$\n",
    "    3. 1 red ball and 1 black ball\n",
    "        - Probability = $1-\\frac{10201}{40401}-\\frac{10000}{40401} = \\frac{20200}{40401} \\approx 0.5$"
   ]
  },
  {
   "cell_type": "markdown",
   "metadata": {},
   "source": [
    "_____\n",
    "\n",
    "- Now, we'll consider some scenarios\n",
    "\n",
    "### Without replacement\n",
    "\n",
    "#### 2 Red Balls\n",
    "\n",
    "$$\n",
    "P(\\text{Urn A | 2 Red Balls})  = \\frac{P(\\text{Urn A}\\cap\\text{2 Red Balls})}{P(\\text{2 Red Balls})}\n",
    "$$"
   ]
  },
  {
   "cell_type": "markdown",
   "metadata": {},
   "source": [
    "$$\n",
    "= \\frac{0.5 \\cdot 0.33}{0.5 \\cdot 0.33 + 0.5 \\cdot 0.251} \\approx 0.57\n",
    "$$"
   ]
  },
  {
   "cell_type": "markdown",
   "metadata": {},
   "source": [
    "#### 2 Black Balls\n",
    "\n",
    "$$\n",
    "P(\\text{Urn A | 2 Black Balls})  = \\frac{P(\\text{Urn A}\\cap\\text{2 Black Balls})}{P(\\text{2 Black Balls})} = 0\n",
    "$$"
   ]
  },
  {
   "cell_type": "markdown",
   "metadata": {},
   "source": [
    "#### 1 and 1\n",
    "\n",
    "$$\n",
    "P(\\text{Urn A | 1 Red, 1 Black})  = \\frac{P(\\text{Urn A}\\cap\\text{1 Red, 1 Black})}{P(\\text{1 Red, 1 Black})} = \\frac{0.5\\cdot0.66}{0.5\\cdot0.66+0.5\\cdot0.444} \\approx 0.6\n",
    "$$"
   ]
  },
  {
   "cell_type": "markdown",
   "metadata": {},
   "source": [
    "- Therefore, if we choose to go without replacement:\n",
    "    - If we get 2 red balls, we'll guess that it's Urn A and get it right around 57 percent of the time\n",
    "    - If we get 2 black balls, we'll guess that it's Urn B and get it right every time\n",
    "    - If we get 1 and 1, we'll guess that it's Urn A and get it right 60 percent of the time"
   ]
  },
  {
   "cell_type": "markdown",
   "metadata": {},
   "source": [
    "- We can combine these to get:\n",
    "\n",
    "$$\n",
    "P(\\text{Guessing right without replacement}) = (0.57)\\cdot P(\\text{2 Red}) + (1.0)\\cdot P(\\text{Getting 2 Black}) + 0.6\\cdot P(\\text{Getting 1 and 1}) \\approx 0.64\n",
    "$$"
   ]
  },
  {
   "cell_type": "markdown",
   "metadata": {},
   "source": [
    "_____\n",
    "\n",
    "### With replacement"
   ]
  },
  {
   "cell_type": "markdown",
   "metadata": {},
   "source": [
    "#### 2 Red balls\n",
    "\n",
    "$$\n",
    "P(\\text{Urn A | 2 Red Balls}) = \\frac{0.5\\cdot0.444}{0.5(0.444 + 0.252)} \\approx 0.64\n",
    "$$"
   ]
  },
  {
   "cell_type": "markdown",
   "metadata": {},
   "source": [
    "#### 2 Black balls\n",
    "\n",
    "$$\n",
    "P(\\text{Urn A | 2 Black Balls}) = \\frac{0.5\\cdot0.1111}{0.5(0.1111 + 0.246)} \\approx 0.311\n",
    "$$"
   ]
  },
  {
   "cell_type": "markdown",
   "metadata": {},
   "source": [
    "#### 1 and 1\n",
    "\n",
    "$$\n",
    "P(\\text{Urn A | 1 and 1}) = \\frac{0.5\\cdot0.444}{0.5(0.444+0.502)} \\approx 0.469\n",
    "$$"
   ]
  },
  {
   "cell_type": "markdown",
   "metadata": {},
   "source": [
    "- So, in this scenario\n",
    "    - If we get 2 red balls, we'll guess Urn A and get it right 64 percent of the time\n",
    "    - If we get 2 black balls, we'll guess Urn B and get it right 68.9 percent of the time\n",
    "    - If we get 1 and 1, we'll guess Urn B and get it right 53.1% of the time"
   ]
  },
  {
   "cell_type": "markdown",
   "metadata": {},
   "source": [
    "- We combine these to get:\n",
    "\n",
    "$$\n",
    "P(\\text{Guessing right with replacement}) = 0.64\\cdot0.348 + 0.689\\cdot0.1786 + 0.531\\cdot 0.473 = 0.597\n",
    "$$"
   ]
  },
  {
   "cell_type": "markdown",
   "metadata": {},
   "source": [
    "- As we can see, we're more likely to guess right **without replacement**"
   ]
  }
 ],
 "metadata": {
  "kernelspec": {
   "display_name": "Python 3",
   "language": "python",
   "name": "python3"
  },
  "language_info": {
   "codemirror_mode": {
    "name": "ipython",
    "version": 3
   },
   "file_extension": ".py",
   "mimetype": "text/x-python",
   "name": "python",
   "nbconvert_exporter": "python",
   "pygments_lexer": "ipython3",
   "version": "3.6.5"
  }
 },
 "nbformat": 4,
 "nbformat_minor": 2
}
