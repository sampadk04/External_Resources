{
 "cells": [
  {
   "cell_type": "markdown",
   "metadata": {},
   "source": [
    "# Finding Your Birthmate\n",
    "\n",
    "- You want to find someone whose birthday matches yours\n",
    "- *What is the smallest number of strangers you need to ask to have at least a 50-50 chance?*"
   ]
  },
  {
   "cell_type": "markdown",
   "metadata": {},
   "source": [
    "_____\n",
    "\n",
    "- We can use the Binomial distribution to calculate this probability\n",
    "    - The probability of finding someone with the same birthday as yours is equal to $p=1/365$\n",
    "    - We'll calculate the probability that we find **no one** with the same birthday, then we'll subtract it from "
   ]
  },
  {
   "cell_type": "markdown",
   "metadata": {},
   "source": [
    "$$\n",
    "P(\\text{No one has the same birthday as me}) = \\binom{n}{0}p^{0}(1-p)^{n} = \\left (\\frac{364}{365} \\right )^{n}\n",
    "$$"
   ]
  },
  {
   "cell_type": "markdown",
   "metadata": {},
   "source": [
    "- So, we just need to find the $n$ value where $\\left (\\frac{364}{365} \\right )^{n}$ is just below 0.5"
   ]
  },
  {
   "cell_type": "code",
   "execution_count": 1,
   "metadata": {},
   "outputs": [
    {
     "name": "stdout",
     "output_type": "stream",
     "text": [
      "253 0.4995228459634194\n"
     ]
    }
   ],
   "source": [
    "prob = 1\n",
    "n = 0\n",
    "\n",
    "while prob > 0.5:\n",
    "    n += 1\n",
    "    prob = (364 / 365) ** n\n",
    "    \n",
    "print(n, prob)"
   ]
  },
  {
   "cell_type": "markdown",
   "metadata": {},
   "source": [
    "- So, **the smallest number of strangers you need to ask to have at least a 50-50 chance is 253**"
   ]
  },
  {
   "cell_type": "markdown",
   "metadata": {},
   "source": [
    "_____\n",
    "\n",
    "- Let's confirm our result by simulation"
   ]
  },
  {
   "cell_type": "code",
   "execution_count": 3,
   "metadata": {},
   "outputs": [],
   "source": [
    "import numpy as np"
   ]
  },
  {
   "cell_type": "code",
   "execution_count": 10,
   "metadata": {},
   "outputs": [
    {
     "name": "stdout",
     "output_type": "stream",
     "text": [
      "n = 252; P = 0.49823\n",
      "n = 253; P = 0.50083\n",
      "n = 254; P = 0.50246\n"
     ]
    }
   ],
   "source": [
    "N_TRIALS = 100000\n",
    "\n",
    "for n in [252, 253, 254]:\n",
    "    #assuming my birthday is Jan 1 so day 0\n",
    "    array_random = np.random.randint(365, size = (n, N_TRIALS))\n",
    "    P = np.sum(np.min(array_random, axis=0)==0)/N_TRIALS\n",
    "    print('n = {}; P = {}'.format(n, P))"
   ]
  },
  {
   "cell_type": "markdown",
   "metadata": {},
   "source": [
    "- Eyyy"
   ]
  }
 ],
 "metadata": {
  "kernelspec": {
   "display_name": "Python 3",
   "language": "python",
   "name": "python3"
  },
  "language_info": {
   "codemirror_mode": {
    "name": "ipython",
    "version": 3
   },
   "file_extension": ".py",
   "mimetype": "text/x-python",
   "name": "python",
   "nbconvert_exporter": "python",
   "pygments_lexer": "ipython3",
   "version": "3.6.5"
  }
 },
 "nbformat": 4,
 "nbformat_minor": 2
}
