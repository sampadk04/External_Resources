{
 "cells": [
  {
   "cell_type": "markdown",
   "metadata": {},
   "source": [
    "# Moldy Gelatin\n",
    "\n",
    "- Airborne spores produce tiny mold colonie on gelatin plates in a laboratory\n",
    "- The many plates average 3 colonies per plate\n",
    "- *What fraction of plates has exactly 3 colonies?*\n",
    "    - *If the average is a large integer $m$, what fraction of plates has exactly $m$ colonies?*"
   ]
  },
  {
   "cell_type": "markdown",
   "metadata": {},
   "source": [
    "_____\n",
    "\n",
    "- At first, thinking about this problem, I was puzzled\n",
    "    - We know that the expected number of colonies is 3, but the question is like one of those classic Binomial distribution problems (e.g. \"What's the probability of rolling exactly one 6 in six rolls of a die?\")\n",
    "        - To calculate this, we need some value for $p$\n",
    "            - But we can't make $p=3$ since that wouldn't make sense\n",
    "            \n",
    "- The key idea is to split the plate into sections\n",
    "    - This eventually leads to using the Poisson distribution to solve for our answer"
   ]
  },
  {
   "cell_type": "markdown",
   "metadata": {},
   "source": [
    "- If we divide our plate into 4 sections, we can treat each section having a colony as a Bernoulli trial\n",
    "    - Since the expected number of colonies on a single plate is equal to 3, the probability of any of the four sections having a colony is equal to 3/4\n",
    "        - So, following this logic, the probability of having exactly 3 colonies is equal to:\n",
    "        \n",
    "$$\n",
    "P(\\text{3 colonies}) = \\binom{4}{3}(3/4)^{3}(1/4)^{1} = 4\\cdot\\frac{3^{3}}{4^{4}} = \\left (\\frac{3}{4}\\right )^{3} = 0.421875\n",
    "$$"
   ]
  },
  {
   "cell_type": "markdown",
   "metadata": {},
   "source": [
    "- But this can't be the complete answer\n",
    "    - For one thing, modeling each section of the plate as a Bernoulli trial assume the area can only have 0 or 1 colony per section\n",
    "        - So, under this model, the plate can only have 0, 1, 2, 3, or 4 colonies\n",
    "            - We know that it's not super likely, but we should be able to have way more colonies (maybe even infinitely many)\n",
    "                - This idea will lead to us eventually using the Poisson distribution (described later)"
   ]
  },
  {
   "cell_type": "markdown",
   "metadata": {},
   "source": [
    "- As a test, let's try dividing the plate into 100 evenly sized sections\n",
    "    - Here, for our Binomial distribution, $p=3/100$ so:\n",
    "    \n",
    "$$\n",
    "P(\\text{3 colonies}) = \\binom{100}{3}\\cdot0.03^{3}\\cdot0.97^{97}\n",
    "$$\n",
    "- We won't calculate this by hand"
   ]
  },
  {
   "cell_type": "code",
   "execution_count": 2,
   "metadata": {},
   "outputs": [],
   "source": [
    "from scipy.stats import binom"
   ]
  },
  {
   "cell_type": "code",
   "execution_count": 3,
   "metadata": {},
   "outputs": [
    {
     "data": {
      "text/plain": [
       "0.2274741274821556"
      ]
     },
     "execution_count": 3,
     "metadata": {},
     "output_type": "execute_result"
    }
   ],
   "source": [
    "binom.pmf(3, 100, 0.03)"
   ]
  },
  {
   "cell_type": "markdown",
   "metadata": {},
   "source": [
    "$$\n",
    "\\implies P(\\text{3 colonies}) \\approx 0.2275\n",
    "$$"
   ]
  },
  {
   "cell_type": "markdown",
   "metadata": {},
   "source": [
    "- Let's plot these probabilities for increasing $n$ to see what it converges to"
   ]
  },
  {
   "cell_type": "code",
   "execution_count": 7,
   "metadata": {},
   "outputs": [],
   "source": [
    "import matplotlib.pyplot as plt\n",
    "import numpy as np"
   ]
  },
  {
   "cell_type": "code",
   "execution_count": 5,
   "metadata": {},
   "outputs": [],
   "source": [
    "%matplotlib inline\n",
    "plt.rcParams['figure.figsize'] = 10, 10"
   ]
  },
  {
   "cell_type": "code",
   "execution_count": 8,
   "metadata": {},
   "outputs": [],
   "source": [
    "array_n = np.arange(4, 1000)\n",
    "list_P = []\n",
    "\n",
    "for n in array_n:\n",
    "    p = 3/n\n",
    "    P = binom.pmf(3, n, p)\n",
    "    list_P.append(P)"
   ]
  },
  {
   "cell_type": "code",
   "execution_count": 11,
   "metadata": {},
   "outputs": [
    {
     "data": {
      "text/plain": [
       "Text(0,0.5,'Probability')"
      ]
     },
     "execution_count": 11,
     "metadata": {},
     "output_type": "execute_result"
    },
    {
     "data": {
      "image/png": "[encoded data removed]",
      "text/plain": [
       "<Figure size 720x720 with 1 Axes>"
      ]
     },
     "metadata": {},
     "output_type": "display_data"
    }
   ],
   "source": [
    "plt.plot(array_n, list_P, label = 'P(3 Colonies)')\n",
    "plt.legend()\n",
    "plt.xlabel('n')\n",
    "plt.ylabel('Probability')"
   ]
  },
  {
   "cell_type": "markdown",
   "metadata": {},
   "source": [
    "- As we can see, the probability converges pretty quickly to a value around 0.225"
   ]
  },
  {
   "cell_type": "markdown",
   "metadata": {},
   "source": [
    "- Now, we introduce the Poisson distribution\n",
    "    - Consider a situation where we're using the Binomial distribution, but:\n",
    "        1. $p$ is very small\n",
    "        2. $n$ is very big\n",
    "        \n",
    "- In this scenario, the $\\binom{n}{k}$ value will be massive, and the $p^{k}$ value will be tiny\n",
    "    - We can simplify this calcuation by approximating it using the Poisson distribution\n",
    "    \n",
    "$$\n",
    "P(\\text{3 colonies}) = \\frac{\\lambda^{k}e^{-\\lambda}}{k!}\n",
    "$$"
   ]
  },
  {
   "cell_type": "markdown",
   "metadata": {},
   "source": [
    "- Here, $\\lambda$ is the expected number of colonies i.e. $\\lambda = 3$\n",
    "    - **Note**: $p$ gives us a probability where $\\lambda$ gives us an expected value\n",
    "        - So $p=1/\\lambda$"
   ]
  },
  {
   "cell_type": "markdown",
   "metadata": {},
   "source": [
    "- So, using the Poisson distribution for our calculation:\n",
    "\n",
    "$$\n",
    "P(\\text{3 colonies}) = \\frac{3^{3}e^{-3}}{3!} \\approx 0.224042\n",
    "$$"
   ]
  },
  {
   "cell_type": "markdown",
   "metadata": {},
   "source": [
    "- And this value fits in perfectly with our plot above!"
   ]
  },
  {
   "cell_type": "markdown",
   "metadata": {},
   "source": [
    "- Now, expanding this solution where $m$ is very large, we can just replace the $lambda = 3$ with $\\lambda = m$"
   ]
  }
 ],
 "metadata": {
  "kernelspec": {
   "display_name": "Python 3",
   "language": "python",
   "name": "python3"
  },
  "language_info": {
   "codemirror_mode": {
    "name": "ipython",
    "version": 3
   },
   "file_extension": ".py",
   "mimetype": "text/x-python",
   "name": "python",
   "nbconvert_exporter": "python",
   "pygments_lexer": "ipython3",
   "version": "3.6.5"
  }
 },
 "nbformat": 4,
 "nbformat_minor": 2
}
