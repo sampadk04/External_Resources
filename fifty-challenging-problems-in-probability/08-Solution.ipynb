{
 "cells": [
  {
   "cell_type": "markdown",
   "metadata": {},
   "source": [
    "# Perfect Bridge Hand"
   ]
  },
  {
   "cell_type": "markdown",
   "metadata": {},
   "source": [
    "- We often read of someone who has been dealt 13 spades at bridge\n",
    "- *With a well-shuffled deck of cards, what is the chance that you are dealt a perfect hand (13 of one suit)?*"
   ]
  },
  {
   "cell_type": "markdown",
   "metadata": {},
   "source": [
    "____\n",
    "\n",
    "- There are 4 ways to be dealt a perfect hand since there are 4 suits\n",
    "    - So, we calculate the probability for one of the four suits then multiply it by 4 to get the total probability"
   ]
  },
  {
   "cell_type": "markdown",
   "metadata": {},
   "source": [
    "- There are 13! different permutations of how the cards can be dealt, and there are $\\frac{52!}{(52-13)!}$ ways the total deck can be dealt"
   ]
  },
  {
   "cell_type": "markdown",
   "metadata": {},
   "source": [
    "- This means the probability of getting a perfect hand is:\n",
    "\n",
    "$$\n",
    "P(\\text{Perfect Hand}) = 4\\cdot\\frac{13!}{\\frac{52!}{(52-13)!}} = 4\\cdot \\frac{6227020800}{3954242643911239680000} = 6.299\\cdot10^{-12}\n",
    "$$"
   ]
  }
 ],
 "metadata": {
  "kernelspec": {
   "display_name": "Python 3",
   "language": "python",
   "name": "python3"
  },
  "language_info": {
   "codemirror_mode": {
    "name": "ipython",
    "version": 3
   },
   "file_extension": ".py",
   "mimetype": "text/x-python",
   "name": "python",
   "nbconvert_exporter": "python",
   "pygments_lexer": "ipython3",
   "version": "3.6.5"
  }
 },
 "nbformat": 4,
 "nbformat_minor": 2
}
