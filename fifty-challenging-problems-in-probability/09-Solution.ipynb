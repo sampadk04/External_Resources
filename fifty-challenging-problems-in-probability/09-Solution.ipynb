{
 "cells": [
  {
   "cell_type": "markdown",
   "metadata": {},
   "source": [
    "- The game of craps, played with two dice, is one of America's fastest and most popular gambling games\n",
    "- Calculating the odds associated with it is an instructive exercise\n",
    "- The rules are these:\n",
    "    - Only totals for the two dice count\n",
    "    - The player throws the dice and wins at once if the total for the first throw is 7 or 11, loses at once if it is 2, 3, or 12\n",
    "    - Any other throw is called his \"point\"\n",
    "    - If the first throw is a point, the player throws the dice repeatedly until he either wins by throwing his point again, or loses by throwing 7\n",
    "    \n",
    "- *What is the player's chance to win?*"
   ]
  },
  {
   "cell_type": "markdown",
   "metadata": {},
   "source": [
    "_____\n",
    "\n",
    "### Winning first roll\n",
    "\n",
    "- There are $6^{2}=36$ different possible rolls\n",
    "\n",
    "- The ways to roll a 7 are:\n",
    "    1. (1, 6)\n",
    "    2. (2, 5)\n",
    "    3. (3, 4)\n",
    "    4. (4, 3)\n",
    "    5. (5, 2)\n",
    "    6. (6, 1)\n",
    "    \n",
    "- The ways to roll an 11 are:\n",
    "    1. (5, 6)\n",
    "    2. (6, 5)\n",
    "    \n",
    "- So, there are 8 different rolls that lead to the player winning on the first roll\n",
    "    \n",
    "- Therefore, the probability of winning the first roll is equal to:\n",
    "\n",
    "$$\n",
    "P(\\text{Winning First Roll}) = \\frac{8}{36} = \\frac{2}{9}\n",
    "$$"
   ]
  },
  {
   "cell_type": "markdown",
   "metadata": {},
   "source": [
    "_____\n",
    "\n",
    "### Losing first roll\n",
    "\n",
    "- The ways to roll a 2 are:\n",
    "    1. (1,1)\n",
    "    \n",
    "- The ways to roll a 3 are:\n",
    "    1. (1, 2)\n",
    "    2. (2, 1)\n",
    "\n",
    "- The ways to roll a 12 are:\n",
    "    1. (6, 6)\n",
    "    \n",
    "- So, there are 4 different rolls that lead to the player losing on the first roll\n",
    "\n",
    "- Therefore, the probability of losing the first roll is equal to:\n",
    "\n",
    "$$\n",
    "P(\\text{Losing First Roll}) = \\frac{4}{36} = \\frac{1}{9}\n",
    "$$"
   ]
  },
  {
   "cell_type": "markdown",
   "metadata": {},
   "source": [
    "______\n",
    "\n",
    "### Point on first roll\n",
    "\n",
    "- We don't need to loop through the alternative rolls to calculate this probabilitiy:\n",
    "\n",
    "$$\n",
    "P(\\text{Point on First Roll}) = 1 - P(\\text{Winning First Roll}) - P(\\text{Losing First Roll}) = 1 - \\frac{2}{9} - \\frac{1}{9} = \\frac{2}{3}\n",
    "$$"
   ]
  },
  {
   "cell_type": "markdown",
   "metadata": {},
   "source": [
    "____\n",
    "\n",
    "### Second Roll\n",
    "\n",
    "- If we get a point on the first roll, then our probability of losing the second roll is equal to our probability of rolling a 7\n",
    "\n",
    "$$\n",
    "P(\\text{Losing Second Roll | Point on First Roll}) = \\frac{6}{36} = \\frac{1}{6}\n",
    "$$\n",
    "\n",
    "- Now, we have to roll the same roll as we did previously to win\n",
    "    - This probability is not equal for each *point* we rolled\n",
    "        - For now, we'll label this probability $p$\n",
    "\n",
    "$$\n",
    "P(\\text{Winning Second Roll | Point on First Roll}) = p\n",
    "$$\n",
    "\n",
    "- Then, the probability of rolling again is equal to:\n",
    "\n",
    "$$\n",
    "P(\\text{Roll Again | Point on First Roll}) = 1 - \\frac{1}{6} - p = \\frac{5}{6} - p\n",
    "$$"
   ]
  },
  {
   "cell_type": "markdown",
   "metadata": {},
   "source": [
    "_____\n",
    "\n",
    "### Later Rolls\n",
    "\n",
    "- We note that the probabilities don't change going forward\n",
    "    - This means that we can calculate the overall proability of winning as:\n",
    "    \n",
    "$$\n",
    "P(\\text{Winning | Rolled Again for First Two}) = p + \\left (  \\frac{5}{6} - p \\right ) \\left ( p + \\left (  \\frac{5}{6} - p \\right ) \\left (p + \\left (  \\frac{5}{6} - p \\right )(...)  \\right )  \\right )\n",
    "$$"
   ]
  },
  {
   "cell_type": "markdown",
   "metadata": {},
   "source": [
    "- Let $\\left (  \\frac{5}{6} - p \\right ) = \\alpha$"
   ]
  },
  {
   "cell_type": "markdown",
   "metadata": {},
   "source": [
    "$$\n",
    "\\implies P(\\text{Winning | Rolled Again for First Two}) = p + \\alpha \\left (p + \\alpha (...) \\right )\n",
    "$$"
   ]
  },
  {
   "cell_type": "markdown",
   "metadata": {},
   "source": [
    "$$\n",
    "= p + \\alpha p + \\alpha^{2}p + ...\n",
    "$$"
   ]
  },
  {
   "cell_type": "markdown",
   "metadata": {},
   "source": [
    "$$\n",
    "= p \\left (1 + \\alpha + \\alpha^{2} + ... \\right )\n",
    "$$"
   ]
  },
  {
   "cell_type": "markdown",
   "metadata": {},
   "source": [
    "$$\n",
    "= p \\left ( \\sum_{i=0}^{\\infty} \\alpha^{i} \\right ) = p \\left (\\frac{1}{1-\\alpha} \\right )\n",
    "$$"
   ]
  },
  {
   "cell_type": "markdown",
   "metadata": {},
   "source": [
    "- So now, we need to think about\n",
    "    1. What are the different possible rolls for the \"point\"?\n",
    "    2. What is the probability of rolling each \"point\" from 1?\n",
    "    3. What is the $a$ value for each point, and what is the value of the equation above?"
   ]
  },
  {
   "cell_type": "markdown",
   "metadata": {},
   "source": [
    "### 1. & 2.\n",
    "\n",
    "- The possible \"point\" rolls are 4, 5, 6, 8, 9, and 10\n",
    "    - 4: (1, 3), (2, 2), (3, 1)\n",
    "    - 5: (1, 4), (2, 3), (3, 2), (4, 1)\n",
    "    - 6: (1, 5), (2, 4), (3, 3), (4, 2), (5, 1)\n",
    "    - 8: (2, 6), (3, 5), (4, 4), (5, 3), (6, 2)\n",
    "    - 9: (3, 6), (4, 5), (5, 4), (6, 3)\n",
    "    - 10: (4, 6), (5, 5), (6, 4)"
   ]
  },
  {
   "cell_type": "markdown",
   "metadata": {},
   "source": [
    "- Therefore:\n",
    "    - $P(\\text{Point = }4) = \\frac{3}{36} = \\frac{1}{12}$\n",
    "    - $P(\\text{Point = }5) = \\frac{4}{36} = \\frac{1}{9}$\n",
    "    - $P(\\text{Point = }6) = \\frac{5}{36}$\n",
    "    - $P(\\text{Point = }8) = \\frac{5}{36}$\n",
    "    - $P(\\text{Point = }9) = \\frac{4}{36} = \\frac{1}{9}$\n",
    "    - $P(\\text{Point = }10) = \\frac{3}{36} = \\frac{1}{12}$"
   ]
  },
  {
   "cell_type": "markdown",
   "metadata": {},
   "source": [
    "### 3. \n",
    "\n",
    "- I'll just loop through these instead of calculating them manually"
   ]
  },
  {
   "cell_type": "code",
   "execution_count": 1,
   "metadata": {},
   "outputs": [],
   "source": [
    "from fractions import Fraction"
   ]
  },
  {
   "cell_type": "code",
   "execution_count": 4,
   "metadata": {},
   "outputs": [],
   "source": [
    "dict_fractions = {4: Fraction(1,12),\n",
    "                 5: Fraction(1,9),\n",
    "                 6: Fraction(5,36),\n",
    "                 8: Fraction(5,36),\n",
    "                 9: Fraction(1,9),\n",
    "                 10: Fraction(1,12)}"
   ]
  },
  {
   "cell_type": "code",
   "execution_count": 9,
   "metadata": {},
   "outputs": [
    {
     "name": "stdout",
     "output_type": "stream",
     "text": [
      "point: 4\n",
      "alpha: 3/4\n",
      "series sum: 4\n",
      "P(Winning | Rolled Again for First Two): 1/3\n",
      "\n",
      "\n",
      "point: 5\n",
      "alpha: 13/18\n",
      "series sum: 18/5\n",
      "P(Winning | Rolled Again for First Two): 2/5\n",
      "\n",
      "\n",
      "point: 6\n",
      "alpha: 25/36\n",
      "series sum: 36/11\n",
      "P(Winning | Rolled Again for First Two): 5/11\n",
      "\n",
      "\n",
      "point: 8\n",
      "alpha: 25/36\n",
      "series sum: 36/11\n",
      "P(Winning | Rolled Again for First Two): 5/11\n",
      "\n",
      "\n",
      "point: 9\n",
      "alpha: 13/18\n",
      "series sum: 18/5\n",
      "P(Winning | Rolled Again for First Two): 2/5\n",
      "\n",
      "\n",
      "point: 10\n",
      "alpha: 3/4\n",
      "series sum: 4\n",
      "P(Winning | Rolled Again for First Two): 1/3\n",
      "\n",
      "\n"
     ]
    }
   ],
   "source": [
    "for point in dict_fractions.keys():\n",
    "    p = dict_fractions[point]\n",
    "    alpha = Fraction(5,6)-p\n",
    "    series_sum = Fraction(1, 1-alpha)\n",
    "    p_winning = p * series_sum\n",
    "    print('point: {}'.format(point))\n",
    "    print('alpha: {}'.format(alpha))\n",
    "    print('series sum: {}'.format(series_sum))\n",
    "    print('P(Winning | Rolled Again for First Two): {}'.format(p_winning))\n",
    "    print('\\n')"
   ]
  },
  {
   "cell_type": "markdown",
   "metadata": {},
   "source": [
    "- We can put all this together to calculate our probability\n",
    "    - Again, I'll let the computer do the calculations"
   ]
  },
  {
   "cell_type": "markdown",
   "metadata": {},
   "source": [
    "$$\n",
    "P(\\text{Winning}) = P(\\text{Winning on First Roll}) +  P(\\text{Winning on Second Roll | Point on First Roll}) + P(\\text{Winning | Roll Again for First Two Rolls})\n",
    "$$"
   ]
  },
  {
   "cell_type": "markdown",
   "metadata": {},
   "source": [
    "- We loop through all the possible points and calculate"
   ]
  },
  {
   "cell_type": "code",
   "execution_count": 14,
   "metadata": {},
   "outputs": [],
   "source": [
    "total = 0\n",
    "\n",
    "for point in dict_fractions.keys():\n",
    "    p = dict_fractions[point]\n",
    "    p_winning_second_roll = p*p\n",
    "    alpha = (5/6-p)\n",
    "    p_winning_later_roll = p*alpha*p*(1/(1-alpha))\n",
    "    p_total = p_winning_second_roll + p_winning_later_roll\n",
    "    total += p_total"
   ]
  },
  {
   "cell_type": "code",
   "execution_count": 15,
   "metadata": {},
   "outputs": [
    {
     "data": {
      "text/plain": [
       "0.27070707070707073"
      ]
     },
     "execution_count": 15,
     "metadata": {},
     "output_type": "execute_result"
    }
   ],
   "source": [
    "total"
   ]
  },
  {
   "cell_type": "markdown",
   "metadata": {},
   "source": [
    "- Putting it all together"
   ]
  },
  {
   "cell_type": "markdown",
   "metadata": {},
   "source": [
    "$$\n",
    "P(\\text{Winning}) = 2/9 + total \\approx 0.493\n",
    "$$"
   ]
  },
  {
   "cell_type": "markdown",
   "metadata": {},
   "source": [
    "_____\n",
    "\n",
    "- As always, we'll simulate this to confirm our result"
   ]
  },
  {
   "cell_type": "code",
   "execution_count": 18,
   "metadata": {},
   "outputs": [],
   "source": [
    "import numpy as np"
   ]
  },
  {
   "cell_type": "code",
   "execution_count": 20,
   "metadata": {},
   "outputs": [],
   "source": [
    "def sim():\n",
    "    roll_1, roll_2 = np.random.randint(1, 7, size=2)\n",
    "    total = roll_1 + roll_2\n",
    "    if total in [7, 11]:\n",
    "        return 1\n",
    "    elif total in [2, 3, 12]:\n",
    "        return 0\n",
    "    else:\n",
    "        point = roll_1+roll_2\n",
    "        won = False\n",
    "        while not won:\n",
    "            roll_1, roll_2 = np.random.randint(1, 7, size=2)\n",
    "            total = roll_1 + roll_2\n",
    "            if total == point:\n",
    "                return 1\n",
    "            if total == 7:\n",
    "                return 0"
   ]
  },
  {
   "cell_type": "code",
   "execution_count": 24,
   "metadata": {},
   "outputs": [
    {
     "name": "stdout",
     "output_type": "stream",
     "text": [
      "0.49198\n"
     ]
    }
   ],
   "source": [
    "n_trials = 100000\n",
    "total = 0\n",
    "\n",
    "for i in range(n_trials):\n",
    "    total += sim()\n",
    "print(total/n_trials)"
   ]
  },
  {
   "cell_type": "markdown",
   "metadata": {},
   "source": [
    "- Eyyyy"
   ]
  }
 ],
 "metadata": {
  "kernelspec": {
   "display_name": "Python 3",
   "language": "python",
   "name": "python3"
  },
  "language_info": {
   "codemirror_mode": {
    "name": "ipython",
    "version": 3
   },
   "file_extension": ".py",
   "mimetype": "text/x-python",
   "name": "python",
   "nbconvert_exporter": "python",
   "pygments_lexer": "ipython3",
   "version": "3.6.5"
  }
 },
 "nbformat": 4,
 "nbformat_minor": 2
}
