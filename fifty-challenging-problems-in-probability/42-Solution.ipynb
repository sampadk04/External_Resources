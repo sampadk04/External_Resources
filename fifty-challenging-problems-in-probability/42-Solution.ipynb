{
 "cells": [
  {
   "cell_type": "markdown",
   "metadata": {},
   "source": [
    "# The Little End of the Stick\n",
    "\n",
    "a. *If a stick is broken in two at a random spot, what is the average length of the smaller piece?*\n",
    "\n",
    "b. *What is the average ratio of the smaller length to the larger?*"
   ]
  },
  {
   "cell_type": "markdown",
   "metadata": {},
   "source": [
    "____\n",
    "\n",
    "# a.\n",
    "\n",
    "- Assuming the stick has length 1, then we assume the break point is uniformly distributed between 0 and 1 therefore the pdf is $f(x)=1$"
   ]
  },
  {
   "cell_type": "markdown",
   "metadata": {},
   "source": [
    "- If we let $X$ be the break point and $Y$ be the length of the smaller piece, then:\n",
    "\n",
    "$$\n",
    "Y = \\left\\{\\begin{matrix}X & X < 1/2\\\\ 1-X & X \\geq 1/2\\end{matrix}\\right.\n",
    "$$"
   ]
  },
  {
   "cell_type": "markdown",
   "metadata": {},
   "source": [
    "- Therefore, solving for the expected value of $Y$:\n",
    "\n",
    "$$\n",
    "E(Y) = \\int_{0}^{1/2}xdx + \\int_{1/2}^{1}(1-x)dx\n",
    "$$"
   ]
  },
  {
   "cell_type": "markdown",
   "metadata": {},
   "source": [
    "$$\n",
    "= \\frac{x^{2}}{2}|^{1/2}_{0} + \\left (x - \\frac{x^{2}}{2} \\right )|^{1}_{1/2}\n",
    "$$"
   ]
  },
  {
   "cell_type": "markdown",
   "metadata": {},
   "source": [
    "$$\n",
    "= 1/8 + 1/2 - 1/2 + 1/8 = 1/4\n",
    "$$"
   ]
  },
  {
   "cell_type": "markdown",
   "metadata": {},
   "source": [
    "- Therefore, the average length of the smaller piece is 1/4"
   ]
  },
  {
   "cell_type": "markdown",
   "metadata": {},
   "source": [
    "___\n",
    "\n",
    "# b."
   ]
  },
  {
   "cell_type": "markdown",
   "metadata": {},
   "source": [
    "- If we let $Z$ be the ratio of the two lengths, then:\n",
    "\n",
    "$$\n",
    "Z = \\left\\{\\begin{matrix}\\frac{X}{1-X} & X < 1/2\\\\ \\frac{1-X}{X} & X \\geq 1/2\\end{matrix}\\right.\n",
    "$$"
   ]
  },
  {
   "cell_type": "markdown",
   "metadata": {},
   "source": [
    "- Then the expected value of $Z$ is equal to:\n",
    "\n",
    "$$\n",
    "E(Z) = \\int_{0}^{1/2}\\frac{x}{1-x}dx + \\int_{1/2}^{1}\\frac{1-x}{x}dx\n",
    "$$"
   ]
  },
  {
   "cell_type": "markdown",
   "metadata": {},
   "source": [
    "$$\n",
    "= \\left (-x - \\log(1-x) \\right )|^{1/2}_{0} + \\left (\\log(x) - x \\right )|_{1/2}^{1}\n",
    "$$"
   ]
  },
  {
   "cell_type": "markdown",
   "metadata": {},
   "source": [
    "$$\n",
    "= \\log(2) - 1/2 + \\log(2) - 1/2 = 2\\log(2) - 1\n",
    "$$"
   ]
  },
  {
   "cell_type": "markdown",
   "metadata": {},
   "source": [
    "___\n",
    "\n",
    "- Let's try to tie these out"
   ]
  },
  {
   "cell_type": "code",
   "execution_count": 1,
   "metadata": {},
   "outputs": [],
   "source": [
    "import numpy as np"
   ]
  },
  {
   "cell_type": "markdown",
   "metadata": {},
   "source": [
    "**a. **"
   ]
  },
  {
   "cell_type": "code",
   "execution_count": 6,
   "metadata": {},
   "outputs": [
    {
     "data": {
      "text/plain": [
       "0.2500624560307275"
      ]
     },
     "execution_count": 6,
     "metadata": {},
     "output_type": "execute_result"
    }
   ],
   "source": [
    "N_TRIALS = 10000000\n",
    "array_breakpoints = np.random.random(size=N_TRIALS)\n",
    "array_pieces = np.array([array_breakpoints, 1-array_breakpoints])\n",
    "np.mean(np.min(array_pieces, axis=0))"
   ]
  },
  {
   "cell_type": "markdown",
   "metadata": {},
   "source": [
    "- Eyy\n",
    "    - Bang on"
   ]
  },
  {
   "cell_type": "markdown",
   "metadata": {},
   "source": [
    "**b.**"
   ]
  },
  {
   "cell_type": "code",
   "execution_count": 9,
   "metadata": {},
   "outputs": [],
   "source": [
    "array_small, array_big = np.split(np.sort(array_pieces, axis=0), 2, axis=0)"
   ]
  },
  {
   "cell_type": "code",
   "execution_count": 10,
   "metadata": {},
   "outputs": [
    {
     "data": {
      "text/plain": [
       "0.38640938144035947"
      ]
     },
     "execution_count": 10,
     "metadata": {},
     "output_type": "execute_result"
    }
   ],
   "source": [
    "np.mean(array_small / array_big)"
   ]
  },
  {
   "cell_type": "code",
   "execution_count": 11,
   "metadata": {},
   "outputs": [
    {
     "data": {
      "text/plain": [
       "0.3862943611198906"
      ]
     },
     "execution_count": 11,
     "metadata": {},
     "output_type": "execute_result"
    }
   ],
   "source": [
    "2*np.log(2) - 1"
   ]
  },
  {
   "cell_type": "markdown",
   "metadata": {},
   "source": [
    "- Eyyy\n",
    "    - Bang on again"
   ]
  }
 ],
 "metadata": {
  "kernelspec": {
   "display_name": "Python 3",
   "language": "python",
   "name": "python3"
  },
  "language_info": {
   "codemirror_mode": {
    "name": "ipython",
    "version": 3
   },
   "file_extension": ".py",
   "mimetype": "text/x-python",
   "name": "python",
   "nbconvert_exporter": "python",
   "pygments_lexer": "ipython3",
   "version": "3.6.5"
  }
 },
 "nbformat": 4,
 "nbformat_minor": 2
}
