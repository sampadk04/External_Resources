{
 "cells": [
  {
   "cell_type": "markdown",
   "metadata": {},
   "source": [
    "# Successive Wins"
   ]
  },
  {
   "cell_type": "markdown",
   "metadata": {},
   "source": [
    "- To encourage Elmer's promising tennis career, his father offers him a prize if he wins (at least) two tennis sets in a row in a three set series to be played with his father and the club champion alternately\n",
    "    - father-champion-father\n",
    "    - champion-father-champion\n",
    "- The champion is a better player than Elmer's father\n",
    "\n",
    "- *Which series should Elmer choose?*"
   ]
  },
  {
   "cell_type": "markdown",
   "metadata": {},
   "source": [
    "___\n",
    "\n",
    "- Since he needs to win at least two games in a row, the possible ways he can win the prize are:\n",
    "    1. WWW\n",
    "    2. LWW\n",
    "    3. WWL\n",
    "    \n",
    "- If we denote the probability that he beats his opponent in set 1 (and 3) as $p_{1}$ and the probability for set 2 as $p_{2}$, then the probability of winning the prize in each scenario is:\n",
    "    1. $p_{1}\\cdot p_{2}\\cdot p_{1}$\n",
    "    2. $(1-p_{1})\\cdot p_{2}\\cdot p_{1}$\n",
    "    3. $p_{1}\\cdot p_{2}\\cdot(1- p_{1})$"
   ]
  },
  {
   "cell_type": "markdown",
   "metadata": {},
   "source": [
    "- To calculate the probability that he wins the prize, we take the sum of these three probabilities\n",
    "\n",
    "$$\n",
    "P(\\text{Win Prize}) = p_{1}\\cdot p_{2}\\cdot p_{1} + (1-p_{1})\\cdot p_{2}\\cdot p_{1} + p_{1}\\cdot p_{2}\\cdot(1- p_{1})\n",
    "$$"
   ]
  },
  {
   "cell_type": "markdown",
   "metadata": {},
   "source": [
    "- This can be rewritten as:\n",
    "\n",
    "$$\n",
    "P(\\text{Win Prize}) = p_{1}\\cdot p_{2} \\left [p_{1} + (1-p_{1}) + (1-p_{1}) \\right ] = p_{1}\\cdot p_{2} \\left [2 - p_{1} \\right]\n",
    "$$"
   ]
  },
  {
   "cell_type": "markdown",
   "metadata": {},
   "source": [
    "- The $p_{1}\\cdot p_{2}$ value doesn't change regardless of the ordering chosen by Elmer\n",
    "    - Therefore, we just need to maximize the $\\left [2 - p_{1} \\right]$ term"
   ]
  },
  {
   "cell_type": "markdown",
   "metadata": {},
   "source": [
    "- This term is bigger when $p_{1}$ is smaller, and since our probability of defeating the champion is lower, **we choose to face the champion in the first set**"
   ]
  },
  {
   "cell_type": "markdown",
   "metadata": {},
   "source": [
    "_____\n",
    "\n",
    "- We can confirm this solution by calculating the probability for some test cases"
   ]
  },
  {
   "cell_type": "code",
   "execution_count": 1,
   "metadata": {},
   "outputs": [],
   "source": [
    "import numpy as np"
   ]
  },
  {
   "cell_type": "code",
   "execution_count": 14,
   "metadata": {
    "scrolled": false
   },
   "outputs": [
    {
     "name": "stdout",
     "output_type": "stream",
     "text": [
      "p_father = 0.6, p_champion = 0.2\n",
      "Our Solution: 0.22\n",
      "Other Solution: 0.17\n",
      "True\n",
      "\n",
      "\n",
      "p_father = 0.6, p_champion = 0.4\n",
      "Our Solution: 0.38\n",
      "Other Solution: 0.34\n",
      "True\n",
      "\n",
      "\n",
      "p_father = 0.8, p_champion = 0.2\n",
      "Our Solution: 0.29\n",
      "Other Solution: 0.19\n",
      "True\n",
      "\n",
      "\n",
      "p_father = 0.8, p_champion = 0.4\n",
      "Our Solution: 0.51\n",
      "Other Solution: 0.38\n",
      "True\n",
      "\n",
      "\n",
      "p_father = 0.8, p_champion = 0.6\n",
      "Our Solution: 0.67\n",
      "Other Solution: 0.58\n",
      "True\n",
      "\n",
      "\n",
      "p_father = 1.0, p_champion = 0.2\n",
      "Our Solution: 0.36\n",
      "Other Solution: 0.2\n",
      "True\n",
      "\n",
      "\n",
      "p_father = 1.0, p_champion = 0.4\n",
      "Our Solution: 0.64\n",
      "Other Solution: 0.4\n",
      "True\n",
      "\n",
      "\n",
      "p_father = 1.0, p_champion = 0.6\n",
      "Our Solution: 0.84\n",
      "Other Solution: 0.6\n",
      "True\n",
      "\n",
      "\n",
      "p_father = 1.0, p_champion = 0.8\n",
      "Our Solution: 0.96\n",
      "Other Solution: 0.8\n",
      "True\n",
      "\n",
      "\n"
     ]
    }
   ],
   "source": [
    "step = 0.2\n",
    "\n",
    "# p_father is our probability of defeating our father\n",
    "for p_father in np.arange(step, 1+step, step):\n",
    "    # p_champion is our probability of defeating the champion\n",
    "    for p_champion in np.arange(step, p_father-step, step):\n",
    "        P_1 = round(p_champion*p_father*(2-p_champion), 2)\n",
    "        P_2 = round(p_father*p_champion*(2-p_father), 2)\n",
    "        print(\"p_father = {}, p_champion = {}\".format(round(p_father, 2), \n",
    "                                                      round(p_champion, 2)))\n",
    "        print(\"Our Solution: {}\".format(P_1))\n",
    "        print(\"Other Solution: {}\".format(P_2))\n",
    "        print(P_1 >= P_2)\n",
    "        print(\"\\n\")"
   ]
  }
 ],
 "metadata": {
  "kernelspec": {
   "display_name": "Python 3",
   "language": "python",
   "name": "python3"
  },
  "language_info": {
   "codemirror_mode": {
    "name": "ipython",
    "version": 3
   },
   "file_extension": ".py",
   "mimetype": "text/x-python",
   "name": "python",
   "nbconvert_exporter": "python",
   "pygments_lexer": "ipython3",
   "version": "3.6.5"
  }
 },
 "nbformat": 4,
 "nbformat_minor": 2
}
