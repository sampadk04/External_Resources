{
 "cells": [
  {
   "cell_type": "markdown",
   "metadata": {},
   "source": [
    "# Chuck-a-luck"
   ]
  },
  {
   "cell_type": "markdown",
   "metadata": {},
   "source": [
    "- Chuck-a-luck is a gambling game often played at carnivals and gambling houses\n",
    "- A player may bet on any one of the numbers 1, 2, 3, 4, 5, 6\n",
    "- Three dice are rolled\n",
    "- If the player's number appears on one, two, or three of the dice, he receives respectively one, two, or three times his original stake plus his own money back\n",
    "    - Otherwise, he loses his stake\n",
    "- *What is the player's expected loss per unit stake?*"
   ]
  },
  {
   "cell_type": "markdown",
   "metadata": {},
   "source": [
    "______\n",
    "\n",
    "- Per unit stake means we assume he bets 1 dollar\n",
    "\n",
    "- We can use the binomial distribution to calculate our probabilities:\n",
    "\n",
    "$$\n",
    "P(\\text{Winning once}) = \\binom{3}{1}\\left (\\frac{1}{6} \\right )\\left (\\frac{5}{6} \\right )^{2} =\\frac{25}{72}\n",
    "$$"
   ]
  },
  {
   "cell_type": "markdown",
   "metadata": {},
   "source": [
    "$$\n",
    "P(\\text{Winning twice}) = \\binom{3}{2}\\left (\\frac{1}{6} \\right )^{2}\\left (\\frac{5}{6} \\right ) =\\frac{5}{72}\n",
    "$$"
   ]
  },
  {
   "cell_type": "markdown",
   "metadata": {},
   "source": [
    "$$\n",
    "P(\\text{Winning thrice}) = \\binom{3}{3}\\left (\\frac{1}{6} \\right )^{3} =\\frac{1}{216}\n",
    "$$"
   ]
  },
  {
   "cell_type": "markdown",
   "metadata": {},
   "source": [
    "$$\n",
    "P(\\text{Winning none}) = \\left (\\frac{5}{6} \\right )^{3} = \\frac{125}{216}\n",
    "$$"
   ]
  },
  {
   "cell_type": "markdown",
   "metadata": {},
   "source": [
    "- We use these probabilities to calculate our expected winnings"
   ]
  },
  {
   "cell_type": "markdown",
   "metadata": {},
   "source": [
    "$$\n",
    "E(\\text{Winnings}) = (-1)\\cdot\\frac{125}{216} + (1)\\frac{25}{72} + (2)\\frac{5}{72} + (3)\\frac{1}{216} = \\frac{-17}{216}\n",
    "$$"
   ]
  },
  {
   "cell_type": "markdown",
   "metadata": {},
   "source": [
    "_____\n",
    "\n",
    "- We can rip a few simulations to confirm this result"
   ]
  },
  {
   "cell_type": "code",
   "execution_count": 1,
   "metadata": {},
   "outputs": [],
   "source": [
    "import numpy as np"
   ]
  },
  {
   "cell_type": "code",
   "execution_count": 2,
   "metadata": {},
   "outputs": [
    {
     "name": "stdout",
     "output_type": "stream",
     "text": [
      "-0.0786627\n"
     ]
    }
   ],
   "source": [
    "n_trials = 10000000\n",
    "choice = np.random.randint(1,7, size = (n_trials,1))\n",
    "rolls = np.random.randint(1,7, size = (n_trials, 3))\n",
    "count = np.sum(choice==rolls, axis=1)\n",
    "mean_winnings = (np.sum(count) + (-1)*np.sum(count==0))/n_trials\n",
    "print(mean_winnings)"
   ]
  },
  {
   "cell_type": "code",
   "execution_count": 3,
   "metadata": {},
   "outputs": [
    {
     "data": {
      "text/plain": [
       "-0.0787037037037037"
      ]
     },
     "execution_count": 3,
     "metadata": {},
     "output_type": "execute_result"
    }
   ],
   "source": [
    "-17/216"
   ]
  },
  {
   "cell_type": "markdown",
   "metadata": {},
   "source": [
    "- Eyyy"
   ]
  }
 ],
 "metadata": {
  "kernelspec": {
   "display_name": "Python 3",
   "language": "python",
   "name": "python3"
  },
  "language_info": {
   "codemirror_mode": {
    "name": "ipython",
    "version": 3
   },
   "file_extension": ".py",
   "mimetype": "text/x-python",
   "name": "python",
   "nbconvert_exporter": "python",
   "pygments_lexer": "ipython3",
   "version": "3.6.5"
  }
 },
 "nbformat": 4,
 "nbformat_minor": 2
}
