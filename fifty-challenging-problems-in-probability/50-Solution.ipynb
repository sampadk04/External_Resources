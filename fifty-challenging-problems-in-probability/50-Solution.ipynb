{
 "cells": [
  {
   "cell_type": "markdown",
   "metadata": {},
   "source": [
    "# Random Quadratic Equations\n",
    "\n",
    "- What is the probability that the following quadratic equation has real roots:\n",
    "\n",
    "$$\n",
    "x^{2} + 2bx + c = 0\n",
    "$$"
   ]
  },
  {
   "cell_type": "markdown",
   "metadata": {},
   "source": [
    "_____\n",
    "\n",
    "**Recall**\n",
    "\n",
    "- The roots of a quadratic equation are given by:\n",
    "\n",
    "$$\n",
    "\\frac{-b \\pm \\sqrt{b^{2}-4ac}}{2a}\n",
    "$$"
   ]
  },
  {
   "cell_type": "markdown",
   "metadata": {},
   "source": [
    "- So for our quadratic, the roots are:\n",
    "\n",
    "$$\n",
    "\\frac{-2b \\pm \\sqrt{4b^{2} - 4c}}{2}\n",
    "$$"
   ]
  },
  {
   "cell_type": "markdown",
   "metadata": {},
   "source": [
    "$$\n",
    "= -b \\pm \\sqrt{b^{2}-c}\n",
    "$$"
   ]
  },
  {
   "cell_type": "markdown",
   "metadata": {},
   "source": [
    "- For this equation to have real roots, we need $b^{2}-c \\geq 0 \\implies b^{2} \\geq c$"
   ]
  },
  {
   "cell_type": "markdown",
   "metadata": {},
   "source": [
    "- Now, let's assume that $b$ and $c$ are randomly drawn from a uniform distribution $[-x, x]$\n",
    "    - As an example, let's let $x=10$\n",
    "        - We can plot the different combinations of $b$ and $c$ values"
   ]
  },
  {
   "cell_type": "code",
   "execution_count": 1,
   "metadata": {},
   "outputs": [],
   "source": [
    "import matplotlib.pyplot as plt\n",
    "import numpy as np"
   ]
  },
  {
   "cell_type": "code",
   "execution_count": 2,
   "metadata": {},
   "outputs": [],
   "source": [
    "%matplotlib inline\n",
    "plt.rcParams['figure.figsize'] = 10, 10"
   ]
  },
  {
   "cell_type": "code",
   "execution_count": 3,
   "metadata": {},
   "outputs": [],
   "source": [
    "step = 0.01\n",
    "b_array = np.arange(-10, 10+step, step)\n",
    "b_squared_array = b_array**2"
   ]
  },
  {
   "cell_type": "code",
   "execution_count": 16,
   "metadata": {},
   "outputs": [
    {
     "data": {
      "text/plain": [
       "<matplotlib.legend.Legend at 0x21e60c19be0>"
      ]
     },
     "execution_count": 16,
     "metadata": {},
     "output_type": "execute_result"
    },
    {
     "data": {
      "image/png": "[encoded data removed]",
      "text/plain": [
       "<Figure size 720x720 with 1 Axes>"
      ]
     },
     "metadata": {},
     "output_type": "display_data"
    }
   ],
   "source": [
    "plt.plot(b_array, b_squared_array, c='r', ls='dashed')\n",
    "plt.fill_between(b_array, 10, b_squared_array, label = r'$b^{2} < c$')\n",
    "plt.fill_between(b_array, -10, b_squared_array, label = r'$b^{2} > c$')\n",
    "plt.xlim(-10, 10)\n",
    "plt.ylim(-10, 10)\n",
    "plt.xlabel('b')\n",
    "plt.ylabel('c')\n",
    "plt.legend()"
   ]
  },
  {
   "cell_type": "markdown",
   "metadata": {},
   "source": [
    "- As we can see, the orange area represents where $b^{2} > c$ therefore the roots are real\n",
    "    - The red dotted line intersects with a line $y=10$ at the values $\\pm \\sqrt{10}$\n",
    "        - Therefore, the blue area is equal to:\n",
    "        \n",
    "$$\n",
    "10\\cdot2\\cdot\\sqrt{10} - \\int_{-\\sqrt{10}}^{\\sqrt{10}}x^{2}dx = 2\\cdot(\\sqrt{10})^{3} - \\frac{2}{3}(\\sqrt{10})^{3} = \\frac{4}{3}(\\sqrt{10})^{3}\n",
    "$$"
   ]
  },
  {
   "cell_type": "markdown",
   "metadata": {},
   "source": [
    "- The total area (i.e. the sum of the orange area and the blue area) is simply $(2\\cdot10)^{2} = 400$ so, for our example where $x=10$, the probability that the roots are real is:\n",
    "\n",
    "$$\n",
    "\\frac{\\frac{4}{3}(\\sqrt{10})^{3}}{400} \\approx 0.10541\n",
    "$$"
   ]
  },
  {
   "cell_type": "markdown",
   "metadata": {},
   "source": [
    "- It's pretty easy to see that in the general case, the blue area will be equal to $(4/3)x^{2/3}$ and the total area will be equal to $(2x)^{2} = 4x^{2}$ therefore, our probability is equal to:\n",
    "\n",
    "$$\n",
    "P(\\text{Real Roots | } x) = \\frac{(4/3)x^{3/2}}{4x^{2}} = \\frac{x^{3/2}}{3x^{2}} = \\frac{1}{3\\sqrt{x}}\n",
    "$$"
   ]
  }
 ],
 "metadata": {
  "kernelspec": {
   "display_name": "Python 3",
   "language": "python",
   "name": "python3"
  },
  "language_info": {
   "codemirror_mode": {
    "name": "ipython",
    "version": 3
   },
   "file_extension": ".py",
   "mimetype": "text/x-python",
   "name": "python",
   "nbconvert_exporter": "python",
   "pygments_lexer": "ipython3",
   "version": "3.6.5"
  }
 },
 "nbformat": 4,
 "nbformat_minor": 2
}
