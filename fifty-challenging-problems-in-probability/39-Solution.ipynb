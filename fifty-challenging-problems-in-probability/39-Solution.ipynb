{
 "cells": [
  {
   "cell_type": "markdown",
   "metadata": {},
   "source": [
    "# The Clumsy Chemist\n",
    "\n",
    "- In a laboratory, each of a handful of thin 9-inch glass rods had one tip marked with a blue dot and the other with a red\n",
    "- When the laboratory assistant tripped and dropped them onto the concrete floor, many broke into three pieces\n",
    "- *For these, what was the average length of the fragment with the blue dot?*"
   ]
  },
  {
   "cell_type": "markdown",
   "metadata": {},
   "source": [
    "____\n",
    "\n",
    "- So, let's assume a rod broke into three pieces. Since the rod's length (9 inches) doesn't really matter, we'll simplify the math by assuming it has length 1\n",
    "    - The first break point is uniformly distributed across the rod\n",
    "        - Let's denote the first break point $b_{1}$\n",
    "        \n",
    "![](images/39-1.png)"
   ]
  },
  {
   "cell_type": "markdown",
   "metadata": {},
   "source": [
    "- Now, there are two possibilities for the second break point, denoted $b_{2}$\n",
    "    1. The second break point is **closer** to the blue tip than $b_{1}$\n",
    "        - This outcome has probability $\\frac{b_{1}}{1} = b_{1}$\n",
    "    2. The second break point is **further** from the blue tip than $b_{1}$\n",
    "        - This outcome has probability $1-b_{1}$"
   ]
  },
  {
   "cell_type": "markdown",
   "metadata": {},
   "source": [
    "- In the first scenario, the fragment with the blue dot has length $b_{2}$\n",
    "    - In the second, it has length $b_{1}$"
   ]
  },
  {
   "cell_type": "markdown",
   "metadata": {},
   "source": [
    "- The probability density function of the continuous uniform distribution is equal to $f(x) = \\frac{1}{b-a}$ so for this scenario it is $f(x)=1$"
   ]
  },
  {
   "cell_type": "markdown",
   "metadata": {},
   "source": [
    "- Therefore:\n",
    "\n",
    "$$\n",
    "E(\\text{Length piece with blue dot} | b_{1} = b) = \\int_{0}^{b}xdx + \\int_{b}^{1}bdx = b - \\frac{b^{2}}{2}\n",
    "$$"
   ]
  },
  {
   "cell_type": "markdown",
   "metadata": {},
   "source": [
    "- Now, we integrate over the possible lengths of $b_{1} = b$\n",
    "\n",
    "$$\n",
    "E(\\text{Length of piece with blue dot}) = \\int_{0}^{1}\\left (x - \\frac{x^{2}}{2} \\right )dx = \\frac{1}{2} - \\frac{1}{6} = \\frac{1}{3}\n",
    "$$"
   ]
  },
  {
   "cell_type": "markdown",
   "metadata": {},
   "source": [
    "- Therefore, the average length of our piece is 1/3\n",
    "    - So, converting back to our 9 inch rod, the piece with the blue dot will have an average length of 3 inches"
   ]
  },
  {
   "cell_type": "markdown",
   "metadata": {},
   "source": [
    "____\n",
    "\n",
    "- Let's randomly break a rod of length 1 at two places and show that the piece with the blue end has an average length of 1/3"
   ]
  },
  {
   "cell_type": "code",
   "execution_count": 1,
   "metadata": {},
   "outputs": [],
   "source": [
    "import numpy as np"
   ]
  },
  {
   "cell_type": "code",
   "execution_count": 5,
   "metadata": {},
   "outputs": [
    {
     "data": {
      "text/plain": [
       "0.33363561436834727"
      ]
     },
     "execution_count": 5,
     "metadata": {},
     "output_type": "execute_result"
    }
   ],
   "source": [
    "N_TRIALS = 1000000\n",
    "\n",
    "array_break_points = np.random.random(size = (N_TRIALS, 2))\n",
    "array_shorter_piece = np.min(array_break_points, axis=1)\n",
    "np.mean(array_shorter_piece)"
   ]
  },
  {
   "cell_type": "markdown",
   "metadata": {},
   "source": [
    "- Eyyyy"
   ]
  }
 ],
 "metadata": {
  "kernelspec": {
   "display_name": "Python 3",
   "language": "python",
   "name": "python3"
  },
  "language_info": {
   "codemirror_mode": {
    "name": "ipython",
    "version": 3
   },
   "file_extension": ".py",
   "mimetype": "text/x-python",
   "name": "python",
   "nbconvert_exporter": "python",
   "pygments_lexer": "ipython3",
   "version": "3.6.5"
  }
 },
 "nbformat": 4,
 "nbformat_minor": 2
}
