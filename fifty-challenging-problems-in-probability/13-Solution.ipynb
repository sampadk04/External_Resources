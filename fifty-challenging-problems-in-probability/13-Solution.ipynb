{
 "cells": [
  {
   "cell_type": "markdown",
   "metadata": {},
   "source": [
    "# Prisoner's Dilemma\n",
    "\n",
    "- Three prisoners, A, B, and C have applied for parole\n",
    "- The parole board has decided to release two of the three\n",
    "    - The prisoners know this, but don't know who will be selected\n",
    "- A warder friend of prisoner A knows who will be released\n",
    "    - Prisoner A asks the for the name of one of the prisoners that will be released (that's not himself)\n",
    "        - He thinks that before he asks, his probability of being released is 2/3\n",
    "        - He thinks that after he asks, his probability of being released decreases to 1/2\n",
    "        \n",
    "- *How is he incorrect in this assumption?*"
   ]
  },
  {
   "cell_type": "markdown",
   "metadata": {},
   "source": [
    "_____\n",
    "\n",
    "- The probability of prisoner A being released is independent of which other prisoner is released\n",
    "    - There is no scenario where the prisoner could be released without another one being released as well"
   ]
  },
  {
   "cell_type": "markdown",
   "metadata": {},
   "source": [
    "$$\n",
    "P(A\\cap B) = 1/3 \\\\\n",
    "P(A\\cap C) = 1/3 \\\\\n",
    "P(B \\cap C) = 1/3\n",
    "$$"
   ]
  },
  {
   "cell_type": "markdown",
   "metadata": {},
   "source": [
    "- Then, let's say the warden says prisoner B will be released. There are 2 ways this could have happened\n",
    "    1. $A\\cap B \\implies$ the warden would say prisoner B 100% of the time\n",
    "    2. $B\\cap C \\implies$ the warden would say prisoner B 50% of the time\n",
    "        - He'd say prisoner C the other 50%\n",
    "        \n",
    "- This means the warder tells prisoner A that prisoner B will be released (1/3)(1) + (1/3)(0.5) = 1/2\n",
    "\n",
    "- So, we can calculate the probability of prisoner A being released given the warder told him prisoner B would be released as:\n",
    "\n",
    "$$\n",
    "P(\\text{A released | Warder says B will be released}) = \\frac{P(A\\cap B)}{P(\\text{Warder says B})} = \\frac{1/3}{1/2} = \\frac{2}{3}\\\\ = P(\\text{A released})\n",
    "$$"
   ]
  },
  {
   "cell_type": "markdown",
   "metadata": {},
   "source": [
    "- This calculation is identical if the warder tells him prisoner C\n",
    "- As we can see, what the warder says has no impact on the probability"
   ]
  }
 ],
 "metadata": {
  "kernelspec": {
   "display_name": "Python 3",
   "language": "python",
   "name": "python3"
  },
  "language_info": {
   "codemirror_mode": {
    "name": "ipython",
    "version": 3
   },
   "file_extension": ".py",
   "mimetype": "text/x-python",
   "name": "python",
   "nbconvert_exporter": "python",
   "pygments_lexer": "ipython3",
   "version": "3.6.5"
  }
 },
 "nbformat": 4,
 "nbformat_minor": 2
}
