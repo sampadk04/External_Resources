{
 "cells": [
  {
   "cell_type": "markdown",
   "metadata": {},
   "source": [
    "# Coin in Square"
   ]
  },
  {
   "cell_type": "markdown",
   "metadata": {},
   "source": [
    "- In a common carnival game a player tosses a penny from a distance of about 5 feet onto the surface of a table ruled in 1-inch squares\n",
    "- If the penny (3/4 inch in diameter) falls entirely inside a square, the player receives 5 cents but does not get his penny back\n",
    "    - Otherwise, he loses the penny\n",
    "\n",
    "- *If the penny lands on the table, what is his chance to win?*"
   ]
  },
  {
   "cell_type": "markdown",
   "metadata": {},
   "source": [
    "_____\n",
    "\n",
    "- We need to think about the area of the square and split it into two zones\n",
    "    - **Win Zone**: if the center of the penny lands in this zone, he wins a nickel\n",
    "    - **Lose Zone**: if the center of the penny lands in this zone, he loses\n",
    "    \n",
    "- Then, we just need to compare the area of the Win Zone to the total area to get the chance of winning"
   ]
  },
  {
   "cell_type": "markdown",
   "metadata": {},
   "source": [
    "- Since the diameter of the penny is 3/4 inches, the radius is 3/8 inches\n",
    "    - This means that if the center of the penny lands any closer than 3/8 inches from any edge, he loses\n",
    "        - We'll create a plot to show this"
   ]
  },
  {
   "cell_type": "code",
   "execution_count": 1,
   "metadata": {},
   "outputs": [],
   "source": [
    "import matplotlib.pyplot as plt\n",
    "import numpy as np"
   ]
  },
  {
   "cell_type": "code",
   "execution_count": 2,
   "metadata": {},
   "outputs": [],
   "source": [
    "%matplotlib inline\n",
    "plt.rcParams['figure.figsize'] = 10, 10"
   ]
  },
  {
   "cell_type": "code",
   "execution_count": 3,
   "metadata": {},
   "outputs": [],
   "source": [
    "x_box = [0, 1]\n",
    "x_coin = [3/8, 1-3/8]\n",
    "y_box = [1,1]\n",
    "y_coin_upper = [1-3/8, 1-3/8]\n",
    "y_coin_lower = [3/8, 3/8]"
   ]
  },
  {
   "cell_type": "code",
   "execution_count": 4,
   "metadata": {},
   "outputs": [
    {
     "data": {
      "image/png": "[encoded data removed]",
      "text/plain": [
       "<Figure size 720x720 with 1 Axes>"
      ]
     },
     "metadata": {},
     "output_type": "display_data"
    }
   ],
   "source": [
    "plt.fill_between(x_box, y_box, [0,0])\n",
    "plt.fill_between(x_coin, y_coin_upper, y_coin_lower)\n",
    "plt.show()"
   ]
  },
  {
   "cell_type": "markdown",
   "metadata": {},
   "source": [
    "- As we can see, this area is really small"
   ]
  },
  {
   "cell_type": "markdown",
   "metadata": {},
   "source": [
    "$$\n",
    "(\\text{Total Area}) = 1\\cdot1 = 1 \\\\\n",
    "(\\text{Orange Area}) = ((1-3/8) - 3/8)\\cdot((1-3/8) - 3/8) = 1/16\n",
    "$$"
   ]
  },
  {
   "cell_type": "markdown",
   "metadata": {},
   "source": [
    "- Therefore, the probability of winning is (1/16)/1 = 1/16"
   ]
  },
  {
   "cell_type": "markdown",
   "metadata": {},
   "source": [
    "___\n",
    "\n",
    "- We can simulate a bunch of coin flips to confirm our result"
   ]
  },
  {
   "cell_type": "code",
   "execution_count": 5,
   "metadata": {},
   "outputs": [],
   "source": [
    "x, y = np.random.random(size=2)"
   ]
  },
  {
   "cell_type": "code",
   "execution_count": 6,
   "metadata": {},
   "outputs": [
    {
     "data": {
      "text/plain": [
       "(0.9259874755742901, 0.3823939188852502)"
      ]
     },
     "execution_count": 6,
     "metadata": {},
     "output_type": "execute_result"
    }
   ],
   "source": [
    "x, y"
   ]
  },
  {
   "cell_type": "code",
   "execution_count": 7,
   "metadata": {},
   "outputs": [],
   "source": [
    "def sim():\n",
    "    x, y = np.random.random(size=2)\n",
    "    y_upper_edge = y + 3/8\n",
    "    y_lower_edge = y - 3/8\n",
    "    x_left_edge = x - 3/8\n",
    "    x_right_edge = x + 3/8\n",
    "    \n",
    "    if (y_upper_edge > 1) or (y_lower_edge < 0) or (x_left_edge < 0) or (x_right_edge > 1):\n",
    "        return 0\n",
    "    else:\n",
    "        return 1"
   ]
  },
  {
   "cell_type": "code",
   "execution_count": 8,
   "metadata": {},
   "outputs": [
    {
     "name": "stdout",
     "output_type": "stream",
     "text": [
      "0.062337\n"
     ]
    }
   ],
   "source": [
    "n_trials = 1000000\n",
    "total = 0\n",
    "\n",
    "for trial in range(n_trials):\n",
    "    total += sim()\n",
    "    \n",
    "print(total/n_trials)"
   ]
  },
  {
   "cell_type": "code",
   "execution_count": 9,
   "metadata": {},
   "outputs": [
    {
     "data": {
      "text/plain": [
       "0.0625"
      ]
     },
     "execution_count": 9,
     "metadata": {},
     "output_type": "execute_result"
    }
   ],
   "source": [
    "1/16"
   ]
  },
  {
   "cell_type": "markdown",
   "metadata": {},
   "source": [
    "- Eyyy"
   ]
  }
 ],
 "metadata": {
  "kernelspec": {
   "display_name": "Python 3",
   "language": "python",
   "name": "python3"
  },
  "language_info": {
   "codemirror_mode": {
    "name": "ipython",
    "version": 3
   },
   "file_extension": ".py",
   "mimetype": "text/x-python",
   "name": "python",
   "nbconvert_exporter": "python",
   "pygments_lexer": "ipython3",
   "version": "3.6.5"
  }
 },
 "nbformat": 4,
 "nbformat_minor": 2
}
