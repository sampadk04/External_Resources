{
 "cells": [
  {
   "cell_type": "markdown",
   "metadata": {},
   "source": [
    "# The First Ace\n",
    "\n",
    "- Shuffle an ordinary deck of 52 playing cards with 4 aces\n",
    "- They turn up cards from the top until the first ace appears\n",
    "- *On average, how many cards are required to produce the first ace?*"
   ]
  },
  {
   "cell_type": "markdown",
   "metadata": {},
   "source": [
    "____\n",
    "\n",
    "- We can think of the problem in the following way: assume that the aces are instead black cards, and all other cards are white cards\n",
    "    - Then, we have 4 black cards and 48 white cards\n",
    "- Assume that we lay out all 48 red cards first\n",
    "    - Then, we randomly lay the 4 black cards in the slots between the 48 cards\n",
    "        - For each card, there are 49 possible places to put the card\n",
    "        \n",
    "- Now, if we think of where we place the card as the break points like in the previous broken, we presume that on average the 48 cards are broken into even increments between black cards\n",
    "    - Therefore, there are $48/5 = 9.6$ cards on average between each black card\n",
    "        - This means that there are 9.6 cards that come up before the first ace, and therefore it takes on average 10.6 cards to produce the first ace"
   ]
  },
  {
   "cell_type": "markdown",
   "metadata": {},
   "source": [
    "- Let's confirm this result"
   ]
  },
  {
   "cell_type": "code",
   "execution_count": 12,
   "metadata": {},
   "outputs": [],
   "source": [
    "import numpy as np"
   ]
  },
  {
   "cell_type": "code",
   "execution_count": 13,
   "metadata": {},
   "outputs": [],
   "source": [
    "array_deck = np.array(4 * [1] + 48 * [0])"
   ]
  },
  {
   "cell_type": "code",
   "execution_count": 18,
   "metadata": {},
   "outputs": [],
   "source": [
    "N_TRIALS = 100000\n",
    "list_results = []\n",
    "\n",
    "for _ in range(N_TRIALS):\n",
    "    array_shuffle = np.random.permutation(array_deck)\n",
    "    # Note: need to add one since count starts at 0\n",
    "    list_results.append(np.argmax(array_shuffle)+1)"
   ]
  },
  {
   "cell_type": "code",
   "execution_count": 19,
   "metadata": {},
   "outputs": [
    {
     "data": {
      "text/plain": [
       "10.60025"
      ]
     },
     "execution_count": 19,
     "metadata": {},
     "output_type": "execute_result"
    }
   ],
   "source": [
    "np.mean(list_results)"
   ]
  },
  {
   "cell_type": "markdown",
   "metadata": {},
   "source": [
    "- Eyyy\n",
    "    - Bang on"
   ]
  }
 ],
 "metadata": {
  "kernelspec": {
   "display_name": "Python 3",
   "language": "python",
   "name": "python3"
  },
  "language_info": {
   "codemirror_mode": {
    "name": "ipython",
    "version": 3
   },
   "file_extension": ".py",
   "mimetype": "text/x-python",
   "name": "python",
   "nbconvert_exporter": "python",
   "pygments_lexer": "ipython3",
   "version": "3.6.5"
  }
 },
 "nbformat": 4,
 "nbformat_minor": 2
}
