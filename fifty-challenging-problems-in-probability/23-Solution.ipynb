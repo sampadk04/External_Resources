{
 "cells": [
  {
   "cell_type": "markdown",
   "metadata": {},
   "source": [
    "- Players A and B match pennies N times\n",
    "- They keep a tally of their gains and losses\n",
    "- *After the first toss, what is the chance that at no time during the game will they be even?*"
   ]
  },
  {
   "cell_type": "markdown",
   "metadata": {},
   "source": [
    "____\n",
    "\n",
    "**Note**: *\"It is played between two players, Even and Odd. Each player has a penny and must secretly turn the penny to heads or tails. The players then reveal their choices simultaneously. If the pennies match (both heads or both tails), then Even keeps both pennies, so wins one from Odd (+1 for Even, −1 for Odd). If the pennies do not match (one heads and one tails) Odd keeps both pennies, so receives one from Even (−1 for Even, +1 for Odd).\"*"
   ]
  },
  {
   "cell_type": "markdown",
   "metadata": {},
   "source": [
    "- After the first toss, there are two possibilities\n",
    "    1. A ahead by 1\n",
    "    2. B ahead by 1\n",
    "    \n",
    "- They have $N-1$ tosses remaining"
   ]
  },
  {
   "cell_type": "markdown",
   "metadata": {},
   "source": [
    "- Let's consider the possible paths when $N=3$"
   ]
  },
  {
   "cell_type": "code",
   "execution_count": 1,
   "metadata": {},
   "outputs": [],
   "source": [
    "import numpy as np\n",
    "import matplotlib.pyplot as plt\n",
    "import pandas as pd"
   ]
  },
  {
   "cell_type": "code",
   "execution_count": 2,
   "metadata": {},
   "outputs": [],
   "source": [
    "%matplotlib inline\n",
    "plt.rcParams['figure.figsize'] = 10, 10"
   ]
  },
  {
   "cell_type": "code",
   "execution_count": 4,
   "metadata": {},
   "outputs": [],
   "source": [
    "array_flips = (np.array([-1, 1]),)*3\n",
    "array_permutations = np.meshgrid(*array_flips)"
   ]
  },
  {
   "cell_type": "code",
   "execution_count": 14,
   "metadata": {},
   "outputs": [],
   "source": [
    "df_paths = pd.DataFrame([x.ravel() for x in array_permutations]).cumsum()"
   ]
  },
  {
   "cell_type": "code",
   "execution_count": 15,
   "metadata": {},
   "outputs": [
    {
     "data": {
      "text/html": [
       "<div>\n",
       "<style scoped>\n",
       "    .dataframe tbody tr th:only-of-type {\n",
       "        vertical-align: middle;\n",
       "    }\n",
       "\n",
       "    .dataframe tbody tr th {\n",
       "        vertical-align: top;\n",
       "    }\n",
       "\n",
       "    .dataframe thead th {\n",
       "        text-align: right;\n",
       "    }\n",
       "</style>\n",
       "<table border=\"1\" class=\"dataframe\">\n",
       "  <thead>\n",
       "    <tr style=\"text-align: right;\">\n",
       "      <th></th>\n",
       "      <th>0</th>\n",
       "      <th>1</th>\n",
       "      <th>2</th>\n",
       "      <th>3</th>\n",
       "      <th>4</th>\n",
       "      <th>5</th>\n",
       "      <th>6</th>\n",
       "      <th>7</th>\n",
       "    </tr>\n",
       "  </thead>\n",
       "  <tbody>\n",
       "    <tr>\n",
       "      <th>0</th>\n",
       "      <td>-1</td>\n",
       "      <td>-1</td>\n",
       "      <td>1</td>\n",
       "      <td>1</td>\n",
       "      <td>-1</td>\n",
       "      <td>-1</td>\n",
       "      <td>1</td>\n",
       "      <td>1</td>\n",
       "    </tr>\n",
       "    <tr>\n",
       "      <th>1</th>\n",
       "      <td>-2</td>\n",
       "      <td>-2</td>\n",
       "      <td>0</td>\n",
       "      <td>0</td>\n",
       "      <td>0</td>\n",
       "      <td>0</td>\n",
       "      <td>2</td>\n",
       "      <td>2</td>\n",
       "    </tr>\n",
       "    <tr>\n",
       "      <th>2</th>\n",
       "      <td>-3</td>\n",
       "      <td>-1</td>\n",
       "      <td>-1</td>\n",
       "      <td>1</td>\n",
       "      <td>-1</td>\n",
       "      <td>1</td>\n",
       "      <td>1</td>\n",
       "      <td>3</td>\n",
       "    </tr>\n",
       "  </tbody>\n",
       "</table>\n",
       "</div>"
      ],
      "text/plain": [
       "   0  1  2  3  4  5  6  7\n",
       "0 -1 -1  1  1 -1 -1  1  1\n",
       "1 -2 -2  0  0  0  0  2  2\n",
       "2 -3 -1 -1  1 -1  1  1  3"
      ]
     },
     "execution_count": 15,
     "metadata": {},
     "output_type": "execute_result"
    }
   ],
   "source": [
    "df_paths"
   ]
  },
  {
   "cell_type": "markdown",
   "metadata": {},
   "source": [
    "- As we can see, the probability of reaching a tie at some point is 1/2"
   ]
  },
  {
   "cell_type": "markdown",
   "metadata": {},
   "source": [
    "- Let's try $N=6$"
   ]
  },
  {
   "cell_type": "code",
   "execution_count": 17,
   "metadata": {},
   "outputs": [],
   "source": [
    "array_flips = (np.array([-1, 1]),)*6\n",
    "array_permutations = np.meshgrid(*array_flips)\n",
    "df_paths = pd.DataFrame([x.ravel() for x in array_permutations]).cumsum()"
   ]
  },
  {
   "cell_type": "code",
   "execution_count": 23,
   "metadata": {},
   "outputs": [
    {
     "data": {
      "text/plain": [
       "(44, 64)"
      ]
     },
     "execution_count": 23,
     "metadata": {},
     "output_type": "execute_result"
    }
   ],
   "source": [
    "len([x for x in df_paths.columns if (df_paths[x]==0).sum()>=1]),len(df_paths.columns)"
   ]
  },
  {
   "cell_type": "markdown",
   "metadata": {},
   "source": [
    "- For $N=6$, the probability is 11/16\n",
    "    - **As we can see, the probability isn't just 1/2**"
   ]
  },
  {
   "cell_type": "markdown",
   "metadata": {},
   "source": [
    "- Since each coin flip has two possible outcomes, there are $2^{N}$ different paths the game can take"
   ]
  },
  {
   "cell_type": "markdown",
   "metadata": {},
   "source": [
    "- Let's visualize the simulated probabilities for different $N$ values"
   ]
  },
  {
   "cell_type": "code",
   "execution_count": 76,
   "metadata": {},
   "outputs": [],
   "source": [
    "def sim(N, n_trials):\n",
    "    array_flips = np.random.randint(0, 2, size=(N, 2, n_trials))\n",
    "    array_sum = np.sum(array_flips, axis=1)\n",
    "    array_boolean = (array_sum == 1).astype(int)\n",
    "    array_score = np.cumsum(array_boolean + (-1 + array_boolean), axis=0)\n",
    "    array_results = (np.sum(array_score == 0, axis=0)>0).astype(int)\n",
    "    return np.mean(array_results)"
   ]
  },
  {
   "cell_type": "code",
   "execution_count": 87,
   "metadata": {},
   "outputs": [],
   "source": [
    "n_trials = 100000\n",
    "x = []\n",
    "list_results = []\n",
    "\n",
    "for N in range(2, 100):\n",
    "    x.append(N)\n",
    "    list_results.append(sim(N, n_trials))"
   ]
  },
  {
   "cell_type": "code",
   "execution_count": 88,
   "metadata": {},
   "outputs": [
    {
     "data": {
      "image/png": "[encoded data removed]",
      "text/plain": [
       "<Figure size 720x720 with 1 Axes>"
      ]
     },
     "metadata": {},
     "output_type": "display_data"
    }
   ],
   "source": [
    "plt.plot(x, list_results)\n",
    "plt.xlabel('N')\n",
    "plt.ylabel('Probability')\n",
    "plt.show()"
   ]
  },
  {
   "cell_type": "markdown",
   "metadata": {},
   "source": [
    "- As we can see from the plot, the probabilities seem to only change for **every other $N$ value**\n",
    "    - *Why?*\n",
    "       - This is because you need two flips to tie\n",
    "           - e.g. $P(\\text{Tied at some point in 3 flips}) = P(\\text{Tied at some point in 2 flips})$"
   ]
  },
  {
   "cell_type": "markdown",
   "metadata": {},
   "source": [
    "- First, let's assume for simplicity that **$N$ is even**"
   ]
  },
  {
   "cell_type": "markdown",
   "metadata": {},
   "source": [
    "- Then, there is some $n$ such that $N=2n$"
   ]
  },
  {
   "cell_type": "markdown",
   "metadata": {},
   "source": [
    "- Now, let's assume that of the $N$ flips, A wins $x$ of them\n",
    "    - There are three cases we need to consider:\n",
    "        1. $x<n$ i.e. A wins less than half of the flips\n",
    "        2. $x=n$ i.e. A wins exactly half the flips\n",
    "        3. $x>n$ i.e. A wins more than half the flips"
   ]
  },
  {
   "cell_type": "markdown",
   "metadata": {},
   "source": [
    "#### Scenario 1\n",
    "\n",
    "- This is essentially the ballot box problem, so:\n",
    "\n",
    "$$\n",
    "P(\\text{Tie at some point | Scenario 1}) = 2\\cdot \\frac{x}{N}\n",
    "$$"
   ]
  },
  {
   "cell_type": "markdown",
   "metadata": {},
   "source": [
    "#### Scenario 2\n",
    "\n",
    "- Since they get the exact number of flips, they **must** tie so:\n",
    "\n",
    "$$\n",
    "P(\\text{Tie at some point | Scenario 2}) = 1\n",
    "$$"
   ]
  },
  {
   "cell_type": "markdown",
   "metadata": {},
   "source": [
    "#### Scenario 3\n",
    "\n",
    "- This again the ballot box problem, but reversed, so:\n",
    "\n",
    "$$\n",
    "P(\\text{Tie at some point | Scenario 1}) = 2\\cdot \\frac{N-x}{N}\n",
    "$$"
   ]
  },
  {
   "cell_type": "markdown",
   "metadata": {},
   "source": [
    "- For each possible $x$ value, there are $\\binom{N}{x}$ different paths with $x$ wins for A, and we know there are $2^{N}$ total possible paths for $N$ flips so\n",
    "\n",
    "$$\n",
    "P(x\\text{ wins for A}) = \\frac{\\binom{N}{x}}{2^{N}}\n",
    "$$"
   ]
  },
  {
   "cell_type": "markdown",
   "metadata": {},
   "source": [
    "- So, we can combine all these to get (note: let $T$ represent the event that the two tie at some point in $N$ flips):\n",
    "\n",
    "$$\n",
    "P(T) = P(T \\cap x=0) + P(T \\cap x=1) + ... + P(T \\cap x=N-1) + P(T \\cap x=N)\n",
    "$$"
   ]
  },
  {
   "cell_type": "markdown",
   "metadata": {},
   "source": [
    "$$\n",
    "=\\frac{2}{2^{N}} \\left ( \\binom{N}{0}\\frac{0}{N} +  \\binom{N}{1}\\frac{1}{N} + ... + \\binom{N}{N-1}\\frac{N-(N-1)}{N} + \\binom{N}{N}\\frac{N-N}{N} \\right )\n",
    "$$"
   ]
  },
  {
   "cell_type": "markdown",
   "metadata": {},
   "source": [
    "- We note that the numerator for the term where $x=i$ is the same as the one where $x=N-i$\n",
    "- We also note that $\\binom{N}{x} = \\binom{N}{N-x}$\n",
    "    - Combining these two, we can convert this expression to:\n",
    "    \n",
    "$$\n",
    "P(T) = \\frac{2}{2^{N}}\\left ( 2\\cdot\\sum_{x=0}^{x=n-1}\\binom{N}{x}\\frac{x}{N} + \\binom{N}{n}\\right )\n",
    "$$"
   ]
  },
  {
   "cell_type": "markdown",
   "metadata": {},
   "source": [
    "- I haven't written it out, but apparently this simplifies to:\n",
    "\n",
    "$$\n",
    "P(T) = \\frac{2}{2^{N}}\\left (2^{N-1} - \\binom{N-1}{n} \\right ) = 1 - \\frac{\\binom{N-1}{n}}{2^{N-1}}\n",
    "$$"
   ]
  },
  {
   "cell_type": "markdown",
   "metadata": {},
   "source": [
    "- Therefore, the probability that they never tie in the $N$ flips is equal to:\n",
    "\n",
    "$$\n",
    "P(\\text{Never Tie}) = 1 - P(T) = \\frac{\\binom{N-1}{n}}{2^{N-1}}\n",
    "$$"
   ]
  },
  {
   "cell_type": "markdown",
   "metadata": {},
   "source": [
    "- Note: apparently, this expression can be rewritten as\n",
    "\n",
    "$$\n",
    "P(\\text{Never Tie}) = \\binom{N}{n}\\frac{1}{2^{N}} = \\binom{N}{N/2}\\frac{1}{2^{N}}\n",
    "$$"
   ]
  },
  {
   "cell_type": "markdown",
   "metadata": {},
   "source": [
    "- Since when $N$ is odd, the probability doesn't change, we can use\n",
    "\n",
    "$$\n",
    "P(\\text{Never Tie}) = \\binom{N-1}{(N-1)/2}\\frac{1}{2^{N-1}}\n",
    "$$"
   ]
  },
  {
   "cell_type": "markdown",
   "metadata": {},
   "source": [
    "_______\n",
    "\n",
    "- Let's compare this value to our curve we simulated"
   ]
  },
  {
   "cell_type": "code",
   "execution_count": 97,
   "metadata": {},
   "outputs": [],
   "source": [
    "from scipy.special import comb"
   ]
  },
  {
   "cell_type": "code",
   "execution_count": 102,
   "metadata": {},
   "outputs": [],
   "source": [
    "list_probabilities = []\n",
    "for N in x:\n",
    "    if N % 2 == 0:\n",
    "        P = 1-comb(N, N/2)/(2**N)\n",
    "    list_probabilities.append(P)"
   ]
  },
  {
   "cell_type": "code",
   "execution_count": 103,
   "metadata": {
    "scrolled": false
   },
   "outputs": [
    {
     "data": {
      "image/png": "[encoded data removed]",
      "text/plain": [
       "<Figure size 720x720 with 1 Axes>"
      ]
     },
     "metadata": {},
     "output_type": "display_data"
    }
   ],
   "source": [
    "plt.plot(x, list_results, label = 'Simulated')\n",
    "plt.plot(x, list_probabilities, label = 'Calculated')\n",
    "plt.legend()\n",
    "plt.xlabel('N')\n",
    "plt.ylabel('Probability')\n",
    "plt.show()"
   ]
  },
  {
   "cell_type": "markdown",
   "metadata": {},
   "source": [
    "- Eyyyyy"
   ]
  }
 ],
 "metadata": {
  "kernelspec": {
   "display_name": "Python 3",
   "language": "python",
   "name": "python3"
  },
  "language_info": {
   "codemirror_mode": {
    "name": "ipython",
    "version": 3
   },
   "file_extension": ".py",
   "mimetype": "text/x-python",
   "name": "python",
   "nbconvert_exporter": "python",
   "pygments_lexer": "ipython3",
   "version": "3.6.4"
  }
 },
 "nbformat": 4,
 "nbformat_minor": 2
}
