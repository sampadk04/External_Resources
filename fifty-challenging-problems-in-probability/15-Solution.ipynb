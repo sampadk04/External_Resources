{
 "cells": [
  {
   "cell_type": "markdown",
   "metadata": {},
   "source": [
    "# The Theatre Row\n",
    "\n",
    "- Eight eligible bachelors and seven beautiful models happen randomly to have purchased single seats in the same 15 seat row of a theatre\n",
    "    - *On average, how many pairs of adjacent seats are ticketed for marriageable couples?*"
   ]
  },
  {
   "cell_type": "markdown",
   "metadata": {},
   "source": [
    "_____\n",
    "\n",
    "- If we think of the 15 chairs in a row, there are 14 gaps between the chairs\n",
    "    - Each gap represents a pairing\n",
    "        - Therefore, the number of couples in a seating arrangements is determined by the people on either side of each gap\n",
    "        - i.e. there are 14 individual pairings"
   ]
  },
  {
   "cell_type": "markdown",
   "metadata": {},
   "source": [
    "- So if we think of each gap as a random variable (with value 1 if the pair is a marriageable couple and 0 if not) then the total number of couples is equal to the sum of the variables:\n",
    "\n",
    "$$\n",
    "C_{total} = C_{1}+C_{2}+...+C_{14}\n",
    "$$"
   ]
  },
  {
   "cell_type": "markdown",
   "metadata": {},
   "source": [
    "- Let's consider a random pairing $C_{i}$\n",
    "    - **Note**: recall the problem \"*what is the probability of the 5th card dealt being a king?*\"\n",
    "        - We imagine that the first 4 cards haven't been turned over yet, therefore our probability is 4/52\n",
    "            - In this case, we don't worry about any of the other pairings, we **imagine they haven't taken their seats yet**"
   ]
  },
  {
   "cell_type": "markdown",
   "metadata": {},
   "source": [
    "- The first seat either has a woman (probability 7/15) or a man (probability 8/15)\n",
    "    - If it's a woman, then the probability that the second seat is a man is 8/14\n",
    "    - If it's a man, then probability that the second seat is a woman is 7/14\n",
    "    \n",
    "- Therefore:\n",
    "\n",
    "$$\n",
    "E(C_{i}) = \\frac{8}{15}\\frac{7}{14} + \\frac{7}{15}\\frac{8}{14} = \\frac{8}{15}\n",
    "$$"
   ]
  },
  {
   "cell_type": "markdown",
   "metadata": {},
   "source": [
    "- Therefore\n",
    "\n",
    "$$\n",
    "E(C) = 14 \\cdot \\frac{8}{15} = \\frac{112}{15}\\approx 7.46667\n",
    "$$"
   ]
  },
  {
   "cell_type": "markdown",
   "metadata": {},
   "source": [
    "_____\n",
    "\n",
    "**Code Tieout**"
   ]
  },
  {
   "cell_type": "code",
   "execution_count": 2,
   "metadata": {},
   "outputs": [],
   "source": [
    "import numpy as np\n",
    "from itertools import combinations"
   ]
  },
  {
   "cell_type": "code",
   "execution_count": 19,
   "metadata": {},
   "outputs": [],
   "source": [
    "array_seats = np.arange(15)\n",
    "array_seats_assigned = np.repeat(['W'], 15)\n",
    "count = 0\n",
    "total = 0\n",
    "\n",
    "for arrangement in combinations(array_seats, 8):\n",
    "    total += 1\n",
    "    array_seats_assigned_temp = array_seats_assigned.copy()\n",
    "    array_seats_assigned_temp[np.array(arrangement)] = 'M'\n",
    "    for i in range(14):\n",
    "        pair = array_seats_assigned_temp[[i, i+1]]\n",
    "        if len(set(pair))==2:\n",
    "            count += 1"
   ]
  },
  {
   "cell_type": "code",
   "execution_count": 20,
   "metadata": {},
   "outputs": [
    {
     "data": {
      "text/plain": [
       "7.466666666666667"
      ]
     },
     "execution_count": 20,
     "metadata": {},
     "output_type": "execute_result"
    }
   ],
   "source": [
    "count/total"
   ]
  },
  {
   "cell_type": "markdown",
   "metadata": {},
   "source": [
    "- Eyyyyy"
   ]
  }
 ],
 "metadata": {
  "kernelspec": {
   "display_name": "Python 3",
   "language": "python",
   "name": "python3"
  },
  "language_info": {
   "codemirror_mode": {
    "name": "ipython",
    "version": 3
   },
   "file_extension": ".py",
   "mimetype": "text/x-python",
   "name": "python",
   "nbconvert_exporter": "python",
   "pygments_lexer": "ipython3",
   "version": "3.6.5"
  }
 },
 "nbformat": 4,
 "nbformat_minor": 2
}
