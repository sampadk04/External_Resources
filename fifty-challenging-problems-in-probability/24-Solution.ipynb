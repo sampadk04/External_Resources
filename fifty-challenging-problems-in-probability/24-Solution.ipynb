{
 "cells": [
  {
   "cell_type": "markdown",
   "metadata": {},
   "source": [
    "# The Unfair Subway\n",
    "\n",
    "- Marvin gets off work at random times between 3 and 5pm\n",
    "- His mother lives uptown, and his girl friend lives downtown\n",
    "- He takes the first subway that comes in either direction and eats dinner with whoever's apartment he ends up at\n",
    "- His mother complains that he never comes to see her, but he says she has a 50-50 chance\n",
    "- He has dinner with her twice in the first 20 working days\n",
    "- *Explain*"
   ]
  },
  {
   "cell_type": "markdown",
   "metadata": {},
   "source": [
    "____\n",
    "\n",
    "- If he's telling the truth, and it is in fact a 50/50 chance, then **we can calculate the probability that it's simply bad luck**\n",
    "\n",
    "- The probability that he would see her 2 or fewer of the first 20 days can be calculated as:\n",
    "\n",
    "$$\n",
    "P(\\text{2 dinners or fewer}) = P(\\text{0 dinners}) + P(\\text{1 dinner}) + P(\\text{2 dinners})\n",
    "$$"
   ]
  },
  {
   "cell_type": "markdown",
   "metadata": {},
   "source": [
    "$$\n",
    "= (1/2)^{20} + \\binom{20}{1}(1/2)^{20} + \\binom{20}{2}(1/2)^{20} \\approx 0.000201\n",
    "$$"
   ]
  },
  {
   "cell_type": "markdown",
   "metadata": {},
   "source": [
    "- As we can see, the chances that he actually has a 50/50 chance of dining with his mother and only visited her twice in the first 20 days is very small"
   ]
  },
  {
   "cell_type": "markdown",
   "metadata": {},
   "source": [
    "____\n",
    "\n",
    "**Note: the solution above is incorrect**"
   ]
  },
  {
   "cell_type": "markdown",
   "metadata": {},
   "source": [
    "- The solution above assumes he's equally likely of getting on either train (like Marvin seems to think)\n",
    "    - Consider the following scenario: Uptown trains arrive every ten minutes on the 2 (e.g. 1:02, 1:12, 1:22, etc.) and the Downtown trains come every ten minutes on the 1 (e.g. 1:01, 1:11, 1:21, etc.)"
   ]
  },
  {
   "cell_type": "markdown",
   "metadata": {},
   "source": [
    "- Then, for Marvin to get on the uptown train, he must arrive between the 1 and the 2 (probability 1/10)\n",
    "    - If he misses that time slot, the next train to arrive is always the Downtown train"
   ]
  }
 ],
 "metadata": {
  "kernelspec": {
   "display_name": "Python 3",
   "language": "python",
   "name": "python3"
  },
  "language_info": {
   "codemirror_mode": {
    "name": "ipython",
    "version": 3
   },
   "file_extension": ".py",
   "mimetype": "text/x-python",
   "name": "python",
   "nbconvert_exporter": "python",
   "pygments_lexer": "ipython3",
   "version": "3.6.5"
  }
 },
 "nbformat": 4,
 "nbformat_minor": 2
}
