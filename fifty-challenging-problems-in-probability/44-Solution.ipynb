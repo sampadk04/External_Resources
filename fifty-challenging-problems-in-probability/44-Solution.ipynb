{
 "cells": [
  {
   "cell_type": "markdown",
   "metadata": {},
   "source": [
    "# Winning an Unfair Game\n",
    "\n",
    "- A game consists of a sequence of plays\n",
    "- On each play either you or your opponent scores a point\n",
    "    - You with probability $p < 1/2$, he with probability $1-p$\n",
    "- The number of plays is to be even\n",
    "- **To win the game, you must get *more* than half the points**\n",
    "- You get to choose in advance the number of plays\n",
    "    - *How many do you choose?*"
   ]
  },
  {
   "cell_type": "markdown",
   "metadata": {},
   "source": [
    "_____\n",
    "\n",
    "- Let's first think through a few scenarios\n",
    "\n",
    "**2 games**\n",
    "\n",
    "- If we play only two games, then there are only three possible outcomes\n",
    "    1. I win both games\n",
    "        - $P = p^{2}$\n",
    "    2. I lose both games\n",
    "        - $P = (1-p)^{2}$\n",
    "    3. We both win one game\n",
    "        - $P = 2p(1-p)$\n",
    "        \n",
    "- The only way I can win **more** than half the games is to win both\n",
    "    - Therefore, the probability that I win in this scenario is only $p^{2}$"
   ]
  },
  {
   "cell_type": "markdown",
   "metadata": {},
   "source": [
    "**4 games**\n",
    "\n",
    "- The possibilities are:\n",
    "    1. I **win all 4 games**\n",
    "        - $P=p^{4}$\n",
    "    2. I **lose all 4 games**\n",
    "        - $P=(1-p)^{4}$\n",
    "    3. I **win 1 game**\n",
    "        - $P = \\binom{4}{1}p(1-p)^{3} = 4p(1-p)^{3}$\n",
    "    4. I **win 2 games**\n",
    "        - $P = \\binom{4}{2}p^{2}(1-p)^{2} = 6p^{2}(1-p)^{2}$\n",
    "    5. I **win 3 games**\n",
    "        - $P = \\binom{4}{3}p^{3}(1-p) = 4p^{3}(1-p)$"
   ]
  },
  {
   "cell_type": "markdown",
   "metadata": {},
   "source": [
    "- The ways I can win more than half the games is if I:\n",
    "    - Win all 4\n",
    "    - Win 3 out of 4\n",
    "- Therefore, the overall probability that I win is equal to $p^{4} + 4p^{3}(1-p) = p^{3} \\left (p + 4(1-p) \\right ) = p^{3}\\left (4 - 3p \\right )$\n",
    "    - If $p \\leq 1/3$ then this probability is **less than $p^{2}$**\n",
    "    - If $p > 1/3$ then this probability is **greater than $p^{2}$**"
   ]
  },
  {
   "cell_type": "markdown",
   "metadata": {},
   "source": [
    "___\n",
    "\n",
    "**6 games**\n",
    "\n",
    "- We know we'll need to win 4, 5, or 6 games so the sum of the probabilities is:\n",
    "\n",
    "$$\n",
    "P(\\text{Winning | 6 games}) = p^{6} + \\binom{6}{5}p^{5}(1-p) + \\binom{6}{4}p^{4}(1-p)^{2}\n",
    "$$"
   ]
  },
  {
   "cell_type": "markdown",
   "metadata": {},
   "source": [
    "$$\n",
    "= p^{6} + 6p^{5}(1-p) + 15p^{4}(1-p)^{2}\n",
    "$$"
   ]
  },
  {
   "cell_type": "markdown",
   "metadata": {},
   "source": [
    "$$\n",
    "= p^{4}\\left (p^{2} + 6p(1-p) + 15(1-p)^{2} \\right ) = p^{4} \\left (10p^{2} - 24p + 15 \\right )\n",
    "$$"
   ]
  },
  {
   "cell_type": "markdown",
   "metadata": {},
   "source": [
    "- As we can see, there are 3 cases:\n",
    "    1. If $p < 1/3$, we have the highest probability of winning by playing 2 games\n",
    "    2. If $1/3 < p < 0.4$, we have the highest probability of winning by playing 4 games\n",
    "    3. If $0.4 < p < 0.5$, we have the highest probability of winning by playing 6 games"
   ]
  },
  {
   "cell_type": "markdown",
   "metadata": {},
   "source": [
    "- Let's do one more\n",
    "\n",
    "**8 games**\n",
    "\n",
    "$$\n",
    "P(\\text{Winning | 8 games}) = p^{8} + \\binom{8}{7}p^{7}(1-p) + \\binom{8}{6}p^{6}(1-p)^{2} + \\binom{8}{5}p^{5}(1-p)^{3}\n",
    "$$"
   ]
  },
  {
   "cell_type": "markdown",
   "metadata": {},
   "source": [
    "$$\n",
    "= p^{8} + 8p^{7}(1-p) + 28p^{6}(1-p)^{2} + 56p^{5}(1-p)^{3}\n",
    "$$"
   ]
  },
  {
   "cell_type": "markdown",
   "metadata": {},
   "source": [
    "$$\n",
    "= p^{5} \\left (56 - 35p^{3} + 120p^{2} - 140p \\right )\n",
    "$$"
   ]
  },
  {
   "cell_type": "markdown",
   "metadata": {},
   "source": [
    "_______\n",
    "\n",
    "**General case**\n",
    "\n",
    "- Before we continue onto $\\infty$, we notice that if we're playing $2n$ games, the probability that we win is at least half is equal to:\n",
    "\n",
    "$$\n",
    "P_{2n} = \\sum_{n+1}^{2n}\\binom{2n}{i}p^{i}(1-p)^{2n-i}\n",
    "$$"
   ]
  },
  {
   "cell_type": "markdown",
   "metadata": {},
   "source": [
    "- If we play $2n+2$ games, then:\n",
    "\n",
    "$$\n",
    "P_{2n+2} = \\sum_{n+2}^{2n+2}\\binom{2n+2}{i}p^{i}(1-p)^{2n+2-i}\n",
    "$$"
   ]
  },
  {
   "cell_type": "markdown",
   "metadata": {},
   "source": [
    "- So now we consider the scenario that we've played $2n$ games, and agree to play an *additional* two games for a total of $2n+2$. There are 3 cases for this:\n",
    "    1. We've already won at least $n+2$ of the $2n$ games, therefore **we can lose the next two games and still win overall**\n",
    "    2. We've won no more than $n-1$ games, so **even if we win the next two games, we still lose**\n",
    "    3. We've won $n$ or $n+1$ of the $2n$ games, so **the overall win is still up for grabs**"
   ]
  },
  {
   "cell_type": "markdown",
   "metadata": {},
   "source": [
    "- Let's consider the case where $2n=4$ so $2n+2=6$\n",
    "    - If we had won at least half of the $2n$ games, we won either 3 or 4 of the 4\n",
    "        - To win half of the $2n+2$ games, we need to win 4, 5, or 6 of them\n",
    "            - Therefore, if we won $n+2=2+2=4$ of the $2n$ games initially, we've already won more than half of the $2n+2$ games\n",
    "                - **Case 1**\n",
    "            - If we won only 3 of the first $2n$ games, we need to win at least one of the two remaining games to win overall\n",
    "                - **Case 3**\n",
    "    - If we had won less than half of the $2n$ games, we won either 0 or 1 of them\n",
    "        - In either case, even if we win both of the next two games, we still lose overall\n",
    "            - **Case 2**"
   ]
  },
  {
   "cell_type": "markdown",
   "metadata": {},
   "source": [
    "- To summarize:\n",
    "\n",
    "$$\n",
    "P(\\text{Winning at least half of the }2n+2\\text{ games | Already won }x\\text{ games}) = \\left\\{\\begin{matrix}\n",
    "1 & ;n + 2 \\leq x\\\\ p^{2} & ;x=n\\\\ p^{2} + 2p(1-p) & ;x= n+1\\\\ 0 & x < n\\end{matrix}\\right.\n",
    "$$"
   ]
  },
  {
   "cell_type": "markdown",
   "metadata": {},
   "source": [
    "- The probability of winning at least $n+2$ of the first $2n$ games is equal to:\n",
    "\n",
    "$$\n",
    "P(n+2 \\leq x) = \\sum_{n+2}^{2n}\\binom{2n}{i}p^{i}(1-p)^{2n-i}= P_{2n} - \\binom{2n}{n+1}p^{n+1}(1-p)^{n-1}\n",
    "$$"
   ]
  },
  {
   "cell_type": "markdown",
   "metadata": {},
   "source": [
    "- The probability of winning $n$ games is equal to:\n",
    "\n",
    "$$\n",
    "P(x=n) = \\binom{2n}{n}p^{n}(1-p)^{n}\n",
    "$$"
   ]
  },
  {
   "cell_type": "markdown",
   "metadata": {},
   "source": [
    "- The probability of winning $n+1$ games is equal to:\n",
    "\n",
    "$$\n",
    "P(x=n+1) = \\binom{2n}{n+1}p^{n+1}(1-p)^{n-1}\n",
    "$$"
   ]
  },
  {
   "cell_type": "markdown",
   "metadata": {},
   "source": [
    "- Combining everything, we get:\n",
    "\n",
    "$$\n",
    "P_{2n+2} =(1) \\left (P_{2n} - \\binom{2n}{n+1}p^{n+1}(1-p)^{n-1} \\right ) + p^{2}\\left (\\binom{2n}{n}p^{n}(1-p)^{n} \\right) + (p^{2} + 2p(1-p))\\left ( \\binom{2n}{n+1}p^{n+1}(1-p)^{n-1}\\right )\n",
    "$$"
   ]
  },
  {
   "cell_type": "markdown",
   "metadata": {},
   "source": [
    "$$\n",
    "= P_{2n} - \\binom{2n}{n+1}p^{n+1}(1-p)^{n-1} + \\binom{2n}{n}p^{n+2}(1-p)^{n} + \\binom{2n}{n+1}p^{n+3}(1-p)^{n-1} + 2\\binom{2n}{n+1}p^{n+2}(1-p)^{n}\n",
    "$$"
   ]
  },
  {
   "cell_type": "markdown",
   "metadata": {},
   "source": [
    "$$\n",
    "= P_{2n} + p^{n+1}(1-p)^{n-1} \\left (-\\binom{2n}{n+1} + p(1-p)\\binom{2n}{n} + p^{2}\\binom{2n}{n+1} + 2p(1-p)\\binom{2n}{n+1}\\right)\n",
    "$$"
   ]
  },
  {
   "cell_type": "markdown",
   "metadata": {},
   "source": [
    "- The next bit is all algebra, so we'll skip to the inequalities..."
   ]
  },
  {
   "cell_type": "markdown",
   "metadata": {},
   "source": [
    "**Condition 1**\n",
    "\n",
    "$$\n",
    "(n-1)(1-p) \\leq np\n",
    "$$\n",
    "\n",
    "**Condition 2**\n",
    "\n",
    "$$\n",
    "n(1-p) \\geq (n+1)p\n",
    "$$"
   ]
  },
  {
   "cell_type": "markdown",
   "metadata": {},
   "source": [
    "- Combining these two, we get:\n",
    "\n",
    "$$\n",
    "\\frac{1}{1-2p} - 1 \\leq 2n \\leq \\frac{1}{1-2p} + 1\n",
    "$$"
   ]
  },
  {
   "cell_type": "markdown",
   "metadata": {},
   "source": [
    "- So now, for any $p$, we can calculate the integer $n$ such that this condition holds"
   ]
  },
  {
   "cell_type": "code",
   "execution_count": 35,
   "metadata": {},
   "outputs": [],
   "source": [
    "import math\n",
    "import matplotlib.pyplot as plt\n",
    "import numpy as np\n",
    "import pandas as pd"
   ]
  },
  {
   "cell_type": "code",
   "execution_count": 2,
   "metadata": {},
   "outputs": [],
   "source": [
    "%matplotlib inline\n",
    "plt.rcParams['figure.figsize'] = 10, 10"
   ]
  },
  {
   "cell_type": "code",
   "execution_count": 47,
   "metadata": {},
   "outputs": [],
   "source": [
    "def solve(p):\n",
    "    lower_bound = 1 / (1 - 2 * p) - 1\n",
    "    n_lower = math.ceil(lower_bound / 2)\n",
    "    \n",
    "    upper_bound = 1 / (1 - 2 * p) + 1\n",
    "    n_upper = math.floor(upper_bound / 2)\n",
    "    \n",
    "    assert n_upper == n_lower\n",
    "    return 2*n_lower"
   ]
  },
  {
   "cell_type": "code",
   "execution_count": 49,
   "metadata": {},
   "outputs": [],
   "source": [
    "solve = np.vectorize(solve)"
   ]
  },
  {
   "cell_type": "code",
   "execution_count": 50,
   "metadata": {},
   "outputs": [],
   "source": [
    "array_p = np.arange(0.01, 0.5, 0.01)\n",
    "array_n = solve(array_p)"
   ]
  },
  {
   "cell_type": "code",
   "execution_count": 51,
   "metadata": {},
   "outputs": [
    {
     "data": {
      "image/png": "[encoded data removed]",
      "text/plain": [
       "<Figure size 720x720 with 1 Axes>"
      ]
     },
     "metadata": {},
     "output_type": "display_data"
    }
   ],
   "source": [
    "plt.plot(array_p, array_n)\n",
    "plt.xlabel('p')\n",
    "plt.ylabel('n')\n",
    "plt.show()"
   ]
  },
  {
   "cell_type": "markdown",
   "metadata": {},
   "source": [
    "_______\n",
    "\n",
    "- Let's simulate games for different $p$ values to try to tie out to the optimal $n$"
   ]
  },
  {
   "cell_type": "code",
   "execution_count": 67,
   "metadata": {},
   "outputs": [],
   "source": [
    "N_trials = 10000000\n",
    "df_results = pd.DataFrame(columns=['p', 'optimal n', 'best n according to simulation'])\n",
    "\n",
    "for i, p in enumerate(array_p):\n",
    "    optimal_n = solve(p)\n",
    "    \n",
    "    n = 0\n",
    "    p_optimal = 0\n",
    "    n_optimal = 0\n",
    "    stop = False\n",
    "    while not stop:\n",
    "        n += 2\n",
    "        threshold = n / 2 + 1\n",
    "        array_results = np.random.binomial(n, p, size=N_trials)\n",
    "        p_temp = np.mean(array_results >= threshold)\n",
    "        if p_temp > p_optimal:\n",
    "            p_optimal = p_temp\n",
    "            n_optimal = n\n",
    "        else:\n",
    "            stop= True\n",
    "    df_results.loc[i] = [p, optimal_n, n_optimal]"
   ]
  },
  {
   "cell_type": "code",
   "execution_count": 68,
   "metadata": {},
   "outputs": [
    {
     "data": {
      "text/html": [
       "<div>\n",
       "<style scoped>\n",
       "    .dataframe tbody tr th:only-of-type {\n",
       "        vertical-align: middle;\n",
       "    }\n",
       "\n",
       "    .dataframe tbody tr th {\n",
       "        vertical-align: top;\n",
       "    }\n",
       "\n",
       "    .dataframe thead th {\n",
       "        text-align: right;\n",
       "    }\n",
       "</style>\n",
       "<table border=\"1\" class=\"dataframe\">\n",
       "  <thead>\n",
       "    <tr style=\"text-align: right;\">\n",
       "      <th></th>\n",
       "      <th>p</th>\n",
       "      <th>optimal n</th>\n",
       "      <th>best n according to simulation</th>\n",
       "    </tr>\n",
       "  </thead>\n",
       "  <tbody>\n",
       "    <tr>\n",
       "      <th>0</th>\n",
       "      <td>0.01</td>\n",
       "      <td>2</td>\n",
       "      <td>2</td>\n",
       "    </tr>\n",
       "    <tr>\n",
       "      <th>1</th>\n",
       "      <td>0.02</td>\n",
       "      <td>2</td>\n",
       "      <td>2</td>\n",
       "    </tr>\n",
       "    <tr>\n",
       "      <th>2</th>\n",
       "      <td>0.03</td>\n",
       "      <td>2</td>\n",
       "      <td>2</td>\n",
       "    </tr>\n",
       "    <tr>\n",
       "      <th>3</th>\n",
       "      <td>0.04</td>\n",
       "      <td>2</td>\n",
       "      <td>2</td>\n",
       "    </tr>\n",
       "    <tr>\n",
       "      <th>4</th>\n",
       "      <td>0.05</td>\n",
       "      <td>2</td>\n",
       "      <td>2</td>\n",
       "    </tr>\n",
       "    <tr>\n",
       "      <th>5</th>\n",
       "      <td>0.06</td>\n",
       "      <td>2</td>\n",
       "      <td>2</td>\n",
       "    </tr>\n",
       "    <tr>\n",
       "      <th>6</th>\n",
       "      <td>0.07</td>\n",
       "      <td>2</td>\n",
       "      <td>2</td>\n",
       "    </tr>\n",
       "    <tr>\n",
       "      <th>7</th>\n",
       "      <td>0.08</td>\n",
       "      <td>2</td>\n",
       "      <td>2</td>\n",
       "    </tr>\n",
       "    <tr>\n",
       "      <th>8</th>\n",
       "      <td>0.09</td>\n",
       "      <td>2</td>\n",
       "      <td>2</td>\n",
       "    </tr>\n",
       "    <tr>\n",
       "      <th>9</th>\n",
       "      <td>0.10</td>\n",
       "      <td>2</td>\n",
       "      <td>2</td>\n",
       "    </tr>\n",
       "    <tr>\n",
       "      <th>10</th>\n",
       "      <td>0.11</td>\n",
       "      <td>2</td>\n",
       "      <td>2</td>\n",
       "    </tr>\n",
       "    <tr>\n",
       "      <th>11</th>\n",
       "      <td>0.12</td>\n",
       "      <td>2</td>\n",
       "      <td>2</td>\n",
       "    </tr>\n",
       "    <tr>\n",
       "      <th>12</th>\n",
       "      <td>0.13</td>\n",
       "      <td>2</td>\n",
       "      <td>2</td>\n",
       "    </tr>\n",
       "    <tr>\n",
       "      <th>13</th>\n",
       "      <td>0.14</td>\n",
       "      <td>2</td>\n",
       "      <td>2</td>\n",
       "    </tr>\n",
       "    <tr>\n",
       "      <th>14</th>\n",
       "      <td>0.15</td>\n",
       "      <td>2</td>\n",
       "      <td>2</td>\n",
       "    </tr>\n",
       "    <tr>\n",
       "      <th>15</th>\n",
       "      <td>0.16</td>\n",
       "      <td>2</td>\n",
       "      <td>2</td>\n",
       "    </tr>\n",
       "    <tr>\n",
       "      <th>16</th>\n",
       "      <td>0.17</td>\n",
       "      <td>2</td>\n",
       "      <td>2</td>\n",
       "    </tr>\n",
       "    <tr>\n",
       "      <th>17</th>\n",
       "      <td>0.18</td>\n",
       "      <td>2</td>\n",
       "      <td>2</td>\n",
       "    </tr>\n",
       "    <tr>\n",
       "      <th>18</th>\n",
       "      <td>0.19</td>\n",
       "      <td>2</td>\n",
       "      <td>2</td>\n",
       "    </tr>\n",
       "    <tr>\n",
       "      <th>19</th>\n",
       "      <td>0.20</td>\n",
       "      <td>2</td>\n",
       "      <td>2</td>\n",
       "    </tr>\n",
       "    <tr>\n",
       "      <th>20</th>\n",
       "      <td>0.21</td>\n",
       "      <td>2</td>\n",
       "      <td>2</td>\n",
       "    </tr>\n",
       "    <tr>\n",
       "      <th>21</th>\n",
       "      <td>0.22</td>\n",
       "      <td>2</td>\n",
       "      <td>2</td>\n",
       "    </tr>\n",
       "    <tr>\n",
       "      <th>22</th>\n",
       "      <td>0.23</td>\n",
       "      <td>2</td>\n",
       "      <td>2</td>\n",
       "    </tr>\n",
       "    <tr>\n",
       "      <th>23</th>\n",
       "      <td>0.24</td>\n",
       "      <td>2</td>\n",
       "      <td>2</td>\n",
       "    </tr>\n",
       "    <tr>\n",
       "      <th>24</th>\n",
       "      <td>0.25</td>\n",
       "      <td>2</td>\n",
       "      <td>2</td>\n",
       "    </tr>\n",
       "    <tr>\n",
       "      <th>25</th>\n",
       "      <td>0.26</td>\n",
       "      <td>2</td>\n",
       "      <td>2</td>\n",
       "    </tr>\n",
       "    <tr>\n",
       "      <th>26</th>\n",
       "      <td>0.27</td>\n",
       "      <td>2</td>\n",
       "      <td>2</td>\n",
       "    </tr>\n",
       "    <tr>\n",
       "      <th>27</th>\n",
       "      <td>0.28</td>\n",
       "      <td>2</td>\n",
       "      <td>2</td>\n",
       "    </tr>\n",
       "    <tr>\n",
       "      <th>28</th>\n",
       "      <td>0.29</td>\n",
       "      <td>2</td>\n",
       "      <td>2</td>\n",
       "    </tr>\n",
       "    <tr>\n",
       "      <th>29</th>\n",
       "      <td>0.30</td>\n",
       "      <td>2</td>\n",
       "      <td>2</td>\n",
       "    </tr>\n",
       "    <tr>\n",
       "      <th>30</th>\n",
       "      <td>0.31</td>\n",
       "      <td>2</td>\n",
       "      <td>2</td>\n",
       "    </tr>\n",
       "    <tr>\n",
       "      <th>31</th>\n",
       "      <td>0.32</td>\n",
       "      <td>2</td>\n",
       "      <td>2</td>\n",
       "    </tr>\n",
       "    <tr>\n",
       "      <th>32</th>\n",
       "      <td>0.33</td>\n",
       "      <td>2</td>\n",
       "      <td>2</td>\n",
       "    </tr>\n",
       "    <tr>\n",
       "      <th>33</th>\n",
       "      <td>0.34</td>\n",
       "      <td>4</td>\n",
       "      <td>4</td>\n",
       "    </tr>\n",
       "    <tr>\n",
       "      <th>34</th>\n",
       "      <td>0.35</td>\n",
       "      <td>4</td>\n",
       "      <td>4</td>\n",
       "    </tr>\n",
       "    <tr>\n",
       "      <th>35</th>\n",
       "      <td>0.36</td>\n",
       "      <td>4</td>\n",
       "      <td>4</td>\n",
       "    </tr>\n",
       "    <tr>\n",
       "      <th>36</th>\n",
       "      <td>0.37</td>\n",
       "      <td>4</td>\n",
       "      <td>4</td>\n",
       "    </tr>\n",
       "    <tr>\n",
       "      <th>37</th>\n",
       "      <td>0.38</td>\n",
       "      <td>4</td>\n",
       "      <td>4</td>\n",
       "    </tr>\n",
       "    <tr>\n",
       "      <th>38</th>\n",
       "      <td>0.39</td>\n",
       "      <td>4</td>\n",
       "      <td>4</td>\n",
       "    </tr>\n",
       "    <tr>\n",
       "      <th>39</th>\n",
       "      <td>0.40</td>\n",
       "      <td>6</td>\n",
       "      <td>4</td>\n",
       "    </tr>\n",
       "    <tr>\n",
       "      <th>40</th>\n",
       "      <td>0.41</td>\n",
       "      <td>6</td>\n",
       "      <td>6</td>\n",
       "    </tr>\n",
       "    <tr>\n",
       "      <th>41</th>\n",
       "      <td>0.42</td>\n",
       "      <td>6</td>\n",
       "      <td>6</td>\n",
       "    </tr>\n",
       "    <tr>\n",
       "      <th>42</th>\n",
       "      <td>0.43</td>\n",
       "      <td>8</td>\n",
       "      <td>8</td>\n",
       "    </tr>\n",
       "    <tr>\n",
       "      <th>43</th>\n",
       "      <td>0.44</td>\n",
       "      <td>8</td>\n",
       "      <td>8</td>\n",
       "    </tr>\n",
       "    <tr>\n",
       "      <th>44</th>\n",
       "      <td>0.45</td>\n",
       "      <td>10</td>\n",
       "      <td>10</td>\n",
       "    </tr>\n",
       "    <tr>\n",
       "      <th>45</th>\n",
       "      <td>0.46</td>\n",
       "      <td>12</td>\n",
       "      <td>12</td>\n",
       "    </tr>\n",
       "    <tr>\n",
       "      <th>46</th>\n",
       "      <td>0.47</td>\n",
       "      <td>16</td>\n",
       "      <td>16</td>\n",
       "    </tr>\n",
       "    <tr>\n",
       "      <th>47</th>\n",
       "      <td>0.48</td>\n",
       "      <td>26</td>\n",
       "      <td>26</td>\n",
       "    </tr>\n",
       "    <tr>\n",
       "      <th>48</th>\n",
       "      <td>0.49</td>\n",
       "      <td>50</td>\n",
       "      <td>40</td>\n",
       "    </tr>\n",
       "  </tbody>\n",
       "</table>\n",
       "</div>"
      ],
      "text/plain": [
       "       p optimal n best n according to simulation\n",
       "0   0.01         2                              2\n",
       "1   0.02         2                              2\n",
       "2   0.03         2                              2\n",
       "3   0.04         2                              2\n",
       "4   0.05         2                              2\n",
       "5   0.06         2                              2\n",
       "6   0.07         2                              2\n",
       "7   0.08         2                              2\n",
       "8   0.09         2                              2\n",
       "9   0.10         2                              2\n",
       "10  0.11         2                              2\n",
       "11  0.12         2                              2\n",
       "12  0.13         2                              2\n",
       "13  0.14         2                              2\n",
       "14  0.15         2                              2\n",
       "15  0.16         2                              2\n",
       "16  0.17         2                              2\n",
       "17  0.18         2                              2\n",
       "18  0.19         2                              2\n",
       "19  0.20         2                              2\n",
       "20  0.21         2                              2\n",
       "21  0.22         2                              2\n",
       "22  0.23         2                              2\n",
       "23  0.24         2                              2\n",
       "24  0.25         2                              2\n",
       "25  0.26         2                              2\n",
       "26  0.27         2                              2\n",
       "27  0.28         2                              2\n",
       "28  0.29         2                              2\n",
       "29  0.30         2                              2\n",
       "30  0.31         2                              2\n",
       "31  0.32         2                              2\n",
       "32  0.33         2                              2\n",
       "33  0.34         4                              4\n",
       "34  0.35         4                              4\n",
       "35  0.36         4                              4\n",
       "36  0.37         4                              4\n",
       "37  0.38         4                              4\n",
       "38  0.39         4                              4\n",
       "39  0.40         6                              4\n",
       "40  0.41         6                              6\n",
       "41  0.42         6                              6\n",
       "42  0.43         8                              8\n",
       "43  0.44         8                              8\n",
       "44  0.45        10                             10\n",
       "45  0.46        12                             12\n",
       "46  0.47        16                             16\n",
       "47  0.48        26                             26\n",
       "48  0.49        50                             40"
      ]
     },
     "execution_count": 68,
     "metadata": {},
     "output_type": "execute_result"
    }
   ],
   "source": [
    "df_results"
   ]
  },
  {
   "cell_type": "markdown",
   "metadata": {},
   "source": [
    "- Pretty close!"
   ]
  }
 ],
 "metadata": {
  "kernelspec": {
   "display_name": "Python 3",
   "language": "python",
   "name": "python3"
  },
  "language_info": {
   "codemirror_mode": {
    "name": "ipython",
    "version": 3
   },
   "file_extension": ".py",
   "mimetype": "text/x-python",
   "name": "python",
   "nbconvert_exporter": "python",
   "pygments_lexer": "ipython3",
   "version": "3.6.5"
  }
 },
 "nbformat": 4,
 "nbformat_minor": 2
}
