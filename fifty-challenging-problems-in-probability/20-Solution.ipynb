{
 "cells": [
  {
   "cell_type": "markdown",
   "metadata": {},
   "source": [
    "- A, B, and C are to fight a three-cornered pistol duel\n",
    "- All know that:\n",
    "    - A's chance of hitting his target is 0.3\n",
    "    - C's chance is 0.5\n",
    "    - B never misses\n",
    "- They are to fire at their choice of target in succession in the order A, B, C cyclically until one man is left **unhit**\n",
    "    - **Note**: if a man is hit, he loses and is no longer shot at\n",
    "    \n",
    "- *What should A's strategy be?*"
   ]
  },
  {
   "cell_type": "markdown",
   "metadata": {},
   "source": [
    "___\n",
    "\n",
    "### Scenario 1: A aims at B\n",
    "\n",
    "- The probability that A hits B is 0.3\n",
    "\n",
    "#### Scenario 1.1: A hits B on the first shot\n",
    "\n",
    "- Then, A is now in a shootoff with C\n",
    "\n",
    "$$\n",
    "P(\\text{A wins shootoff with C | A hit B on first shot}) = P(\\text{C misses A})\\cdot P(\\text{A hits C}) + P(\\text{C misses A})\\cdot P(\\text{A misses C})\\cdot P(\\text{C misses A})\\cdot P(\\text{A hits C}) + ...\n",
    "$$"
   ]
  },
  {
   "cell_type": "markdown",
   "metadata": {},
   "source": [
    "$$\n",
    "= 0.5\\cdot0.3 + 0.5\\cdot0.7\\cdot0.5\\cdot0.3 +0.5\\cdot0.7\\cdot0.5\\cdot0.7\\cdot0.5\\cdot0.3 + ...\n",
    "$$"
   ]
  },
  {
   "cell_type": "markdown",
   "metadata": {},
   "source": [
    "$$\n",
    "= 0.5\\cdot0.3\\cdot\\sum_{i=0}^{\\infty}(0.5\\cdot0.7)^{i} \\approx 0.231\n",
    "$$"
   ]
  },
  {
   "cell_type": "markdown",
   "metadata": {},
   "source": [
    "#### Scenario 1.2: A misses B on the first shot\n",
    "\n",
    "- In this scenario, B now chooses who to shoot at\n",
    "    - Since C is the better shot, B will choose to shoot C first\n",
    "        - Now, A has one last chance to hit B\n",
    "            - This has probability 0.3\n",
    "        \n",
    "- Therefore:\n",
    "\n",
    "$$\n",
    "P(\\text{A wins | A missed B on the first shot}) = 0.3\n",
    "$$"
   ]
  },
  {
   "cell_type": "markdown",
   "metadata": {},
   "source": [
    "- Therefore\n",
    "\n",
    "$$\n",
    "P(\\text{A wins in scenario 1}) = 0.3\\cdot0.231 + 0.7\\cdot0.3 = 0.2793\n",
    "$$"
   ]
  },
  {
   "cell_type": "markdown",
   "metadata": {},
   "source": [
    "_____\n",
    "\n",
    "### Scenario 2: A aims at C\n",
    "\n",
    "- A can either hit C (with probability 0.3) and automatically lose since B will hit A, or A can miss C, in which case B chooses C to aim at\n",
    "    - This leaves A one last chance to hit B\n",
    "    \n",
    "- Therefore\n",
    "\n",
    "$$\n",
    "P(\\text{A winning Scenario 2}) = 0.7\\cdot0.3 = 0.21\n",
    "$$"
   ]
  },
  {
   "cell_type": "markdown",
   "metadata": {},
   "source": [
    "____\n",
    "\n",
    "### Scenario 3: A intentionally misses B\n",
    "\n",
    "- Now it seems like a better idea to go with Scenario 2, but we notice that if we guarantee a miss on B, B is guaranteed to hit C, which means the entire duel is essentially A having a single shot at B\n",
    "    - We call this Scenario 3 and:\n",
    "    \n",
    "$$\n",
    "P(\\text{A winning Scenario 3}) = 1\\cdot0.3 = 0.3\n",
    "$$"
   ]
  },
  {
   "cell_type": "markdown",
   "metadata": {},
   "source": [
    "- Therefore, Scenario 3 is the best strategy"
   ]
  }
 ],
 "metadata": {
  "kernelspec": {
   "display_name": "Python 3",
   "language": "python",
   "name": "python3"
  },
  "language_info": {
   "codemirror_mode": {
    "name": "ipython",
    "version": 3
   },
   "file_extension": ".py",
   "mimetype": "text/x-python",
   "name": "python",
   "nbconvert_exporter": "python",
   "pygments_lexer": "ipython3",
   "version": "3.6.5"
  }
 },
 "nbformat": 4,
 "nbformat_minor": 2
}
