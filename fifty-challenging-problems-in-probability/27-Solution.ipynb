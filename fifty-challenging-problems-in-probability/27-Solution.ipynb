{
 "cells": [
  {
   "cell_type": "markdown",
   "metadata": {},
   "source": [
    "# Catching the Cautious Counterfeiter\n",
    "\n",
    "### a.\n",
    "\n",
    "- The king's minter boxes his coins 100 to a box\n",
    "- In each box he puts 1 false coin\n",
    "- The king suspects the minter and from each of 100 boxes he draws a random coin and has it tested\n",
    "- *What is the chance the minter's perculations go undetected?*\n",
    "\n",
    "### b.\n",
    "\n",
    "- *What if both 100s are replaced by $n$?*"
   ]
  },
  {
   "cell_type": "markdown",
   "metadata": {},
   "source": [
    "______\n",
    "\n",
    "# a.\n",
    "\n"
   ]
  },
  {
   "cell_type": "markdown",
   "metadata": {},
   "source": [
    "- The probability of not finding the coin is 99/100\n",
    "    - Therefore, the probability of not finding the coin is equal to $(99/100)^{100}\\approx0.366$"
   ]
  },
  {
   "cell_type": "markdown",
   "metadata": {},
   "source": [
    "____\n",
    "\n",
    "# b.\n",
    "\n",
    "- Same shit $(\\frac{n-1}{n})^{n}$"
   ]
  },
  {
   "cell_type": "markdown",
   "metadata": {},
   "source": [
    "____\n",
    "\n",
    "- We'll confirm a"
   ]
  },
  {
   "cell_type": "code",
   "execution_count": 2,
   "metadata": {},
   "outputs": [],
   "source": [
    "import numpy as np"
   ]
  },
  {
   "cell_type": "code",
   "execution_count": 3,
   "metadata": {},
   "outputs": [],
   "source": [
    "n_trials = 100000\n",
    "array_location_of_fake_coin = np.random.randint(100, size=(n_trials, 100))\n",
    "array_coin_tested = np.random.randint(100, size=(n_trials, 100))\n",
    "array_compare = array_location_of_fake_coin == array_coin_tested"
   ]
  },
  {
   "cell_type": "code",
   "execution_count": 7,
   "metadata": {},
   "outputs": [
    {
     "data": {
      "text/plain": [
       "0.36614"
      ]
     },
     "execution_count": 7,
     "metadata": {},
     "output_type": "execute_result"
    }
   ],
   "source": [
    "np.mean(np.sum(array_compare, axis=1)==0)"
   ]
  },
  {
   "cell_type": "markdown",
   "metadata": {},
   "source": [
    "- Eyyyy"
   ]
  }
 ],
 "metadata": {
  "kernelspec": {
   "display_name": "Python 3",
   "language": "python",
   "name": "python3"
  },
  "language_info": {
   "codemirror_mode": {
    "name": "ipython",
    "version": 3
   },
   "file_extension": ".py",
   "mimetype": "text/x-python",
   "name": "python",
   "nbconvert_exporter": "python",
   "pygments_lexer": "ipython3",
   "version": "3.6.4"
  }
 },
 "nbformat": 4,
 "nbformat_minor": 2
}
