{
 "cells": [
  {
   "cell_type": "markdown",
   "metadata": {},
   "source": [
    "# Catching the Greedy Counterfeiter\n",
    "\n",
    "- The king's minter boxes his coins $n$ to a box\n",
    "- Each box contains $m$ false coins\n",
    "- The king suspects the minter and randomly draws 1 coin from each of the $n$ boxes and has these tested\n",
    "- *What is the chance that the sample of $n$ coins contains exactly $r$ false ones?*"
   ]
  },
  {
   "cell_type": "markdown",
   "metadata": {},
   "source": [
    "____\n",
    "\n",
    "- For each box, selecting the coin and testing it is a Bernoulli process with $p=\\frac{m}{n}$ where $p$ represents the probability of a false coin being tested"
   ]
  },
  {
   "cell_type": "markdown",
   "metadata": {},
   "source": [
    "- So, sampling $n$ boxes can be modeled using the Binomial distribution"
   ]
  },
  {
   "cell_type": "markdown",
   "metadata": {},
   "source": [
    "$$\n",
    "P(\\text{Sample of }n\\text{ coins contains }r\\text{ false ones}) = \\binom{n}{r}(m/n)^{r}((n-m)/n)^{n-r}\n",
    "$$"
   ]
  }
 ],
 "metadata": {
  "kernelspec": {
   "display_name": "Python 3",
   "language": "python",
   "name": "python3"
  },
  "language_info": {
   "codemirror_mode": {
    "name": "ipython",
    "version": 3
   },
   "file_extension": ".py",
   "mimetype": "text/x-python",
   "name": "python",
   "nbconvert_exporter": "python",
   "pygments_lexer": "ipython3",
   "version": "3.6.4"
  }
 },
 "nbformat": 4,
 "nbformat_minor": 2
}
