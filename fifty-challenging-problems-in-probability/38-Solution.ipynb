{
 "cells": [
  {
   "cell_type": "markdown",
   "metadata": {},
   "source": [
    "# The Thick Coin\n",
    "\n",
    "- *How thick should a coin be to have a 1/3 chance of landing on its edge?*"
   ]
  },
  {
   "cell_type": "markdown",
   "metadata": {},
   "source": [
    "_____\n",
    "\n",
    "- This problem is trickier than it seems at first\n",
    "\n",
    "- Initially, the solution seems to be simple\n",
    "\n",
    "**First attempt**\n",
    "- *If a coin has a face of size $F$ and an edge length of $E$, then the probability that it lands on its edge is equal to $E/(E+F) \\implies 1/3 = E/(E+F) \\implies E + F = 3E \\implies E = F/2$ so the edge should be half the length of the face*\n",
    "    - **But this is wrong!**"
   ]
  },
  {
   "cell_type": "markdown",
   "metadata": {},
   "source": [
    "- *Why is it wrong?*\n",
    "    - Because we need to think about the coin's rotation path (a circle)\n",
    "    \n",
    "**Next attempt**"
   ]
  },
  {
   "cell_type": "markdown",
   "metadata": {},
   "source": [
    "![](images/38-1.png)"
   ]
  },
  {
   "cell_type": "markdown",
   "metadata": {},
   "source": [
    "- If we imagine the coin rotating with the face perpendicular to us (so we only see the edge rotating end-over-end as shown above), then we can think of the probability of landing on the edge as the probability of landing in the green zone\n",
    "    - This is analogous to spinning a spinner and having it land in the green zone\n",
    "        - Therefore, we need to calculate the proportion of the circle's circumference that lies in the green zone"
   ]
  },
  {
   "cell_type": "markdown",
   "metadata": {},
   "source": [
    "![](images/38-2.png)"
   ]
  },
  {
   "cell_type": "markdown",
   "metadata": {},
   "source": [
    "- To calculate the proportion, we simply need to figure out the value of angle $a$ shown above"
   ]
  },
  {
   "cell_type": "markdown",
   "metadata": {},
   "source": [
    "- We know that the length of the orange line is $F/2$, and the length of the yellow line is $E/2$\n",
    "    - The yellow line is opposite to angle $a$, and the orange line is adjacent\n",
    "        - Therefore $\\tan a = \\frac{E/2}{F/2} = E/F$\n",
    "        \n",
    "- We want the proportion to be equal to 1/3 $\\implies a = \\pi/6 \\implies E/F = tan(\\pi/6) \\approx 0.5773$ therefore the length of the edge should be about 0.57 times the length of the face\n",
    "    - **This is also wrong!**"
   ]
  },
  {
   "cell_type": "markdown",
   "metadata": {},
   "source": [
    "- *Why is this one wrong?*\n",
    "    - Because we're only thinking about it in two dimensions"
   ]
  },
  {
   "cell_type": "markdown",
   "metadata": {},
   "source": [
    "____\n",
    "\n",
    "**Final attempt**\n",
    "\n",
    "- The best way to think about this problem is to throw a ball in the air that has a stripe along its center\n",
    "    - If the ball's point of contact with the ground is on the stripe, then we consider it to have landed on its edge\n",
    "        - So the question is: **how thick does the stripe need to be?**"
   ]
  },
  {
   "cell_type": "markdown",
   "metadata": {},
   "source": [
    "![](images/38-3.PNG)"
   ]
  },
  {
   "cell_type": "markdown",
   "metadata": {},
   "source": [
    "- As we can see, we want to know the length of $E$ such that the red stripe takes up 1/3 of the surface area of the ball"
   ]
  },
  {
   "cell_type": "markdown",
   "metadata": {},
   "source": [
    "- A key theorem from geometry tells us that when parallel lines cut a sphere, the band produced (i.e. the red zone on the ball above) has surface area proportional to the distance between the planes\n",
    "    - Therefore, if we were taking a bird's eye view of the sphere..."
   ]
  },
  {
   "cell_type": "markdown",
   "metadata": {},
   "source": [
    "![](images/38-4.png)"
   ]
  },
  {
   "cell_type": "markdown",
   "metadata": {},
   "source": [
    "- We want $E/D = 1/3$"
   ]
  },
  {
   "cell_type": "markdown",
   "metadata": {},
   "source": [
    "- D is equal to 2 times the radius of the sphere, and the radius of the sphere is equal to:\n",
    "\n",
    "$$\n",
    "r^{2} = (E/2)^{2} + (F/2)^{2}\n",
    "$$\n",
    "\n",
    "- Let's simplify this by expressing $E$ in terms of $F$ i.e. set $F=1$"
   ]
  },
  {
   "cell_type": "markdown",
   "metadata": {},
   "source": [
    "$$\n",
    "r^{2} = (E/2)^{2} + (1/2)^{2} \\implies r = \\frac{1}{2}\\sqrt{E^{2}+1}\n",
    "$$"
   ]
  },
  {
   "cell_type": "markdown",
   "metadata": {},
   "source": [
    "$$\n",
    "\\implies D = \\sqrt{E^{2} + 1}\n",
    "$$"
   ]
  },
  {
   "cell_type": "markdown",
   "metadata": {},
   "source": [
    "$$\n",
    "\\implies \\frac{1}{3} = \\frac{E}{\\sqrt{E^{2}+1}}\n",
    "$$"
   ]
  },
  {
   "cell_type": "markdown",
   "metadata": {},
   "source": [
    "$$\n",
    "\\implies 3E = \\sqrt{E^{2}+1}\n",
    "$$"
   ]
  },
  {
   "cell_type": "markdown",
   "metadata": {},
   "source": [
    "$$\n",
    "\\implies 9E^{2} = E^{2} + 1 \\implies 8E^{2} = 1 \\implies E = \\frac{1}{\\sqrt{8}} \\approx 0.354\n",
    "$$"
   ]
  },
  {
   "cell_type": "markdown",
   "metadata": {},
   "source": [
    "- Therefore, the edge should be about 1/3 the length of the face"
   ]
  }
 ],
 "metadata": {
  "kernelspec": {
   "display_name": "Python 3",
   "language": "python",
   "name": "python3"
  },
  "language_info": {
   "codemirror_mode": {
    "name": "ipython",
    "version": 3
   },
   "file_extension": ".py",
   "mimetype": "text/x-python",
   "name": "python",
   "nbconvert_exporter": "python",
   "pygments_lexer": "ipython3",
   "version": "3.6.5"
  }
 },
 "nbformat": 4,
 "nbformat_minor": 2
}
