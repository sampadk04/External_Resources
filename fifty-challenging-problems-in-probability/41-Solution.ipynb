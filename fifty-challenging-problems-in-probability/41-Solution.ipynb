{
 "cells": [
  {
   "cell_type": "markdown",
   "metadata": {},
   "source": [
    "# The Locomotive Problem\n",
    "\n",
    "### a. \n",
    "\n",
    "- A railroad numbers its locomotives in order 1, 2, 3, ..., N\n",
    "- One day you see a locomotive and its number is 60\n",
    "- *Guess how many locomotives the company has*\n",
    "\n",
    "### b. \n",
    "\n",
    "- You have looked at 5 locomotives and the largest number observed again is 60\n",
    "- *Again, guess how many locomotives the company has*"
   ]
  },
  {
   "cell_type": "markdown",
   "metadata": {},
   "source": [
    "____\n",
    "\n",
    "# a. \n",
    "\n",
    "- By the principle of symmetry, a point randomly dropped on a line will on average land at its halfway point\n",
    "    - Therefore, we can guess that we've seen the median train and there must be a total of 119 trains"
   ]
  },
  {
   "cell_type": "markdown",
   "metadata": {},
   "source": [
    "# b. \n",
    "\n",
    "- Similarly, if we think of the list of 1, 2, ..., N as a line, then each locomotive we see is like a point randomly dropped on that line\n",
    "    - So, we think of the line being broken into six pieces of equal length, and 60 is the maximum break point\n",
    "    \n",
    "- This means there are 60 trains in the first 5 pieces of equal length, and each break point is also a train, so there are 60 - 5 = 55 trains in total, or 55/5 = 11 trains in each chunk (again, not including the \"break points\")\n",
    "\n",
    "- So, there should be another 11 trains after the 60th which make up the final chunk\n",
    "    - Therefore we guess that there are 71 trains"
   ]
  }
 ],
 "metadata": {
  "kernelspec": {
   "display_name": "Python 3",
   "language": "python",
   "name": "python3"
  },
  "language_info": {
   "codemirror_mode": {
    "name": "ipython",
    "version": 3
   },
   "file_extension": ".py",
   "mimetype": "text/x-python",
   "name": "python",
   "nbconvert_exporter": "python",
   "pygments_lexer": "ipython3",
   "version": "3.6.5"
  }
 },
 "nbformat": 4,
 "nbformat_minor": 2
}
