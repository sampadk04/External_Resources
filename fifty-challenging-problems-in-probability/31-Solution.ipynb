{
 "cells": [
  {
   "cell_type": "markdown",
   "metadata": {},
   "source": [
    "# Birthday Pairings\n",
    "\n",
    "- *What is the minimum number of persons required if the probability exceeds 1/2 that two or more have the same birthday?*"
   ]
  },
  {
   "cell_type": "markdown",
   "metadata": {},
   "source": [
    "_____\n",
    "\n",
    "- To calculate the probability that two or more have the same birthday, we calculate the probability that they all have distinct birthdays, and take one minus this probability"
   ]
  },
  {
   "cell_type": "markdown",
   "metadata": {},
   "source": [
    "$$\n",
    "P(n-\\text{distinct birthdays}) = \\frac{365}{365}\\cdot\\frac{364}{365}\\cdot ... \\cdot \\frac{365-n}{365}\n",
    "$$"
   ]
  },
  {
   "cell_type": "markdown",
   "metadata": {},
   "source": [
    "- I don't want to calculate these probabilities by hand, so we'll loop through them"
   ]
  },
  {
   "cell_type": "code",
   "execution_count": 8,
   "metadata": {},
   "outputs": [],
   "source": [
    "import matplotlib.pyplot as plt"
   ]
  },
  {
   "cell_type": "code",
   "execution_count": 9,
   "metadata": {},
   "outputs": [],
   "source": [
    "%matplotlib inline\n",
    "plt.rcParams['figure.figsize'] = 10, 10"
   ]
  },
  {
   "cell_type": "code",
   "execution_count": 11,
   "metadata": {},
   "outputs": [],
   "source": [
    "x = range(1, 100)\n",
    "y = []\n",
    "prob = 1\n",
    "\n",
    "for x_val in x:\n",
    "    val = (365 - x_val + 1)/365\n",
    "    prob *= val\n",
    "    y.append(prob)"
   ]
  },
  {
   "cell_type": "code",
   "execution_count": 13,
   "metadata": {},
   "outputs": [
    {
     "data": {
      "text/plain": [
       "<matplotlib.lines.Line2D at 0x24f27669f28>"
      ]
     },
     "execution_count": 13,
     "metadata": {},
     "output_type": "execute_result"
    },
    {
     "data": {
      "image/png": "[encoded data removed]",
      "text/plain": [
       "<Figure size 720x720 with 1 Axes>"
      ]
     },
     "metadata": {},
     "output_type": "display_data"
    }
   ],
   "source": [
    "plt.plot(x, y)\n",
    "plt.axhline(0.5, ls = 'dashed', c = 'r')"
   ]
  },
  {
   "cell_type": "markdown",
   "metadata": {},
   "source": [
    "- It looks like just around 22 people, the probability crosses 0.5"
   ]
  },
  {
   "cell_type": "code",
   "execution_count": 14,
   "metadata": {},
   "outputs": [
    {
     "name": "stdout",
     "output_type": "stream",
     "text": [
      "21 0.556311664834794\n",
      "22 0.5243046923374497\n",
      "23 0.4927027656760144\n",
      "24 0.46165574208547105\n"
     ]
    }
   ],
   "source": [
    "prob = 1\n",
    "\n",
    "for i in range(1, 25):\n",
    "    val = (365 - i + 1)/365\n",
    "    prob *= val\n",
    "    if i > 20:\n",
    "        print(i, prob)"
   ]
  },
  {
   "cell_type": "markdown",
   "metadata": {},
   "source": [
    "- As we can see, after adding the 23rd person, the probability of everyone having distinct birthdays drops below 0.5\n",
    "    - **Therefore, the minimum number of persons required for the probability to  exceed 1/2 that two or more have the same birthday is 23**"
   ]
  },
  {
   "cell_type": "markdown",
   "metadata": {},
   "source": [
    "_____\n",
    "\n",
    "- Simulating to tie out"
   ]
  },
  {
   "cell_type": "code",
   "execution_count": 28,
   "metadata": {},
   "outputs": [],
   "source": [
    "import numpy as np\n",
    "import pandas as pd"
   ]
  },
  {
   "cell_type": "code",
   "execution_count": 34,
   "metadata": {},
   "outputs": [
    {
     "name": "stdout",
     "output_type": "stream",
     "text": [
      "n=22, P=0.52347\n",
      "n=23, P=0.49287\n",
      "n=24, P=0.46208\n"
     ]
    }
   ],
   "source": [
    "N_TRIALS = 100000\n",
    "\n",
    "for n in [22, 23, 24]:\n",
    "    array_random_birthdays = np.random.randint(365, size = (n, N_TRIALS))\n",
    "    P = (pd.DataFrame(array_random_birthdays).nunique()==n).sum()/N_TRIALS\n",
    "    print('n={}, P={}'.format(n, P))"
   ]
  },
  {
   "cell_type": "markdown",
   "metadata": {},
   "source": [
    "- Eyyy"
   ]
  }
 ],
 "metadata": {
  "kernelspec": {
   "display_name": "Python 3",
   "language": "python",
   "name": "python3"
  },
  "language_info": {
   "codemirror_mode": {
    "name": "ipython",
    "version": 3
   },
   "file_extension": ".py",
   "mimetype": "text/x-python",
   "name": "python",
   "nbconvert_exporter": "python",
   "pygments_lexer": "ipython3",
   "version": "3.6.5"
  }
 },
 "nbformat": 4,
 "nbformat_minor": 2
}
