{
 "cells": [
  {
   "cell_type": "markdown",
   "metadata": {},
   "source": [
    "# Relating the Birthday Pairings and Birthmate Problems\n",
    "\n",
    "- If $r$ persons compare birthdays in the pairing problem, the probability is $P_{r}$ that at least 2 have the same birthday\n",
    "- *What should $n$ be in the personal birthmate problem to make your probability of success approximately $P_{r}$?*"
   ]
  },
  {
   "cell_type": "markdown",
   "metadata": {},
   "source": [
    "_____\n",
    "\n",
    "- If $r$-people are comparing birthdays, each person has $r-1$ people to compare birthdays to\n",
    "    - Therefore, there are $\\frac{r(r-1)}{2}$ comparisons that can be made (divided by 2 since we can't double count)\n",
    "\n",
    "- We want the single person to have approximately the same number of comparisons, so:\n",
    "\n",
    "$$\n",
    "n \\approx \\frac{r(r-1)}{2}\n",
    "$$"
   ]
  },
  {
   "cell_type": "markdown",
   "metadata": {},
   "source": [
    "- **Recall**: we found that 23 people have approximately a 0.5 chance of having at least one common birthday, and it requires a single person about 253 people to find someone with the same birthday"
   ]
  },
  {
   "cell_type": "markdown",
   "metadata": {},
   "source": [
    "$$\n",
    "\\frac{23\\cdot22}{2} = 253 = n\n",
    "$$"
   ]
  },
  {
   "cell_type": "markdown",
   "metadata": {},
   "source": [
    "- As we can see, out approximation is pretty good"
   ]
  },
  {
   "cell_type": "markdown",
   "metadata": {},
   "source": [
    "_____\n",
    "\n",
    "- Let's derive the $n$ for each $r$ and plot them"
   ]
  },
  {
   "cell_type": "code",
   "execution_count": 1,
   "metadata": {},
   "outputs": [],
   "source": [
    "import matplotlib.pyplot as plt\n",
    "import numpy as np"
   ]
  },
  {
   "cell_type": "code",
   "execution_count": 2,
   "metadata": {},
   "outputs": [],
   "source": [
    "%matplotlib inline\n",
    "plt.rcParams['figure.figsize'] = 10, 10"
   ]
  },
  {
   "cell_type": "code",
   "execution_count": 3,
   "metadata": {},
   "outputs": [],
   "source": [
    "def p1(r):\n",
    "    prob = 1\n",
    "    for i in range(r):\n",
    "        prob *= ((365-i)/365)\n",
    "    return 1-prob"
   ]
  },
  {
   "cell_type": "code",
   "execution_count": 4,
   "metadata": {},
   "outputs": [],
   "source": [
    "def p2(n):\n",
    "    return 1-(364/365)**n"
   ]
  },
  {
   "cell_type": "code",
   "execution_count": 5,
   "metadata": {},
   "outputs": [],
   "source": [
    "r = range(1, 1000)\n",
    "list_n = []\n",
    "\n",
    "for r_i in r:\n",
    "    P_r = p1(r_i)\n",
    "    n = r_i\n",
    "    P_n = p2(n)\n",
    "    while P_n < P_r:\n",
    "        n += 1\n",
    "        P_n = p2(n)\n",
    "    list_n.append(n)"
   ]
  },
  {
   "cell_type": "code",
   "execution_count": 6,
   "metadata": {},
   "outputs": [
    {
     "data": {
      "text/plain": [
       "0.994122660865348"
      ]
     },
     "execution_count": 6,
     "metadata": {},
     "output_type": "execute_result"
    }
   ],
   "source": [
    "p1(60)"
   ]
  },
  {
   "cell_type": "code",
   "execution_count": 7,
   "metadata": {},
   "outputs": [
    {
     "data": {
      "text/plain": [
       "0.9999999999987833"
      ]
     },
     "execution_count": 7,
     "metadata": {},
     "output_type": "execute_result"
    }
   ],
   "source": [
    "p2(10000)"
   ]
  },
  {
   "cell_type": "code",
   "execution_count": 16,
   "metadata": {},
   "outputs": [
    {
     "data": {
      "text/plain": [
       "<matplotlib.legend.Legend at 0x2d64d0a8d30>"
      ]
     },
     "execution_count": 16,
     "metadata": {},
     "output_type": "execute_result"
    },
    {
     "data": {
      "image/png": "[encoded data removed]",
      "text/plain": [
       "<Figure size 720x720 with 1 Axes>"
      ]
     },
     "metadata": {},
     "output_type": "display_data"
    }
   ],
   "source": [
    "plt.plot(r, list_n, label='Real')\n",
    "plt.plot(np.arange(1, 200), np.arange(1, 200)*(np.arange(1, 200)-1)/2, label='Approximated')\n",
    "plt.xlabel('r')\n",
    "plt.ylabel('n')\n",
    "plt.legend()"
   ]
  },
  {
   "cell_type": "markdown",
   "metadata": {},
   "source": [
    "- The reason the real curve takes this shape is because after a while, the probability converges to 1 so it's the same value every time\n",
    "    - As we can see, the approximation is pretty good for small r"
   ]
  }
 ],
 "metadata": {
  "kernelspec": {
   "display_name": "Python 3",
   "language": "python",
   "name": "python3"
  },
  "language_info": {
   "codemirror_mode": {
    "name": "ipython",
    "version": 3
   },
   "file_extension": ".py",
   "mimetype": "text/x-python",
   "name": "python",
   "nbconvert_exporter": "python",
   "pygments_lexer": "ipython3",
   "version": "3.6.5"
  }
 },
 "nbformat": 4,
 "nbformat_minor": 2
}
