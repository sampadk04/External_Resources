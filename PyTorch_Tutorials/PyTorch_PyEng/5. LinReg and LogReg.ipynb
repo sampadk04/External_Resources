{
 "cells": [
  {
   "cell_type": "markdown",
   "metadata": {},
   "source": [
    "# 1. Imports"
   ]
  },
  {
   "cell_type": "code",
   "execution_count": 1,
   "metadata": {},
   "outputs": [],
   "source": [
    "# importing other dependencies\n",
    "import numpy as np\n",
    "# importing PyTorch\n",
    "import torch\n",
    "# importing torch.nn Module\n",
    "import torch.nn as nn\n",
    "# plotting\n",
    "import matplotlib.pyplot as plt"
   ]
  },
  {
   "cell_type": "code",
   "execution_count": 2,
   "metadata": {},
   "outputs": [
    {
     "name": "stdout",
     "output_type": "stream",
     "text": [
      "True\n",
      "True\n"
     ]
    }
   ],
   "source": [
    "# checks whether MPS is available\n",
    "print(torch.backends.mps.is_available())\n",
    "\n",
    "# this ensures that the current current PyTorch installation was built with MPS activated.\n",
    "print(torch.backends.mps.is_built())\n",
    "\n",
    "# setting the device to \"mps\" instead of default \"cpu\"\n",
    "device = torch.device(\"mps\" if torch.backends.mps.is_available else \"cpu\")"
   ]
  },
  {
   "cell_type": "markdown",
   "metadata": {},
   "source": [
    "# 2. Linear Regression"
   ]
  },
  {
   "cell_type": "markdown",
   "metadata": {},
   "source": [
    "## 2.1 Preparing Data"
   ]
  },
  {
   "cell_type": "code",
   "execution_count": 97,
   "metadata": {},
   "outputs": [],
   "source": [
    "# we create synthetically generated linearly dependent data for linear-regression via sklearn\n",
    "\n",
    "from sklearn.datasets import make_regression\n",
    "\n",
    "# extract as numpy\n",
    "X_numpy, y_numpy = make_regression(n_samples=100, n_features=1, noise=20, random_state=69)\n",
    "\n",
    "# cast to float pyTorch Tensor\n",
    "X = torch.from_numpy(X_numpy.astype(np.float32))\n",
    "y = torch.from_numpy(y_numpy.astype(np.float32))\n",
    "# reshape y to (n,1) tensor\n",
    "y = y.view(y.shape[0], 1)"
   ]
  },
  {
   "cell_type": "code",
   "execution_count": 98,
   "metadata": {},
   "outputs": [
    {
     "name": "stdout",
     "output_type": "stream",
     "text": [
      "#samples: 100, #features: 1\n"
     ]
    }
   ],
   "source": [
    "n_samples, n_features = X.shape\n",
    "print(f'#samples: {n_samples}, #features: {n_features}')"
   ]
  },
  {
   "cell_type": "code",
   "execution_count": 99,
   "metadata": {},
   "outputs": [],
   "source": [
    "# we specify the no. of features and the output dim.\n",
    "input_dim = n_features\n",
    "output_dim = 1\n",
    "\n",
    "# we give out a single no. as output while predicting"
   ]
  },
  {
   "cell_type": "code",
   "execution_count": 100,
   "metadata": {},
   "outputs": [
    {
     "data": {
      "image/png": "[encoded data removed]",
      "text/plain": [
       "<Figure size 432x288 with 1 Axes>"
      ]
     },
     "metadata": {
      "needs_background": "light"
     },
     "output_type": "display_data"
    }
   ],
   "source": [
    "# plotting the data\n",
    "plt.figure()\n",
    "plt.plot(X_numpy, y_numpy, 'ro')\n",
    "plt.show()"
   ]
  },
  {
   "cell_type": "code",
   "execution_count": 101,
   "metadata": {},
   "outputs": [],
   "source": [
    "# we split the data into training and test split in 8:2 ratio\n",
    "from sklearn.model_selection import train_test_split\n",
    "\n",
    "X_train, X_test, y_train, y_test = train_test_split(X, y, test_size=0.2)"
   ]
  },
  {
   "cell_type": "markdown",
   "metadata": {},
   "source": [
    "## 2.2 Creating the Model"
   ]
  },
  {
   "cell_type": "code",
   "execution_count": 107,
   "metadata": {},
   "outputs": [],
   "source": [
    "class LinearRegression(nn.Module):\n",
    "    def __init__(self, input_dim, output_dim):\n",
    "        super(LinearRegression, self).__init__()\n",
    "        # define different layers here:\n",
    "        self.lin = nn.Linear(input_dim, output_dim)\n",
    "    \n",
    "    def forward(self, X):\n",
    "        return self.lin(X)"
   ]
  },
  {
   "cell_type": "code",
   "execution_count": 108,
   "metadata": {},
   "outputs": [],
   "source": [
    "# initialise linear regression model instance\n",
    "model = LinearRegression(input_dim, output_dim)"
   ]
  },
  {
   "cell_type": "code",
   "execution_count": 109,
   "metadata": {},
   "outputs": [
    {
     "name": "stdout",
     "output_type": "stream",
     "text": [
      "Initial Loss on test data: 7624.091\n"
     ]
    }
   ],
   "source": [
    "# we also check the initial loss on the test data before training\n",
    "\n",
    "from sklearn.metrics import mean_squared_error\n",
    "\n",
    "with torch.no_grad():\n",
    "    y_test_hat = model(X_test)\n",
    "    print(\"Initial Loss on test data:\", mean_squared_error(y_test, y_test_hat))"
   ]
  },
  {
   "cell_type": "markdown",
   "metadata": {},
   "source": [
    "## 2.3 Training"
   ]
  },
  {
   "cell_type": "code",
   "execution_count": 110,
   "metadata": {},
   "outputs": [],
   "source": [
    "# in this scenario, we use the MSE Loss, with SGD optimization\n",
    "\n",
    "# learning rate\n",
    "lr = 0.01\n",
    "\n",
    "# no. of epochs\n",
    "num_epochs = 300\n",
    "\n",
    "# define loss criterion: MSE loss\n",
    "criterion = nn.MSELoss()\n",
    "\n",
    "# define optimizer\n",
    "optimizer = torch.optim.SGD(model.parameters(), lr=lr)\n",
    "\n",
    "# format of optimizer: torch.optim.SGD(weights, lr, ...)"
   ]
  },
  {
   "cell_type": "code",
   "execution_count": 111,
   "metadata": {},
   "outputs": [
    {
     "name": "stdout",
     "output_type": "stream",
     "text": [
      "-----------------------\n",
      "Epoch#: 0\n",
      "Weights: Parameter containing:\n",
      "tensor([[3.1768]], requires_grad=True)\n",
      "Loss: tensor(9981.6250, grad_fn=<MseLossBackward0>)\n",
      "-----------------------\n",
      "Epoch#: 50\n",
      "Weights: Parameter containing:\n",
      "tensor([[64.5271]], requires_grad=True)\n",
      "Loss: tensor(1134.9293, grad_fn=<MseLossBackward0>)\n",
      "-----------------------\n",
      "Epoch#: 100\n",
      "Weights: Parameter containing:\n",
      "tensor([[81.9140]], requires_grad=True)\n",
      "Loss: tensor(425.7292, grad_fn=<MseLossBackward0>)\n",
      "-----------------------\n",
      "Epoch#: 150\n",
      "Weights: Parameter containing:\n",
      "tensor([[86.8635]], requires_grad=True)\n",
      "Loss: tensor(367.7816, grad_fn=<MseLossBackward0>)\n",
      "-----------------------\n",
      "Epoch#: 200\n",
      "Weights: Parameter containing:\n",
      "tensor([[88.2805]], requires_grad=True)\n",
      "Loss: tensor(362.9013, grad_fn=<MseLossBackward0>)\n",
      "-----------------------\n",
      "Epoch#: 250\n",
      "Weights: Parameter containing:\n",
      "tensor([[88.6891]], requires_grad=True)\n",
      "Loss: tensor(362.4713, grad_fn=<MseLossBackward0>)\n"
     ]
    }
   ],
   "source": [
    "for epoch in range(num_epochs):\n",
    "    # forward pass:     \n",
    "    # compute prediction\n",
    "    y_train_hat = model(X_train)\n",
    "    # compute loss\n",
    "    loss = criterion(y_train_hat, y_train)\n",
    "\n",
    "    # backward pass:\n",
    "    # compute gradients\n",
    "    loss.backward()\n",
    "\n",
    "    # update weights:\n",
    "    optimizer.step()\n",
    "    # zero-gradients after updating\n",
    "    optimizer.zero_grad()\n",
    "\n",
    "\n",
    "    # output for debugging every 20 loops\n",
    "    if epoch%50 == 0:\n",
    "        # unpack the parameters\n",
    "        [W, b] = model.parameters()\n",
    "        print(\"-----------------------\")\n",
    "        print(\"Epoch#:\", epoch)\n",
    "        print(\"Weights:\", W)\n",
    "        print(\"Loss:\", loss)"
   ]
  },
  {
   "cell_type": "markdown",
   "metadata": {},
   "source": [
    "## 2.4 Evaluation"
   ]
  },
  {
   "cell_type": "code",
   "execution_count": 112,
   "metadata": {},
   "outputs": [],
   "source": [
    "# we first find the prediction on the dataset\n",
    "# attach '.detach()' to make sure this is not part of the computational tree for backpropagation\n",
    "y_hat = model(X).detach()\n",
    "\n",
    "# finally also convert to numpy for plotting\n",
    "y_hat_numpy = y_hat.numpy()"
   ]
  },
  {
   "cell_type": "code",
   "execution_count": 113,
   "metadata": {},
   "outputs": [
    {
     "data": {
      "image/png": "[encoded data removed]",
      "text/plain": [
       "<Figure size 432x288 with 1 Axes>"
      ]
     },
     "metadata": {
      "needs_background": "light"
     },
     "output_type": "display_data"
    }
   ],
   "source": [
    "# plotting the linear regression line\n",
    "plt.figure()\n",
    "plt.plot(X_numpy, y_numpy, 'ro')\n",
    "plt.plot(X_numpy, y_hat_numpy, 'b')\n",
    "plt.show()"
   ]
  },
  {
   "cell_type": "code",
   "execution_count": 114,
   "metadata": {},
   "outputs": [
    {
     "name": "stdout",
     "output_type": "stream",
     "text": [
      "Final Loss on test data: 549.04376\n"
     ]
    }
   ],
   "source": [
    "# we also check the final loss on the test data after training\n",
    "\n",
    "from sklearn.metrics import mean_squared_error\n",
    "\n",
    "with torch.no_grad():\n",
    "    y_test_hat = model(X_test)\n",
    "    print(\"Final Loss on test data:\", mean_squared_error(y_test, y_test_hat))"
   ]
  },
  {
   "cell_type": "markdown",
   "metadata": {},
   "source": [
    "# 3. Logistic Regression"
   ]
  },
  {
   "cell_type": "markdown",
   "metadata": {},
   "source": [
    "## 3.1 Preparing Data"
   ]
  },
  {
   "cell_type": "code",
   "execution_count": 116,
   "metadata": {},
   "outputs": [
    {
     "name": "stdout",
     "output_type": "stream",
     "text": [
      "(569, 30) (569,)\n"
     ]
    }
   ],
   "source": [
    "# we use the breast cancer dataset, which is a binary classification dataset, where we can use Logistic regression\n",
    "\n",
    "from sklearn.datasets import load_breast_cancer\n",
    "# extracted as numpy arrays\n",
    "X_numpy,y_numpy = load_breast_cancer(return_X_y=True)\n",
    "\n",
    "print(X_numpy.shape, y_numpy.shape)"
   ]
  },
  {
   "cell_type": "code",
   "execution_count": 117,
   "metadata": {},
   "outputs": [],
   "source": [
    "# before trying Logistic Regression, we first pass the features through Standard Scalar\n",
    "\n",
    "from sklearn.preprocessing import StandardScaler\n",
    "\n",
    "sc = StandardScaler()\n",
    "X_numpy = sc.fit_transform(X_numpy)"
   ]
  },
  {
   "cell_type": "code",
   "execution_count": 118,
   "metadata": {},
   "outputs": [],
   "source": [
    "# cast to float pyTorch Tensor\n",
    "X = torch.from_numpy(X_numpy.astype(np.float32))\n",
    "y = torch.from_numpy(y_numpy.astype(np.float32))\n",
    "# reshape y to (n,1) tensor\n",
    "y = y.view(y.shape[0], 1)"
   ]
  },
  {
   "cell_type": "code",
   "execution_count": 119,
   "metadata": {},
   "outputs": [
    {
     "name": "stdout",
     "output_type": "stream",
     "text": [
      "#samples: 569, #features: 30\n"
     ]
    }
   ],
   "source": [
    "n_samples, n_features = X.shape\n",
    "print(f'#samples: {n_samples}, #features: {n_features}')"
   ]
  },
  {
   "cell_type": "code",
   "execution_count": 120,
   "metadata": {},
   "outputs": [],
   "source": [
    "# we specify the no. of features and the output dim.\n",
    "input_dim = n_features\n",
    "\n",
    "# here output dimension is 1, as we predict the class of input by looking at the sigmoid output"
   ]
  },
  {
   "cell_type": "code",
   "execution_count": 121,
   "metadata": {},
   "outputs": [
    {
     "name": "stdout",
     "output_type": "stream",
     "text": [
      "torch.Size([483, 30]) torch.Size([86, 30])\n"
     ]
    }
   ],
   "source": [
    "# we split the data into training and test split in 8.5:1.5 ratio\n",
    "from sklearn.model_selection import train_test_split\n",
    "\n",
    "X_train, X_test, y_train, y_test = train_test_split(X, y, test_size=0.15)\n",
    "\n",
    "print(X_train.shape, X_test.shape)"
   ]
  },
  {
   "cell_type": "markdown",
   "metadata": {},
   "source": [
    "## 3.2 Creating the Model"
   ]
  },
  {
   "cell_type": "code",
   "execution_count": 130,
   "metadata": {},
   "outputs": [],
   "source": [
    "class LogisticRegression(nn.Module):\n",
    "    def __init__(self, input_dim):\n",
    "        super(LogisticRegression, self).__init__()\n",
    "        # define different layers here:\n",
    "        self.linear = nn.Linear(input_dim, 1)\n",
    "        # here output dim = 1\n",
    "    \n",
    "    def forward(self, X):\n",
    "        # we use sigmoid activation\n",
    "        y_hat = torch.sigmoid(self.linear(X))\n",
    "        return y_hat"
   ]
  },
  {
   "cell_type": "code",
   "execution_count": 131,
   "metadata": {},
   "outputs": [],
   "source": [
    "# initialise linear regression model instance\n",
    "model = LogisticRegression(input_dim)"
   ]
  },
  {
   "cell_type": "code",
   "execution_count": 132,
   "metadata": {},
   "outputs": [
    {
     "name": "stdout",
     "output_type": "stream",
     "text": [
      "Initial Accuracy on test data: 0.3023255813953488\n"
     ]
    }
   ],
   "source": [
    "# we also check the initial loss on the test data before training\n",
    "\n",
    "from sklearn.metrics import accuracy_score\n",
    "\n",
    "with torch.no_grad():\n",
    "    # this gives the sigmoid output\n",
    "    y_test_pred = model(X_test)\n",
    "    # this assigns 1 if sigmoid op is >=0.5 and 0 o.w.\n",
    "    y_test_hat = y_test_pred.round()\n",
    "    print(\"Initial Accuracy on test data:\", accuracy_score(y_test, y_test_hat))"
   ]
  },
  {
   "cell_type": "markdown",
   "metadata": {},
   "source": [
    "## 3.3 Training"
   ]
  },
  {
   "cell_type": "code",
   "execution_count": 133,
   "metadata": {},
   "outputs": [],
   "source": [
    "# in this scenario, we use the MSE Loss, with SGD optimization\n",
    "\n",
    "# learning rate\n",
    "lr = 0.01\n",
    "\n",
    "# no. of epochs\n",
    "num_epochs = 300\n",
    "\n",
    "# define loss criterion: Binary Cross Entropy loss\n",
    "criterion = nn.BCELoss()\n",
    "\n",
    "# define optimizer\n",
    "optimizer = torch.optim.SGD(model.parameters(), lr=lr)\n",
    "\n",
    "# format of optimizer: torch.optim.SGD(weights, lr, ...)"
   ]
  },
  {
   "cell_type": "code",
   "execution_count": 134,
   "metadata": {},
   "outputs": [
    {
     "name": "stdout",
     "output_type": "stream",
     "text": [
      "-----------------------\n",
      "Epoch#: 0\n",
      "Loss: tensor(0.7400, grad_fn=<BinaryCrossEntropyBackward0>)\n",
      "-----------------------\n",
      "Epoch#: 50\n",
      "Loss: tensor(0.3257, grad_fn=<BinaryCrossEntropyBackward0>)\n",
      "-----------------------\n",
      "Epoch#: 100\n",
      "Loss: tensor(0.2424, grad_fn=<BinaryCrossEntropyBackward0>)\n",
      "-----------------------\n",
      "Epoch#: 150\n",
      "Loss: tensor(0.2041, grad_fn=<BinaryCrossEntropyBackward0>)\n",
      "-----------------------\n",
      "Epoch#: 200\n",
      "Loss: tensor(0.1812, grad_fn=<BinaryCrossEntropyBackward0>)\n",
      "-----------------------\n",
      "Epoch#: 250\n",
      "Loss: tensor(0.1656, grad_fn=<BinaryCrossEntropyBackward0>)\n"
     ]
    }
   ],
   "source": [
    "for epoch in range(num_epochs):\n",
    "    # forward pass:     \n",
    "    # compute prediction\n",
    "    y_train_pred = model(X_train)\n",
    "    # compute loss\n",
    "    loss = criterion(y_train_pred, y_train)\n",
    "\n",
    "    # backward pass:\n",
    "    # compute gradients\n",
    "    loss.backward()\n",
    "\n",
    "    # update weights:\n",
    "    optimizer.step()\n",
    "    # zero-gradients after updating\n",
    "    optimizer.zero_grad()\n",
    "\n",
    "\n",
    "    # output for debugging every 20 loops\n",
    "    if epoch%50 == 0:\n",
    "        # unpack the parameters\n",
    "        print(\"-----------------------\")\n",
    "        print(\"Epoch#:\", epoch)\n",
    "        print(\"Loss:\", loss)"
   ]
  },
  {
   "cell_type": "markdown",
   "metadata": {},
   "source": [
    "## 3.4 Evaluation"
   ]
  },
  {
   "cell_type": "code",
   "execution_count": 135,
   "metadata": {},
   "outputs": [
    {
     "name": "stdout",
     "output_type": "stream",
     "text": [
      "Final Accuracy on test data: 0.9651162790697675\n"
     ]
    }
   ],
   "source": [
    "# we also check the initial loss on the test data after training\n",
    "\n",
    "from sklearn.metrics import accuracy_score\n",
    "\n",
    "with torch.no_grad():\n",
    "    # this gives the sigmoid output\n",
    "    y_test_pred = model(X_test)\n",
    "    # this assigns 1 if sigmoid op is >=0.5 and 0 o.w.\n",
    "    y_test_hat = y_test_pred.round()\n",
    "    print(\"Final Accuracy on test data:\", accuracy_score(y_test, y_test_hat))"
   ]
  }
 ],
 "metadata": {
  "kernelspec": {
   "display_name": "Python 3.10.5 ('conda_pytorch_env')",
   "language": "python",
   "name": "python3"
  },
  "language_info": {
   "codemirror_mode": {
    "name": "ipython",
    "version": 3
   },
   "file_extension": ".py",
   "mimetype": "text/x-python",
   "name": "python",
   "nbconvert_exporter": "python",
   "pygments_lexer": "ipython3",
   "version": "3.10.5"
  },
  "orig_nbformat": 4,
  "vscode": {
   "interpreter": {
    "hash": "5e3ed40c8fb4c0778cc14e83fd08fd290bb35159f9df4bcbc4cc74f240b0dd9d"
   }
  }
 },
 "nbformat": 4,
 "nbformat_minor": 2
}
