{
 "cells": [
  {
   "cell_type": "markdown",
   "metadata": {},
   "source": [
    "# 1. Imports"
   ]
  },
  {
   "cell_type": "code",
   "execution_count": 63,
   "metadata": {},
   "outputs": [],
   "source": [
    "# importing other dependencies\n",
    "import numpy as np\n",
    "import pandas as pd\n",
    "# importing PyTorch\n",
    "import torch\n",
    "# importing torch.nn Module\n",
    "import torch.nn as nn\n",
    "# to load the activation functions\n",
    "import torch.nn.functional as F\n",
    "# importing Dataset, DataLoader\n",
    "from torch.utils.data import Dataset, DataLoader, TensorDataset\n",
    "# import Compose to compose transforms\n",
    "from torchvision.transforms import Compose\n",
    "# plotting\n",
    "import matplotlib.pyplot as plt"
   ]
  },
  {
   "cell_type": "code",
   "execution_count": 64,
   "metadata": {},
   "outputs": [
    {
     "name": "stdout",
     "output_type": "stream",
     "text": [
      "True\n",
      "True\n"
     ]
    }
   ],
   "source": [
    "# checks whether MPS is available\n",
    "print(torch.backends.mps.is_available())\n",
    "\n",
    "# this ensures that the current current PyTorch installation was built with MPS activated.\n",
    "print(torch.backends.mps.is_built())\n",
    "\n",
    "# setting the device to \"mps\" instead of default \"cpu\"\n",
    "device = torch.device(\"mps\" if torch.backends.mps.is_available else \"cpu\")"
   ]
  },
  {
   "cell_type": "markdown",
   "metadata": {},
   "source": [
    "This time, we will also try training the model on GPU."
   ]
  },
  {
   "cell_type": "code",
   "execution_count": 65,
   "metadata": {},
   "outputs": [
    {
     "data": {
      "text/plain": [
       "device(type='mps')"
      ]
     },
     "execution_count": 65,
     "metadata": {},
     "output_type": "execute_result"
    }
   ],
   "source": [
    "device"
   ]
  },
  {
   "cell_type": "markdown",
   "metadata": {},
   "source": [
    "# 2. Preparing Data\n",
    "\n",
    "In this case we use the in-built `MNIST` dataset provided by PyTorch."
   ]
  },
  {
   "cell_type": "code",
   "execution_count": 66,
   "metadata": {},
   "outputs": [],
   "source": [
    "# model hyper-parameters\n",
    "input_size = 28*28\n",
    "hidden_size = 100\n",
    "num_classes = 10\n",
    "\n",
    "# others\n",
    "batch_size = 100\n",
    "num_epochs = 5\n",
    "learning_rate = 0.001"
   ]
  },
  {
   "cell_type": "code",
   "execution_count": 67,
   "metadata": {},
   "outputs": [
    {
     "name": "stdout",
     "output_type": "stream",
     "text": [
      "Size of Train Dataset: 60000\n",
      "Size of Test Dataset: 10000\n",
      "Test Shapes: torch.Size([10000, 784]) torch.Size([10000])\n"
     ]
    }
   ],
   "source": [
    "# MNIST dataset\n",
    "from torchvision.datasets import MNIST\n",
    "from torchvision.transforms import ToTensor\n",
    "from torch.utils.data import DataLoader\n",
    "\n",
    "# train\n",
    "# keep download=True, the first time\n",
    "'''\n",
    "train_dataset = MNIST(\n",
    "    root='./data/MNIST/',\n",
    "    train=True,\n",
    "    transform=ToTensor(),\n",
    "    download=True\n",
    ")\n",
    "'''\n",
    "train_dataset = MNIST(\n",
    "    root='./data/MNIST/',\n",
    "    train=True,\n",
    "    transform=ToTensor(),\n",
    "    download=False\n",
    ")\n",
    "\n",
    "\n",
    "# test\n",
    "test_dataset = MNIST(\n",
    "    root='./data/MNIST/',\n",
    "    train=False,\n",
    "    transform=ToTensor()\n",
    "    # don't have to download again\n",
    ")\n",
    "\n",
    "# DataLoader\n",
    "\n",
    "#train\n",
    "train_loader = DataLoader(\n",
    "    dataset=train_dataset,\n",
    "    batch_size=batch_size,\n",
    "    shuffle=True\n",
    ")\n",
    "\n",
    "#test\n",
    "test_loader = DataLoader(\n",
    "    dataset=test_dataset,\n",
    "    batch_size=len(test_dataset),\n",
    "    shuffle=False\n",
    ")\n",
    "\n",
    "# extracting the test dataset\n",
    "X_test, y_test = next(iter(test_loader))\n",
    "# reshaping the data\n",
    "X_test = X_test.reshape(-1, 28*28)\n",
    "# adding to GPU\n",
    "X_test, y_test = X_test.to(device), y_test.to(device)\n",
    "\n",
    "# printing info\n",
    "print(\"Size of Train Dataset:\", len(train_dataset))\n",
    "print(\"Size of Test Dataset:\", len(test_dataset))\n",
    "\n",
    "print(\"Test Shapes:\", X_test.shape, y_test.shape)"
   ]
  },
  {
   "cell_type": "markdown",
   "metadata": {},
   "source": [
    "We try visualizing a few images from the test dataset."
   ]
  },
  {
   "cell_type": "code",
   "execution_count": 78,
   "metadata": {},
   "outputs": [
    {
     "data": {
      "image/png": "[encoded data removed]",
      "text/plain": [
       "<Figure size 2000x1000 with 6 Axes>"
      ]
     },
     "metadata": {},
     "output_type": "display_data"
    }
   ],
   "source": [
    "plt.figure(figsize=(20,10))\n",
    "for i in range(6):\n",
    "    plt.subplot(2, 3, i+1)\n",
    "    # copy the image back to cpu to reshape\n",
    "    img = X_test[i].cpu()\n",
    "    # we only have a single channel image\n",
    "    plt.imshow(img.reshape(28,28), cmap='gray')\n",
    "    plt.title(\"Label= \" + str(y_test[i].item()))\n",
    "    plt.grid(False)\n",
    "    plt.axis(False)\n",
    "plt.show()"
   ]
  },
  {
   "cell_type": "markdown",
   "metadata": {},
   "source": [
    "# 3. Model\n",
    "\n",
    "We train a fully connected Neural Network with `1` hidden layer with `100` nodes. We will also train this NN on the GPU."
   ]
  },
  {
   "cell_type": "code",
   "execution_count": 69,
   "metadata": {},
   "outputs": [],
   "source": [
    "class MNIST_NN(nn.Module):\n",
    "    def __init__(self, input_size, hidden_size, num_classes):\n",
    "        super(MNIST_NN, self).__init__()\n",
    "\n",
    "        # extracting the parameters\n",
    "        self.n_features = input_size\n",
    "        self.n_classes = num_classes\n",
    "        \n",
    "        # defining the layers\n",
    "        # layer-1\n",
    "        self.l1 = nn.Linear(input_size, hidden_size)\n",
    "        self.a1 = nn.ReLU()\n",
    "\n",
    "        # layer-2\n",
    "        self.l2 = nn.Linear(hidden_size, num_classes)\n",
    "        # no softmax activation layer, will be applied by CrossEntropyLoss\n",
    "    \n",
    "    def forward(self, X):\n",
    "        # layer-1\n",
    "        out = self.a1(self.l1(X))\n",
    "        # layer-2\n",
    "        out = self.l2(out)\n",
    "        # out = self.a2(self.l2(out))\n",
    "        # no softmax activation layer, will be applied by CrossEntropyLoss\n",
    "\n",
    "        return out"
   ]
  },
  {
   "cell_type": "markdown",
   "metadata": {},
   "source": [
    "Let's initialize the mdoel and test the results on the test dataset."
   ]
  },
  {
   "cell_type": "code",
   "execution_count": 70,
   "metadata": {},
   "outputs": [
    {
     "name": "stdout",
     "output_type": "stream",
     "text": [
      "784 100 10\n"
     ]
    }
   ],
   "source": [
    "print(input_size, hidden_size, num_classes)"
   ]
  },
  {
   "cell_type": "code",
   "execution_count": 71,
   "metadata": {},
   "outputs": [],
   "source": [
    "# define the model\n",
    "model = MNIST_NN(\n",
    "    input_size=input_size,\n",
    "    hidden_size=hidden_size,\n",
    "    num_classes=num_classes\n",
    ").to(device=device)"
   ]
  },
  {
   "cell_type": "code",
   "execution_count": 72,
   "metadata": {},
   "outputs": [
    {
     "name": "stdout",
     "output_type": "stream",
     "text": [
      "Initial Accuracy on test data: 0.1112\n"
     ]
    }
   ],
   "source": [
    "# we also check the initial accuracy on the test data before training\n",
    "\n",
    "from sklearn.metrics import accuracy_score\n",
    "\n",
    "with torch.no_grad():\n",
    "    # this gives the sigmoid output\n",
    "    y_test_pred = model(X_test)\n",
    "    # this gives the index of the max column per row\n",
    "    _ , y_test_hat = torch.max(y_test_pred, dim=1)\n",
    "    # push the matrices back to cpu from gpu\n",
    "    y_test_hat_cpu = y_test_hat.cpu()\n",
    "    y_test_cpu = y_test.cpu()\n",
    "    print(\"Initial Accuracy on test data:\", accuracy_score(y_test_cpu, y_test_hat_cpu))"
   ]
  },
  {
   "cell_type": "markdown",
   "metadata": {},
   "source": [
    "# 4. Training"
   ]
  },
  {
   "cell_type": "code",
   "execution_count": 73,
   "metadata": {},
   "outputs": [],
   "source": [
    "# model hyper-parameters\n",
    "input_size = 28*28\n",
    "hidden_size = 100\n",
    "num_classes = 10\n",
    "\n",
    "# others\n",
    "batch_size = 100\n",
    "num_epochs = 5\n",
    "learning_rate = 0.001\n",
    "\n",
    "# loss and optimizer\n",
    "criterion = nn.CrossEntropyLoss()\n",
    "optimizer = torch.optim.Adam(\n",
    "    params=model.parameters(),\n",
    "    lr=learning_rate\n",
    ")"
   ]
  },
  {
   "cell_type": "code",
   "execution_count": 74,
   "metadata": {},
   "outputs": [
    {
     "name": "stdout",
     "output_type": "stream",
     "text": [
      "-------------------------------\n",
      "Epoch: 1/5\n",
      "Steps: 1/600\n",
      "Loss: 2.3135228157043457\n",
      "-------------------------------\n",
      "Epoch: 1/5\n",
      "Steps: 101/600\n",
      "Loss: 0.4019440710544586\n",
      "-------------------------------\n",
      "Epoch: 1/5\n",
      "Steps: 201/600\n",
      "Loss: 0.4629659950733185\n",
      "-------------------------------\n",
      "Epoch: 1/5\n",
      "Steps: 301/600\n",
      "Loss: 0.15815721452236176\n",
      "-------------------------------\n",
      "Epoch: 1/5\n",
      "Steps: 401/600\n",
      "Loss: 0.2503645718097687\n",
      "-------------------------------\n",
      "Epoch: 1/5\n",
      "Steps: 501/600\n",
      "Loss: 0.3130251169204712\n",
      "-------------------------------\n",
      "Epoch: 2/5\n",
      "Steps: 1/600\n",
      "Loss: 0.19367480278015137\n",
      "-------------------------------\n",
      "Epoch: 2/5\n",
      "Steps: 101/600\n",
      "Loss: 0.23341289162635803\n",
      "-------------------------------\n",
      "Epoch: 2/5\n",
      "Steps: 201/600\n",
      "Loss: 0.1696692258119583\n",
      "-------------------------------\n",
      "Epoch: 2/5\n",
      "Steps: 301/600\n",
      "Loss: 0.12929831445217133\n",
      "-------------------------------\n",
      "Epoch: 2/5\n",
      "Steps: 401/600\n",
      "Loss: 0.12378758937120438\n",
      "-------------------------------\n",
      "Epoch: 2/5\n",
      "Steps: 501/600\n",
      "Loss: 0.21300944685935974\n",
      "-------------------------------\n",
      "Epoch: 3/5\n",
      "Steps: 1/600\n",
      "Loss: 0.10877716541290283\n",
      "-------------------------------\n",
      "Epoch: 3/5\n",
      "Steps: 101/600\n",
      "Loss: 0.15077365934848785\n",
      "-------------------------------\n",
      "Epoch: 3/5\n",
      "Steps: 201/600\n",
      "Loss: 0.12462827563285828\n",
      "-------------------------------\n",
      "Epoch: 3/5\n",
      "Steps: 301/600\n",
      "Loss: 0.10625676810741425\n",
      "-------------------------------\n",
      "Epoch: 3/5\n",
      "Steps: 401/600\n",
      "Loss: 0.2429947555065155\n",
      "-------------------------------\n",
      "Epoch: 3/5\n",
      "Steps: 501/600\n",
      "Loss: 0.17517943680286407\n",
      "-------------------------------\n",
      "Epoch: 4/5\n",
      "Steps: 1/600\n",
      "Loss: 0.18975050747394562\n",
      "-------------------------------\n",
      "Epoch: 4/5\n",
      "Steps: 101/600\n",
      "Loss: 0.13872453570365906\n",
      "-------------------------------\n",
      "Epoch: 4/5\n",
      "Steps: 201/600\n",
      "Loss: 0.17272639274597168\n",
      "-------------------------------\n",
      "Epoch: 4/5\n",
      "Steps: 301/600\n",
      "Loss: 0.13109660148620605\n",
      "-------------------------------\n",
      "Epoch: 4/5\n",
      "Steps: 401/600\n",
      "Loss: 0.05827393755316734\n",
      "-------------------------------\n",
      "Epoch: 4/5\n",
      "Steps: 501/600\n",
      "Loss: 0.047279585152864456\n",
      "-------------------------------\n",
      "Epoch: 5/5\n",
      "Steps: 1/600\n",
      "Loss: 0.11256705224514008\n",
      "-------------------------------\n",
      "Epoch: 5/5\n",
      "Steps: 101/600\n",
      "Loss: 0.09566018730401993\n",
      "-------------------------------\n",
      "Epoch: 5/5\n",
      "Steps: 201/600\n",
      "Loss: 0.044992972165346146\n",
      "-------------------------------\n",
      "Epoch: 5/5\n",
      "Steps: 301/600\n",
      "Loss: 0.09846917539834976\n",
      "-------------------------------\n",
      "Epoch: 5/5\n",
      "Steps: 401/600\n",
      "Loss: 0.059697579592466354\n",
      "-------------------------------\n",
      "Epoch: 5/5\n",
      "Steps: 501/600\n",
      "Loss: 0.09002700448036194\n"
     ]
    }
   ],
   "source": [
    "# total no. of update steps\n",
    "n_total_steps = len(train_loader)\n",
    "\n",
    "for epoch in range(num_epochs):\n",
    "    # load training data in batched via train_loader\n",
    "    for (idx, batch) in enumerate(train_loader):\n",
    "        # extract features and labels\n",
    "        X_train_batch, y_train_batch = batch\n",
    "        # reshape data\n",
    "        X_train_batch = X_train_batch.reshape(-1, 28*28)\n",
    "        # adding the batch to the GPU\n",
    "        X_train_batch, y_train_batch = X_train_batch.to(device), y_train_batch.to(device)\n",
    "\n",
    "        # training processes\n",
    "        # forward pass:\n",
    "        # compute prediction\n",
    "        y_train_batch_pred = model(X_train_batch)\n",
    "        # compute loss\n",
    "        loss = criterion(y_train_batch_pred, y_train_batch)\n",
    "        # this applies soft-max by itself\n",
    "\n",
    "        # backward pass:\n",
    "        # compute gradients\n",
    "        loss.backward()\n",
    "\n",
    "        # update weights:\n",
    "        optimizer.step()\n",
    "        # zero-gradients after updating\n",
    "        optimizer.zero_grad()\n",
    "\n",
    "        # print info after every 100 mini-batches\n",
    "        if idx%100 == 0:\n",
    "            print('-------------------------------')\n",
    "            print(f'Epoch: {epoch+1}/{num_epochs}')\n",
    "            print(f'Steps: {idx+1}/{n_total_steps}')\n",
    "            print(f'Loss: {loss.item()}')\n"
   ]
  },
  {
   "cell_type": "markdown",
   "metadata": {},
   "source": [
    "# 5. Evaluation"
   ]
  },
  {
   "cell_type": "code",
   "execution_count": 75,
   "metadata": {},
   "outputs": [
    {
     "name": "stdout",
     "output_type": "stream",
     "text": [
      "Final Accuracy on test data: 0.9727\n"
     ]
    }
   ],
   "source": [
    "# we also check the final accuracy on the test data after training\n",
    "\n",
    "from sklearn.metrics import accuracy_score\n",
    "\n",
    "with torch.no_grad():\n",
    "    # this gives the sigmoid output\n",
    "    y_test_pred = model(X_test)\n",
    "    # this gives the index of the max column per row\n",
    "    _ , y_test_hat = torch.max(y_test_pred, dim=1)\n",
    "    # push the matrices back to cpu from gpu\n",
    "    y_test_hat_cpu = y_test_hat.cpu()\n",
    "    y_test_cpu = y_test.cpu()\n",
    "    print(\"Final Accuracy on test data:\", accuracy_score(y_test_cpu, y_test_hat_cpu))"
   ]
  },
  {
   "cell_type": "markdown",
   "metadata": {},
   "source": [
    "Note: The accuracy has improved from `11.12%` to `97.27%`.\n",
    "\n",
    "We, can also visualize some of the predictions."
   ]
  },
  {
   "cell_type": "code",
   "execution_count": 76,
   "metadata": {},
   "outputs": [
    {
     "data": {
      "image/png": "[encoded data removed]",
      "text/plain": [
       "<Figure size 2000x2000 with 16 Axes>"
      ]
     },
     "metadata": {},
     "output_type": "display_data"
    }
   ],
   "source": [
    "plt.figure(figsize=(20,20))\n",
    "for i in range(16):\n",
    "    # prediction\n",
    "    with torch.no_grad():\n",
    "        y_pred = model(X_test[i])\n",
    "        y_hat = torch.argmax(y_pred)\n",
    "    \n",
    "    plt.subplot(4, 4, i+1)\n",
    "    # copy the image back to cpu to reshape\n",
    "    img = X_test[i].cpu()\n",
    "    # we only have a single channel image\n",
    "    plt.imshow(img.reshape(28,28), cmap='gray')\n",
    "    plt.title(\"Actual: \" + str(y_test[i].item()) + \" | Predicted: \" + str(y_hat.item()))\n",
    "    plt.grid(False)\n",
    "    plt.axis(False)\n",
    "plt.show()"
   ]
  },
  {
   "cell_type": "markdown",
   "metadata": {},
   "source": [
    "As we can see, this is fairly good at identifying the handwritten images."
   ]
  }
 ],
 "metadata": {
  "kernelspec": {
   "display_name": "Python 3.10.5 ('conda_pytorch_env')",
   "language": "python",
   "name": "python3"
  },
  "language_info": {
   "codemirror_mode": {
    "name": "ipython",
    "version": 3
   },
   "file_extension": ".py",
   "mimetype": "text/x-python",
   "name": "python",
   "nbconvert_exporter": "python",
   "pygments_lexer": "ipython3",
   "version": "3.10.8"
  },
  "orig_nbformat": 4,
  "vscode": {
   "interpreter": {
    "hash": "5e3ed40c8fb4c0778cc14e83fd08fd290bb35159f9df4bcbc4cc74f240b0dd9d"
   }
  }
 },
 "nbformat": 4,
 "nbformat_minor": 2
}
