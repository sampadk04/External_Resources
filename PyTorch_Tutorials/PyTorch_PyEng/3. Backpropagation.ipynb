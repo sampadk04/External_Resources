{
 "cells": [
  {
   "cell_type": "markdown",
   "metadata": {},
   "source": [
    "# 1. Imports"
   ]
  },
  {
   "cell_type": "code",
   "execution_count": 2,
   "metadata": {},
   "outputs": [],
   "source": [
    "# importing other dependencies\n",
    "import numpy as np"
   ]
  },
  {
   "cell_type": "code",
   "execution_count": 3,
   "metadata": {},
   "outputs": [
    {
     "name": "stdout",
     "output_type": "stream",
     "text": [
      "True\n",
      "True\n"
     ]
    }
   ],
   "source": [
    "# importing PyTorch\n",
    "import torch\n",
    "\n",
    "# checks whether MPS is available\n",
    "print(torch.backends.mps.is_available())\n",
    "\n",
    "# this ensures that the current current PyTorch installation was built with MPS activated.\n",
    "print(torch.backends.mps.is_built())\n",
    "\n",
    "# setting the device to \"mps\" instead of default \"cpu\"\n",
    "device = torch.device(\"mps\" if torch.backends.mps.is_available else \"cpu\")"
   ]
  },
  {
   "cell_type": "markdown",
   "metadata": {},
   "source": [
    "# 2. Backpropagation\n",
    "\n",
    "**Backpropagation** consists of 3 steps:\n",
    "1. **Forward Pass:** Compute Loss\n",
    "2. **Compute Local Gradients**\n",
    "3. **Backward Pass:** Compute $\\frac{\\partial \\text{ loss}}{\\partial \\text{ weight}}$ using the Chain Rule"
   ]
  },
  {
   "cell_type": "markdown",
   "metadata": {},
   "source": [
    "# 3.1. Example: Manual Calculation\n",
    "\n",
    "- ![](https://i.postimg.cc/rmG15524/image.png)\n",
    "- ![](https://i.postimg.cc/9FsDFzvH/image.png)\n",
    "- ![](https://i.postimg.cc/HLzW5LPx/image.png)"
   ]
  },
  {
   "cell_type": "markdown",
   "metadata": {},
   "source": [
    "# 3.2. Example: PyTorch Calculation"
   ]
  },
  {
   "cell_type": "code",
   "execution_count": 8,
   "metadata": {},
   "outputs": [],
   "source": [
    "# we have the training data (x,y) = (1,2)\n",
    "x = torch.tensor(1.0)\n",
    "y = torch.tensor(2.0)\n",
    "\n",
    "# we have the initial weight\n",
    "w = torch.tensor(1.0, requires_grad=True)"
   ]
  },
  {
   "cell_type": "code",
   "execution_count": 9,
   "metadata": {},
   "outputs": [
    {
     "name": "stdout",
     "output_type": "stream",
     "text": [
      "tensor(1., grad_fn=<PowBackward0>)\n",
      "tensor(-2.)\n"
     ]
    }
   ],
   "source": [
    "# forward pass to compute loss\n",
    "y_predicted = w * x\n",
    "loss = (y_predicted - y)**2\n",
    "print(loss)\n",
    "\n",
    "# backward pass to compute gradient dLoss/dw\n",
    "loss.backward()\n",
    "print(w.grad)\n",
    "\n",
    "# this is same as the computation done above (manually) i.e. we get the value -2"
   ]
  },
  {
   "cell_type": "code",
   "execution_count": 10,
   "metadata": {},
   "outputs": [
    {
     "name": "stdout",
     "output_type": "stream",
     "text": [
      "tensor(1.0200, requires_grad=True)\n"
     ]
    }
   ],
   "source": [
    "# while training a neural network, we continue doing this:\n",
    "\n",
    "# update weights\n",
    "# next forward and backward pass...\n",
    "\n",
    "# continue optimizing:\n",
    "# update weights, this operation should not be part of the computational graph\n",
    "with torch.no_grad():\n",
    "    w -= 0.01 * w.grad\n",
    "# don't forget to zero the gradients\n",
    "w.grad.zero_()\n",
    "\n",
    "# next forward and backward pass...\n",
    "print(w)\n",
    "\n",
    "# we get a slightly higher weight after the first update"
   ]
  }
 ],
 "metadata": {
  "kernelspec": {
   "display_name": "Python 3.10.5 ('conda_pytorch_env')",
   "language": "python",
   "name": "python3"
  },
  "language_info": {
   "codemirror_mode": {
    "name": "ipython",
    "version": 3
   },
   "file_extension": ".py",
   "mimetype": "text/x-python",
   "name": "python",
   "nbconvert_exporter": "python",
   "pygments_lexer": "ipython3",
   "version": "3.10.5"
  },
  "orig_nbformat": 4,
  "vscode": {
   "interpreter": {
    "hash": "5e3ed40c8fb4c0778cc14e83fd08fd290bb35159f9df4bcbc4cc74f240b0dd9d"
   }
  }
 },
 "nbformat": 4,
 "nbformat_minor": 2
}
