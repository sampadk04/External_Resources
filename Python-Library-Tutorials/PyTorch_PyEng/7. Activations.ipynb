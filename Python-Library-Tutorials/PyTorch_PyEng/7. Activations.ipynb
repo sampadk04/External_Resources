{
 "cells": [
  {
   "cell_type": "markdown",
   "metadata": {},
   "source": [
    "# 1. Imports"
   ]
  },
  {
   "cell_type": "code",
   "execution_count": 4,
   "metadata": {},
   "outputs": [],
   "source": [
    "# importing other dependencies\n",
    "import numpy as np\n",
    "import pandas as pd\n",
    "# importing PyTorch\n",
    "import torch\n",
    "# importing torch.nn Module\n",
    "import torch.nn as nn\n",
    "# to load the activation functions\n",
    "import torch.nn.functional as F\n",
    "# importing Dataset, DataLoader\n",
    "from torch.utils.data import Dataset, DataLoader, TensorDataset\n",
    "# import Compose to compose transforms\n",
    "from torchvision.transforms import Compose\n",
    "# plotting\n",
    "import matplotlib.pyplot as plt"
   ]
  },
  {
   "cell_type": "code",
   "execution_count": 3,
   "metadata": {},
   "outputs": [
    {
     "name": "stdout",
     "output_type": "stream",
     "text": [
      "True\n",
      "True\n"
     ]
    }
   ],
   "source": [
    "# checks whether MPS is available\n",
    "print(torch.backends.mps.is_available())\n",
    "\n",
    "# this ensures that the current current PyTorch installation was built with MPS activated.\n",
    "print(torch.backends.mps.is_built())\n",
    "\n",
    "# setting the device to \"mps\" instead of default \"cpu\"\n",
    "device = torch.device(\"mps\" if torch.backends.mps.is_available else \"cpu\")"
   ]
  },
  {
   "cell_type": "markdown",
   "metadata": {},
   "source": [
    "# 2. Activation in NNs\n",
    "\n",
    "In the process of building a neural network, one of the choices we make is what `Activation Function` to use in the hidden layer as well as at the output layer of the network.\n",
    "\n",
    "The activation function decides whether a neuron should be activated or not by calculating the weighted sum and further adding bias to it. The purpose of the activation function is to introduce non-linearity into the output of a neuron.\n",
    "\n",
    "We can import the activation functions via-\n",
    "- `torch.nn.activation_function`\n",
    "- `torch.nn.functional.activation_function`\n",
    "- `torch.activation_function`"
   ]
  },
  {
   "cell_type": "markdown",
   "metadata": {},
   "source": [
    "# 3. Examples\n",
    "\n",
    "We now take a look at a few activation functions"
   ]
  },
  {
   "cell_type": "markdown",
   "metadata": {},
   "source": [
    "## 3.1 Sigmoid"
   ]
  },
  {
   "cell_type": "code",
   "execution_count": 33,
   "metadata": {},
   "outputs": [
    {
     "data": {
      "image/png": "[encoded data removed]",
      "text/plain": [
       "<Figure size 432x288 with 1 Axes>"
      ]
     },
     "metadata": {
      "needs_background": "light"
     },
     "output_type": "display_data"
    }
   ],
   "source": [
    "# define the activation\n",
    "f = nn.Sigmoid()\n",
    "\n",
    "# plot\n",
    "x = np.linspace(-10,10,100)\n",
    "x = torch.from_numpy(x.astype(np.float32))\n",
    "\n",
    "plt.figure()\n",
    "\n",
    "plt.plot(x, f(x), 'b')\n",
    "\n",
    "plt.grid(True)\n",
    "\n",
    "plt.xlabel('X-axis')\n",
    "plt.ylabel('Y-axis')\n",
    "plt.xticks([-4, -3, -2, -1, 0, 1, 2, 3, 4])\n",
    "plt.yticks([-2, -1, 0, 1, 2])\n",
    "plt.ylim(-2, 2)\n",
    "plt.xlim(-4, 4)\n",
    "\n",
    "plt.title(\"Sigmoid\")\n",
    "\n",
    "plt.show()"
   ]
  },
  {
   "cell_type": "markdown",
   "metadata": {},
   "source": [
    "## 3.2 Softmax"
   ]
  },
  {
   "cell_type": "code",
   "execution_count": 37,
   "metadata": {},
   "outputs": [
    {
     "name": "stdout",
     "output_type": "stream",
     "text": [
      "tensor([[-10.,   0.,  10.]])\n",
      "tensor([[2.0611e-09, 4.5398e-05, 9.9995e-01]])\n"
     ]
    }
   ],
   "source": [
    "# define the activation\n",
    "f = nn.Softmax(dim=1)\n",
    "\n",
    "x = torch.tensor([[-10, 0, 10]], dtype=torch.float32)\n",
    "print(x)\n",
    "y = f(x)\n",
    "print(y)"
   ]
  },
  {
   "cell_type": "markdown",
   "metadata": {},
   "source": [
    "**NOTE:**\n",
    "\n",
    "`nn.CrossEntropyLoss()` applies softmax first and takes class labels as the target class.\n",
    "\n",
    "For Example:\n",
    "```Python\n",
    "criterion = nn.CrossEntropyLoss()\n",
    "# suppose we are looking at MNIST Handwritten data\n",
    "labels = [[1], [2], [0], [3]]\n",
    "# these are outputs before applying softmax (softmax is applied by `nn.CrossEntropyLoss()`)\n",
    "preds = [op1, op2, op3, op4]\n",
    "# calculate the loss\n",
    "loss = criterion(preds, labels)\n",
    "```"
   ]
  },
  {
   "cell_type": "markdown",
   "metadata": {},
   "source": [
    "## 3.3 ReLu"
   ]
  },
  {
   "cell_type": "code",
   "execution_count": 38,
   "metadata": {},
   "outputs": [
    {
     "data": {
      "image/png": "[encoded data removed]",
      "text/plain": [
       "<Figure size 432x288 with 1 Axes>"
      ]
     },
     "metadata": {
      "needs_background": "light"
     },
     "output_type": "display_data"
    }
   ],
   "source": [
    "# define the activation\n",
    "f = nn.ReLU()\n",
    "\n",
    "# plot\n",
    "x = np.linspace(-10,10,100)\n",
    "x = torch.from_numpy(x.astype(np.float32))\n",
    "\n",
    "plt.figure()\n",
    "\n",
    "plt.plot(x, f(x), 'b')\n",
    "\n",
    "plt.grid(True)\n",
    "\n",
    "plt.xlabel('X-axis')\n",
    "plt.ylabel('Y-axis')\n",
    "plt.xticks([-4, -3, -2, -1, 0, 1, 2, 3, 4])\n",
    "plt.yticks([-2, -1, 0, 1, 2])\n",
    "plt.ylim(-2, 2)\n",
    "plt.xlim(-4, 4)\n",
    "\n",
    "plt.title(\"ReLu\")\n",
    "\n",
    "plt.show()"
   ]
  },
  {
   "cell_type": "markdown",
   "metadata": {},
   "source": [
    "## 3.4 Tanh"
   ]
  },
  {
   "cell_type": "code",
   "execution_count": 39,
   "metadata": {},
   "outputs": [
    {
     "data": {
      "image/png": "[encoded data removed]",
      "text/plain": [
       "<Figure size 432x288 with 1 Axes>"
      ]
     },
     "metadata": {
      "needs_background": "light"
     },
     "output_type": "display_data"
    }
   ],
   "source": [
    "# define the activation\n",
    "f = nn.Tanh()\n",
    "\n",
    "# plot\n",
    "x = np.linspace(-10,10,100)\n",
    "x = torch.from_numpy(x.astype(np.float32))\n",
    "\n",
    "plt.figure()\n",
    "\n",
    "plt.plot(x, f(x), 'b')\n",
    "\n",
    "plt.grid(True)\n",
    "\n",
    "plt.xlabel('X-axis')\n",
    "plt.ylabel('Y-axis')\n",
    "plt.xticks([-4, -3, -2, -1, 0, 1, 2, 3, 4])\n",
    "plt.yticks([-2, -1, 0, 1, 2])\n",
    "plt.ylim(-2, 2)\n",
    "plt.xlim(-4, 4)\n",
    "\n",
    "plt.title(\"Tanh\")\n",
    "\n",
    "plt.show()"
   ]
  },
  {
   "cell_type": "markdown",
   "metadata": {},
   "source": [
    "## 3.5 L-ReLu"
   ]
  },
  {
   "cell_type": "code",
   "execution_count": 40,
   "metadata": {},
   "outputs": [
    {
     "data": {
      "image/png": "[encoded data removed]",
      "text/plain": [
       "<Figure size 432x288 with 1 Axes>"
      ]
     },
     "metadata": {
      "needs_background": "light"
     },
     "output_type": "display_data"
    }
   ],
   "source": [
    "# define the activation\n",
    "f = nn.LeakyReLU(negative_slope=0.1)\n",
    "\n",
    "# plot\n",
    "x = np.linspace(-10,10,100)\n",
    "x = torch.from_numpy(x.astype(np.float32))\n",
    "\n",
    "plt.figure()\n",
    "\n",
    "plt.plot(x, f(x), 'b')\n",
    "\n",
    "plt.grid(True)\n",
    "\n",
    "plt.xlabel('X-axis')\n",
    "plt.ylabel('Y-axis')\n",
    "plt.xticks([-4, -3, -2, -1, 0, 1, 2, 3, 4])\n",
    "plt.yticks([-2, -1, 0, 1, 2])\n",
    "plt.ylim(-2, 2)\n",
    "plt.xlim(-4, 4)\n",
    "\n",
    "plt.title(\"ReLu\")\n",
    "\n",
    "plt.show()"
   ]
  },
  {
   "cell_type": "markdown",
   "metadata": {},
   "source": [
    "# 4. Defining multi-layered NNs\n",
    "\n",
    "We define the layers of the Neural Network inside a custom wrapper class created on top of the `nn.Module` class. We can define these in 2 ways as described below.\n",
    "\n",
    "As an example we will implement this on a fully connected Neural Network with single hidden layer."
   ]
  },
  {
   "cell_type": "markdown",
   "metadata": {},
   "source": [
    "## 4.1 Method 1\n",
    "\n",
    "In this case we define both the linear layers and activation layers inside the `__init__` method of the model class instead of defining the activations in the `forward` method.\n",
    "\n",
    "Since, we are going to define the activation layers inside the `__init__` method itself along with the other linear layers, we need to use `nn.activation_function()` as it created a `nn.Module` which makes sure that it is being added to the `nn.Sequential` model.\n",
    "\n",
    "```Python\n",
    "class NeuralNet(nn.Module):\n",
    "    # input_size : # of features in an input, hidden_size: # nodes in hidden layer, num_classes: # of classes in the output (classification problem)\n",
    "    def __init__(self, input_size, hidden_size, num_classes):\n",
    "        super(NeuralNet, self).__init__()\n",
    "        \n",
    "        # store the important variables\n",
    "        self.n_features = input_size\n",
    "        self.n_classes = num_classes\n",
    "        \n",
    "        #define the linear and activation layers here\n",
    "        \n",
    "        # input layer\n",
    "        # linear layer 1\n",
    "        self.linear1 = nn.Linear(input_size, hidden_size)\n",
    "        # activation layer 1\n",
    "        self.act1 = nn.ReLU()\n",
    "        \n",
    "        # hidden layer\n",
    "        # linear layer 2\n",
    "        self.linear2 = nn.Linear(hidden_size, num_classes)\n",
    "        # this is not required because nn.CrossEntropyLoss() already applies Softmax\n",
    "        # activation layer 2\n",
    "        # self.act2 = nn.Softmax(dim=1)\n",
    "    \n",
    "    def forward(self, X):\n",
    "        # layer-1\n",
    "        out = self.act1(self.linear1(X))\n",
    "        # layer-2\n",
    "        out = self.linear2(out)\n",
    "        # out = self.act2(self.linear2(out))\n",
    "        # no Softmax at the end\n",
    "        return out\n",
    "\n",
    "\n",
    "# model hyper-parameters\n",
    "input_size = 28*28\n",
    "hidden_size = 100\n",
    "num_classes = 10\n",
    "\n",
    "model = NeuralNet(\n",
    "    input_size, hidden_size, num_classes\n",
    ")\n",
    "\n",
    "```"
   ]
  },
  {
   "cell_type": "markdown",
   "metadata": {},
   "source": [
    "## 4.2 Method 2\n",
    "\n",
    "In this case we define the linear layers inside the `__init__` method of the model class and define the activations in the `forward` method.\n",
    "\n",
    "Since, we are going to define the activation layers inside the `forward` method, we need to use `torch.activation_function` or `nn.Functional.activation_function` functional API call.\n",
    "\n",
    "```Python\n",
    "class NeuralNet(nn.Module):\n",
    "    # input_size : # of features in an input, hidden_size: # nodes in hidden layer, num_classes: # of classes in the output (classification problem)\n",
    "    def __init__(self, input_size, hidden_size, num_classes):\n",
    "        super(NeuralNet, self).__init__()\n",
    "        \n",
    "        # store the important variables\n",
    "        self.n_features = input_size\n",
    "        self.n_classes = num_classes\n",
    "        \n",
    "        #define the linear and activation layers here\n",
    "        \n",
    "        # input layer\n",
    "        # linear layer 1\n",
    "        self.linear1 = nn.Linear(input_size, hidden_size)\n",
    "        \n",
    "        # hidden layer\n",
    "        # linear layer 2\n",
    "        self.linear2 = nn.Linear(hidden_size, num_classes)\n",
    "    \n",
    "    def forward(self, X):\n",
    "        # output layer 1\n",
    "        out = torch.relu(self.linear1(X))\n",
    "        # output layer 2\n",
    "        # out = torch.softmax(self.linear2(out))\n",
    "        out = self.linear2(out)\n",
    "        # no softmax because `nn.CrossEntropyLoss()` already applies Softmax\n",
    "        return out\n",
    "\n",
    "\n",
    "# model hyper-parameters\n",
    "input_size = 28*28\n",
    "hidden_size = 100\n",
    "num_classes = 10\n",
    "\n",
    "model = NeuralNet(\n",
    "    input_size, hidden_size, num_classes\n",
    ")\n",
    "\n",
    "```"
   ]
  }
 ],
 "metadata": {
  "kernelspec": {
   "display_name": "Python 3.10.5 ('conda_pytorch_env')",
   "language": "python",
   "name": "python3"
  },
  "language_info": {
   "codemirror_mode": {
    "name": "ipython",
    "version": 3
   },
   "file_extension": ".py",
   "mimetype": "text/x-python",
   "name": "python",
   "nbconvert_exporter": "python",
   "pygments_lexer": "ipython3",
   "version": "3.10.8"
  },
  "orig_nbformat": 4,
  "vscode": {
   "interpreter": {
    "hash": "5e3ed40c8fb4c0778cc14e83fd08fd290bb35159f9df4bcbc4cc74f240b0dd9d"
   }
  }
 },
 "nbformat": 4,
 "nbformat_minor": 2
}
